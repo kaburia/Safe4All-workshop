{
  "cells": [
    {
      "cell_type": "markdown",
      "metadata": {
        "id": "7B54WfG-4Woc"
      },
      "source": [
        "# Safe4All Workshop\n",
        "\n",
        "The primary objective is to equip national meteorological agencies with the skills to access, explore, and apply the high-resolution reanalysis dataset. A specific focus will be on understanding severe weather events, such as extreme rainfall, high winds, and temperature anomalies, and comparing this with the annual yield by FAOSTAT.<br><br>\n",
        "\n",
        "###  Objectives\n",
        "1. Understanding and Accessing the data in Ghana, Kenya and ZImbabwe (CBAM, ERA5, CHIRPS, TAMSAT, TAHMO and NOAA ground stations)\n",
        "2. Applying the data to Severe weather forecasting\n",
        "3. Looking at the yield for the different regions\n",
        "<br>\n",
        "<br>\n",
        "\n",
        "## Understanding the data\n",
        "1. TAHMO (Trans-African Hydro-Meteorological Observatory)\n",
        "  - Provides high-resolution weather and climate data collected from a network of ground stations across Africa. <br>\n",
        "  [TAHMO Website](https://tahmo.org/)\n",
        "\n",
        "2. CBAM\n",
        "  - Offers data and analytical tools for monitoring and assessing climate and environmental conditions.\n",
        "\n",
        "3. Global Historical Climatology Network daily (GHCNd)\n",
        "  - The Global Historical Climatology Network daily (GHCNd) is an integrated database of daily climate summaries from land surface stations across the globe\n",
        "  - GHCNd contains records from more than 100,000 stations in 180 countries and territories.<br>\n",
        "  [NCEI Ground Stations](https://www.ncei.noaa.gov/products/land-based-station/global-historical-climatology-network-daily)\n",
        "\n",
        "4. ECMWF Reanalysis v5 (ERA5)\n",
        "  - Provides a comprehensive, global reanalysis of historical weather and climate data from the European Centre for Medium-Range Weather Forecasts.<br>\n",
        "  [ERA5 Website](https://www.ecmwf.int/en/forecasts/dataset/ecmwf-reanalysis-v5)\n",
        "\n",
        "5. CHIRPS (Climate Hazards Group InfraRed Precipitation with Station Data)\n",
        "  - CHIRPS incorporates 0.05° resolution satellite imagery with insitu station data to create gridded rainfall time series for trend analysis and seasonal drought monitoring. <BR>\n",
        "  [CHIRPS Website](https://www.icpac.net/data-center/chirps/)\n",
        "\n",
        "6. TAMSAT (Tropical Applications of Meteorology using SATellite data)\n",
        "  - Enhances the capacity of African meteorological agencies and other organisations by providing and supporting the use of satellite-based rainfall estimates, soil moisture estimates and forecasts, and related data products.<br>\n",
        "  [TAMSAT Website](https://research.reading.ac.uk/tamsat/)\n",
        "\n",
        "7. FAOSTAT (Food and Agriculture Organization Statistics)\n",
        "  - FAOSTAT provides free access to food and agriculture statistics (including crop, livestock, and forestry sub-sectors) for over 245 countries and territories and covers all FAO regional groupings from 1961 to the most recent year available.<br>\n",
        "  [FAOSTAT Website](https://www.fao.org/faostat/en/#home)\n",
        "<br><br>\n",
        "\n",
        "### Requirements\n",
        "- API access to TAHMO\n",
        "- API Access to CBAM\n",
        "- Token Access from NCEI\n",
        "- Google Account"
      ]
    },
    {
      "cell_type": "markdown",
      "metadata": {
        "id": "cSl5rB8WEsk1"
      },
      "source": [
        "## Dependencies"
      ]
    },
    {
      "cell_type": "code",
      "execution_count": null,
      "metadata": {
        "colab": {
          "base_uri": "https://localhost:8080/",
          "height": 1000
        },
        "id": "2zkG_p0jEtSG",
        "outputId": "4c2bccfa-34ff-4a5e-f606-e9ac9b7b86f1"
      },
      "outputs": [],
      "source": [
        "%pip install -r requirements.txt"
      ]
    },
    {
      "cell_type": "code",
      "execution_count": null,
      "metadata": {
        "colab": {
          "base_uri": "https://localhost:8080/"
        },
        "id": "FAY-T5Uq2v0y",
        "outputId": "aeab24fa-8111-4368-fee1-7869ff2a5090"
      },
      "outputs": [],
      "source": [
        "!jupyter nbextension enable --py widgetsnbextension\n"
      ]
    },
    {
      "cell_type": "code",
      "execution_count": null,
      "metadata": {
        "id": "Q6pQ_ZTJ2jLM"
      },
      "outputs": [],
      "source": [
        "import ee\n",
        "import pandas as pd\n",
        "import numpy as np\n",
        "import xarray as xr\n",
        "import matplotlib.pyplot as plt\n",
        "import matplotlib.animation as animation\n",
        "import matplotlib.colors\n",
        "import math\n",
        "import datetime\n",
        "import io\n",
        "from tqdm import tqdm\n",
        "from datetime import datetime, timedelta\n",
        "from IPython.display import HTML, display\n",
        "import cartopy.crs as ccrs\n",
        "import cartopy.feature as cfeature\n",
        "from filter_stations import retreive_data, Filter\n",
        "import base64\n",
        "import json\n",
        "import requests\n",
        "import os\n",
        "\n",
        "curr_dir = os.getcwd()\n"
      ]
    },
    {
      "cell_type": "code",
      "execution_count": null,
      "metadata": {
        "id": "5bm0W8t45qO1"
      },
      "outputs": [],
      "source": [
        "config_path = 'config.json'\n",
        "\n",
        "with open(config_path) as f:\n",
        "    config = json.load(f)\n",
        "\n",
        "# authenticate the api\n",
        "api_key = config['apiKey']\n",
        "api_secret = config['apiSecret']\n",
        "maps_key = config['map_api_key']\n",
        "\n",
        "ret = retreive_data(api_key, api_secret, maps_key)\n",
        "fs = Filter(api_key, api_secret, maps_key)"
      ]
    },
    {
      "cell_type": "code",
      "execution_count": null,
      "metadata": {},
      "outputs": [],
      "source": [
        "import sys\n",
        "sys.path.append('utils')"
      ]
    },
    {
      "cell_type": "code",
      "execution_count": null,
      "metadata": {
        "id": "5rJvOudu1-Pr"
      },
      "outputs": [],
      "source": [
        "# Load the different helper functions\n",
        "from utils.helpers import df_to_xarray, get_region_geojson, bbox_from_polygon # General helper functions\n",
        "from utils.CBAM_helpers import CBAMClient, extract_cbam_data # CBAM helper functions\n",
        "from utils.ERA5_helpers import era5_var_handling, era5_data_extracts # ERA5 helper functions\n",
        "from utils.CHIRPS_helpers import extract_chirps_daily # CHIRPS helper functions\n",
        "from utils.plotting import select, scale, plot_xarray_data, plot_xarray_data2, compare_xarray_datasets, compare_xarray_datasets2 # Plotting helper functions\n",
        "from utils.GHCN_stations import subset_stations_in_bbox # GHCN station helper functions\n",
        "from utils.faostat_helpers import fetch_yield_data, get_crop_code, get_country_code # FAOSTAT helper functions\n",
        "from utils.ground_stations import plot_stations_folium"
      ]
    },
    {
      "cell_type": "markdown",
      "metadata": {},
      "source": [
        "### Create Config file\n",
        "```json\n",
        "{\n",
        "    \"apiKey\": \"\", # TAHMO api key \n",
        "    \"apiSecret\": \"\", # TAHMO API Secret\n",
        "    \"map_api_key\": \"\", # Google Maps API Key\n",
        "    \"cbam_api_key\": \"\",\n",
        "    \"noaa_stations_token\": \"\",\n",
        "    \"username\": \"\", # CBAM GAP Username\n",
        "    \"password\": \"\" # CBAM GAP Password\n",
        "}"
      ]
    },
    {
      "cell_type": "markdown",
      "metadata": {},
      "source": [
        "### Region of Interest Coordinates"
      ]
    },
    {
      "cell_type": "markdown",
      "metadata": {},
      "source": [
        "### Accra Centre Point"
      ]
    },
    {
      "cell_type": "code",
      "execution_count": null,
      "metadata": {},
      "outputs": [],
      "source": [
        "# Get Accra Coordinates\n",
        "accra_lat, accra_lon = fs.centre_point('Accra')\n",
        "# Get 100 km within Accra region\n",
        "accra_bbox = fs.compute_filter(accra_lat, accra_lon, 100)"
      ]
    },
    {
      "cell_type": "markdown",
      "metadata": {},
      "source": [
        "### Ghana Region"
      ]
    },
    {
      "cell_type": "code",
      "execution_count": null,
      "metadata": {},
      "outputs": [],
      "source": [
        "region_name = \"East Africa\"\n",
        "geojson = get_region_geojson(region_name, maps_key)\n",
        "print(json.dumps(geojson, indent=2))"
      ]
    },
    {
      "cell_type": "markdown",
      "metadata": {
        "id": "pJd0eW-EBfTC"
      },
      "source": [
        "## Extracting CBAM data\n",
        "1. Request API access to extract the data set\n",
        "2. Get the coordinates of the Kigali region\n",
        "3. Extract the data\n",
        "4. Visualise the image of the data in Kigali region from 2012 for total precipitation and minimum and maximum\n"
      ]
    },
    {
      "cell_type": "code",
      "execution_count": null,
      "metadata": {
        "colab": {
          "base_uri": "https://localhost:8080/"
        },
        "id": "jvOBcJV9-FYw",
        "outputId": "d892c7dc-119e-48bb-a158-7aea22dfba83"
      },
      "outputs": [],
      "source": [
        "# Define parameters as shown in the docs\n",
        "product = 'cbam_historical_analysis'\n",
        "attribs = [\"max_temperature\", \"min_temperature\", \"total_rainfall\"]\n",
        "start_date = '2023-01-01'\n",
        "end_date = '2023-01-31'\n",
        "bbox = bbox_from_polygon(\"Kenya\", maps_key=maps_key)\n",
        "print(bbox)\n",
        "\n",
        "# Create a client and extract data\n",
        "client = CBAMClient('config.json')\n",
        "cbam_data = extract_cbam_data(start_date=start_date, end_date=end_date, \n",
        "                         attributes=attribs, cbam_client=client, bbox=bbox,\n",
        "                         output_type='csv')\n"
      ]
    },
    {
      "cell_type": "code",
      "execution_count": null,
      "metadata": {
        "colab": {
          "base_uri": "https://localhost:8080/",
          "height": 300
        },
        "id": "GDayWwAHANdg",
        "outputId": "cbee7fcc-e810-4719-d93b-4bab270a3218"
      },
      "outputs": [],
      "source": [
        "cbam_data"
      ]
    },
    {
      "cell_type": "code",
      "execution_count": null,
      "metadata": {},
      "outputs": [],
      "source": [
        "plot_xarray_data2(\n",
        "    xarray_ds=cbam_data,\n",
        "    fig_title=\"Multi-variable Analysis CBAM Kenya\",\n",
        "    columns=[\"max_temperature\", \"min_temperature\", \"total_rainfall\"],\n",
        "    plot_size=6,\n",
        "    region_name=\"Kenya\",\n",
        "    maps_key=maps_key,\n",
        "    save=True\n",
        ")"
      ]
    },
    {
      "cell_type": "code",
      "execution_count": null,
      "metadata": {},
      "outputs": [],
      "source": [
        "# Define parameters as shown in the docs\n",
        "product = 'cbam_historical_analysis'\n",
        "attribs = [\"max_temperature\", \"min_temperature\", \"total_rainfall\"]\n",
        "start_date = '2023-01-01'\n",
        "end_date = '2023-01-07'\n",
        "bbox = bbox_from_polygon(\"Africa\", maps_key=maps_key)\n",
        "print(bbox)\n",
        "\n",
        "# Create a client and extract data\n",
        "client = CBAMClient('config.json')\n",
        "cbam_data = extract_cbam_data(start_date=start_date, end_date=end_date, \n",
        "                         attributes=attribs, cbam_client=client, bbox=bbox,\n",
        "                         output_type='csv')\n"
      ]
    },
    {
      "cell_type": "code",
      "execution_count": null,
      "metadata": {},
      "outputs": [],
      "source": [
        "# sort the latitudes\n",
        "cbam_data = cbam_data.sortby('lat')\n",
        "# sort the longitudes\n",
        "cbam_data = cbam_data.sortby('lon')"
      ]
    },
    {
      "cell_type": "code",
      "execution_count": null,
      "metadata": {},
      "outputs": [],
      "source": [
        "cbam_data['max_temperature'].isel(time=0).plot(\n",
        "    x=\"lon\", y=\"lat\", \n",
        "    cmap=\"viridis\", \n",
        "    robust=True,\n",
        "    subplot_kws={\"projection\": ccrs.PlateCarree()},\n",
        "    transform=ccrs.PlateCarree()\n",
        ")\n"
      ]
    },
    {
      "cell_type": "code",
      "execution_count": null,
      "metadata": {},
      "outputs": [],
      "source": [
        "# Plot the data\n",
        "plot_xarray_data2(\n",
        "    xarray_ds=cbam_data,\n",
        "    fig_title=\"Multi-variable Analysis CBAM Africa\",\n",
        "    columns=[\"max_temperature\", \"min_temperature\", \"total_rainfall\"],\n",
        "    plot_size=6,\n",
        "    region_name=\"Africa\",\n",
        "    maps_key=maps_key\n",
        ")"
      ]
    },
    {
      "cell_type": "markdown",
      "metadata": {
        "id": "K-cVMjvqBfHh"
      },
      "source": [
        "## Extracting ERA5 data\n",
        "\n",
        "1. Set up Google Earth Engine Project to access and extract the data\n",
        "2. Visualise the image of the data in Kigali and Nairobi region from 1970 for temperature, rainfall and windspeed\n",
        "\n",
        "### Steps to setting up Google Earth Engine Project"
      ]
    },
    {
      "cell_type": "markdown",
      "metadata": {
        "id": "neLlYTNQLdE4"
      },
      "source": [
        "1. Get started from the link https://code.earthengine.google.com/register\n",
        "![image.png](data:image/png;base64,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)"
      ]
    },
    {
      "cell_type": "markdown",
      "metadata": {
        "id": "hGrYHD1eRUA6"
      },
      "source": [
        "2. ![image.png](data:image/png;base64,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)"
      ]
    },
    {
      "attachments": {
        "image.png": {
          "image/png": "[encoded data removed]"
        }
      },
      "cell_type": "markdown",
      "metadata": {
        "id": "HhsuOR32R3_8"
      },
      "source": [
        "3. ![image.png](attachment:image.png)"
      ]
    },
    {
      "cell_type": "markdown",
      "metadata": {
        "id": "5eAhtj6ESHoM"
      },
      "source": [
        "4. ![image.png](data:image/png;base64,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)"
      ]
    },
    {
      "cell_type": "code",
      "execution_count": null,
      "metadata": {},
      "outputs": [],
      "source": [
        "# Authenticate Earth Engine API\n",
        "ee.Authenticate()"
      ]
    },
    {
      "cell_type": "code",
      "execution_count": null,
      "metadata": {
        "id": "57a02r1k0Imb"
      },
      "outputs": [],
      "source": [
        "# Initialize Google Earth Engine\n",
        "ee.Initialize(project='ee-safe4all-workshop')"
      ]
    },
    {
      "cell_type": "markdown",
      "metadata": {
        "id": "vD6KaqMzQ3hn"
      },
      "source": [
        "### Ghana"
      ]
    },
    {
      "cell_type": "code",
      "execution_count": null,
      "metadata": {
        "id": "LQcvkNWjGC1o"
      },
      "outputs": [],
      "source": [
        "start_date = '2023-01-01T00:00:00'\n",
        "end_date   = '2023-01-31T00:00:00'\n",
        "region_name = 'Ghana'\n",
        "era5_gh_data = era5_data_extracts(region_name, start_date, end_date, maps_key, era5_l=False)"
      ]
    },
    {
      "cell_type": "code",
      "execution_count": null,
      "metadata": {
        "id": "-i4arOjZNeyB"
      },
      "outputs": [],
      "source": [
        "te_ds_era5_gh = era5_var_handling(era5_gh_data, 'temperature_2m', xarray_ds=True)\n",
        "pr_ds_era5_gh = era5_var_handling(era5_gh_data, 'total_precipitation', xarray_ds=True)\n",
        "# ws_ds_era5_gh = era5_var_handling(era5_gh_data, 'wind_speed', xarray_ds=True)\n",
        "merged_era5_gh = xr.merge([te_ds_era5_gh, pr_ds_era5_gh])\n",
        "merged_era5_gh"
      ]
    },
    {
      "cell_type": "code",
      "execution_count": null,
      "metadata": {},
      "outputs": [],
      "source": [
        "\n",
        "plot_xarray_data2(\n",
        "    xarray_ds=merged_era5_gh,\n",
        "    fig_title=\"ERA5 Temperature and Precipitation Analysis Ghana\",\n",
        "    columns=[\"temperature_2m\", \"total_precipitation\"],\n",
        "    plot_size=6,\n",
        "    region_name=\"Ghana\",\n",
        "    maps_key=maps_key,\n",
        "    save=False\n",
        ")"
      ]
    },
    {
      "cell_type": "code",
      "execution_count": null,
      "metadata": {
        "colab": {
          "base_uri": "https://localhost:8080/"
        },
        "id": "rZo15QroL-Gc",
        "outputId": "f35b28a0-6595-4194-8bea-8349fab76718"
      },
      "outputs": [],
      "source": [
        "substring = 'wind'\n",
        "\n",
        "# List comprehension to find keys containing the substring\n",
        "matching_keys = [key for key in era5_gh_data if substring in key]\n",
        "\n",
        "print(matching_keys)"
      ]
    },
    {
      "cell_type": "code",
      "execution_count": null,
      "metadata": {
        "colab": {
          "base_uri": "https://localhost:8080/",
          "height": 817
        },
        "id": "5ShDo_JHFEXk",
        "outputId": "1988a0bb-44e1-4722-a535-ed47514f6669"
      },
      "outputs": [],
      "source": [
        "# Plot Temperature data\n",
        "plot_xarray_data(te_ds_era5_gh, 'Temperature in Ghana in degrees Celsius',\n",
        "                 column='temperature_2m', plot_size=7, robust=True, region='Ghana')"
      ]
    },
    {
      "cell_type": "code",
      "execution_count": null,
      "metadata": {
        "colab": {
          "base_uri": "https://localhost:8080/",
          "height": 817
        },
        "id": "lJoOox_YQDg9",
        "outputId": "8fba97a8-0860-49c4-9afc-7605a4fddec2"
      },
      "outputs": [],
      "source": [
        "# Plot Rainfall data\n",
        "plot_xarray_data(pr_ds_era5_gh, 'Rainfall in Ghana in mm',\n",
        "                 column='total_precipitation', plot_size=7, robust=True, region='Ghana')\n"
      ]
    },
    {
      "cell_type": "markdown",
      "metadata": {
        "id": "PHBDJlSgQ9PE"
      },
      "source": [
        "### Zimbabwe"
      ]
    },
    {
      "cell_type": "code",
      "execution_count": null,
      "metadata": {
        "id": "UIMTNihjQ_g1"
      },
      "outputs": [],
      "source": [
        "start_date = '2023-01-01T00:00:00'\n",
        "end_date   = '2023-01-31T00:00:00'\n",
        "region_name = 'Zimbabwe'\n",
        "era5_zw_data = era5_data_extracts(region_name, start_date, end_date, maps_key, era5_l=False)"
      ]
    },
    {
      "cell_type": "code",
      "execution_count": null,
      "metadata": {
        "id": "Uoz7uhY8RZzv"
      },
      "outputs": [],
      "source": [
        "te_ds_era5_zw = era5_var_handling(era5_zw_data, 'temperature_2m', xarray_ds=True)\n",
        "pr_ds_era5_zw = era5_var_handling(era5_zw_data, 'total_precipitation', xarray_ds=True)\n",
        "# ws_ds_era5_gh = era5_var_handling(era5_zw_data, 'wind_speed', xarray_ds=True)\n",
        "merged_era5_zw = xr.merge([te_ds_era5_zw, pr_ds_era5_zw])\n",
        "# sort the latitudes\n",
        "merged_era5_zw = merged_era5_zw.sortby('lat')\n",
        "# sort the longitudes\n",
        "merged_era5_zw = merged_era5_zw.sortby('lon')\n",
        "merged_era5_zw"
      ]
    },
    {
      "cell_type": "code",
      "execution_count": null,
      "metadata": {},
      "outputs": [],
      "source": [
        "plot_xarray_data2(\n",
        "    xarray_ds=merged_era5_zw,\n",
        "    fig_title=\"ERA5 Temperature and Precipitation Analysis in Zimbabwe\",\n",
        "    columns=[\"temperature_2m\", \"total_precipitation\"],\n",
        "    plot_size=6,\n",
        "    region_name=\"Zimbabwe\",\n",
        "    maps_key=maps_key\n",
        ")"
      ]
    },
    {
      "cell_type": "code",
      "execution_count": null,
      "metadata": {
        "id": "XxEq9ezlRimV"
      },
      "outputs": [],
      "source": [
        "# Plot Temperature data\n",
        "plot_xarray_data(te_ds_era5_zw, 'Temperature in Zimbabwe in degrees Celsius',\n",
        "                 column='temperature_2m', plot_size=7, robust=True, region=region_name)"
      ]
    },
    {
      "cell_type": "code",
      "execution_count": null,
      "metadata": {
        "colab": {
          "base_uri": "https://localhost:8080/"
        },
        "id": "VRJfMvzLRlum",
        "outputId": "004a8632-ba65-4faa-acfc-a333b2f0f35f"
      },
      "outputs": [],
      "source": [
        "# Plot Rainfall data\n",
        "plot_xarray_data(pr_ds_era5_gh, 'Rainfall in Zimbabwe in mm',\n",
        "                 column='total_precipitation', plot_size=7, robust=True, region=region_name)\n"
      ]
    },
    {
      "cell_type": "markdown",
      "metadata": {
        "id": "PWb9Do8eRouS"
      },
      "source": [
        "### Kenya"
      ]
    },
    {
      "cell_type": "code",
      "execution_count": null,
      "metadata": {
        "id": "vctfDqGfRsVy"
      },
      "outputs": [],
      "source": [
        "start_date = '2023-01-01T00:00:00'\n",
        "end_date   = '2023-01-31T00:00:00'\n",
        "region_name = 'Kenya'\n",
        "era5_ke_data = era5_data_extracts(region_name, start_date, end_date, maps_key, era5_l=False)"
      ]
    },
    {
      "cell_type": "code",
      "execution_count": null,
      "metadata": {
        "id": "Anc5l7lKRr65"
      },
      "outputs": [],
      "source": [
        "te_ds_era5_ke = era5_var_handling(era5_ke_data, 'temperature_2m', xarray_ds=True)\n",
        "pr_ds_era5_ke = era5_var_handling(era5_ke_data, 'total_precipitation', xarray_ds=True)\n",
        "# ws_ds_era5_gh = era5_var_handling(era5_gh_data, 'wind_speed', xarray_ds=True)\n",
        "merged_era5_ke = xr.merge([te_ds_era5_ke, pr_ds_era5_ke])\n",
        "# sort the latitudes\n",
        "merged_era5_ke = merged_era5_ke.sortby('lat')\n",
        "# sort the longitudes\n",
        "merged_era5_ke = merged_era5_ke.sortby('lon')"
      ]
    },
    {
      "cell_type": "code",
      "execution_count": null,
      "metadata": {},
      "outputs": [],
      "source": [
        "plot_xarray_data2(\n",
        "    xarray_ds=merged_era5_ke,\n",
        "    fig_title=\"ERA5 Temperature and Precipitation Analysis in Kenya\",\n",
        "    columns=[\"temperature_2m\", \"total_precipitation\"],\n",
        "    plot_size=6,\n",
        "    region_name=\"Kenya\",\n",
        "    maps_key=maps_key\n",
        ")"
      ]
    },
    {
      "cell_type": "code",
      "execution_count": null,
      "metadata": {
        "colab": {
          "base_uri": "https://localhost:8080/"
        },
        "id": "gQ8ZBi4nS13K",
        "outputId": "63d9c6ca-ae22-4556-ca25-bf492082537c"
      },
      "outputs": [],
      "source": [
        "# Plot Temperature data\n",
        "plot_xarray_data(te_ds_era5_ke, 'Temperature in Kenya in degrees Celsius',\n",
        "                 column='temperature_2m', plot_size=7, robust=True, region='Kenya')"
      ]
    },
    {
      "cell_type": "code",
      "execution_count": null,
      "metadata": {
        "colab": {
          "base_uri": "https://localhost:8080/"
        },
        "id": "A7MI6RffTGDS",
        "outputId": "45154bc3-e37d-424e-989a-89548a13a665"
      },
      "outputs": [],
      "source": [
        "# Plot Rainfall data\n",
        "plot_xarray_data(pr_ds_era5_ke, 'Rainfall in Kenya in mm',\n",
        "                 column='total_precipitation', plot_size=7, robust=True, region='Kenya')\n"
      ]
    },
    {
      "cell_type": "markdown",
      "metadata": {},
      "source": [
        "### Compare Kenya, Ghana and Zimbabwe"
      ]
    },
    {
      "cell_type": "code",
      "execution_count": null,
      "metadata": {},
      "outputs": [],
      "source": [
        "# Compare precipitation data in Kenya, Zimbabwe and Ghana\n",
        "compare_xarray_datasets([pr_ds_era5_ke, pr_ds_era5_zw, pr_ds_era5_gh], \n",
        "                        ['Kenya', 'Zimbabwe', 'Ghana'], \n",
        "                        'Total Precipitation in Kenya, Zimbabwe and Ghana in mm', \n",
        "                        bbox=bbox_from_polygon('Africa', maps_key=maps_key), cols=3,\n",
        "                        plot_size=7, robust=True)"
      ]
    },
    {
      "cell_type": "code",
      "execution_count": null,
      "metadata": {},
      "outputs": [],
      "source": [
        "# Compare precipitation data in Kenya, Zimbabwe and Ghana\n",
        "compare_xarray_datasets2(\n",
        "    [pr_ds_era5_ke, pr_ds_era5_zw, pr_ds_era5_gh], \n",
        "    ['Kenya', 'Zimbabwe', 'Ghana'], \n",
        "    'Total Precipitation in Kenya, Zimbabwe and Ghana in mm', \n",
        "    bbox=bbox_from_polygon('Africa', maps_key=maps_key),\n",
        "    cols=3,\n",
        "    plot_size=7, \n",
        "    robust=True,\n",
        "    save=True\n",
        ")"
      ]
    },
    {
      "cell_type": "code",
      "execution_count": null,
      "metadata": {},
      "outputs": [],
      "source": [
        "# Comparing temperature data in Kenya, Zimbabwe and Ghana\n",
        "compare_xarray_datasets([te_ds_era5_ke, te_ds_era5_zw, te_ds_era5_gh], \n",
        "                        ['Kenya', 'Zimbabwe', 'Ghana'], \n",
        "                        'Temperature in Kenya, Zimbabwe and Ghana in degrees Celsius', \n",
        "                        bbox=bbox_from_polygon('Africa', maps_key=maps_key), cols=3,\n",
        "                        plot_size=7, robust=True)"
      ]
    },
    {
      "cell_type": "markdown",
      "metadata": {
        "id": "n3sCG6yWWL2U"
      },
      "source": [
        "### Africa"
      ]
    },
    {
      "cell_type": "code",
      "execution_count": null,
      "metadata": {
        "id": "tsF09KzzWLEd"
      },
      "outputs": [],
      "source": [
        "start_date = '2025-01-01T00:00:00'\n",
        "end_date   = '2025-01-31T00:00:00'\n",
        "region_name = 'Africa'\n",
        "era5_af_data = era5_data_extracts(region_name, start_date, end_date, maps_key, era5_l=False)"
      ]
    },
    {
      "cell_type": "code",
      "execution_count": null,
      "metadata": {
        "id": "PumUjMWKWdqc"
      },
      "outputs": [],
      "source": [
        "te_ds_era5_af = era5_var_handling(era5_af_data, 'temperature_2m', xarray_ds=True)\n",
        "pr_ds_era5_af = era5_var_handling(era5_af_data, 'total_precipitation', xarray_ds=True)\n",
        "# ws_ds_era5_gh = era5_var_handling(era5_gh_data, 'wind_speed', xarray_ds=True)\n",
        "merged_era5_af = xr.merge([te_ds_era5_af, pr_ds_era5_af])"
      ]
    },
    {
      "cell_type": "code",
      "execution_count": null,
      "metadata": {},
      "outputs": [],
      "source": [
        "plot_xarray_data2(\n",
        "    xarray_ds=merged_era5_af,\n",
        "    fig_title=\"ERA5 Temperature and Precipitation Analysis in Africa\",\n",
        "    columns=[\"temperature_2m\", \"total_precipitation\"],\n",
        "    plot_size=6,\n",
        "    region_name=\"Africa\",\n",
        "    maps_key=maps_key,\n",
        "    save=True\n",
        ")"
      ]
    },
    {
      "cell_type": "code",
      "execution_count": null,
      "metadata": {},
      "outputs": [],
      "source": [
        "plot_xarray_data2(\n",
        "    xarray_ds=merged_era5_af,\n",
        "    fig_title=\"ERA5 Temperature and Precipitation Analysis in Africa\",\n",
        "    columns=[\"temperature_2m\", \"total_precipitation\"],\n",
        "    plot_size=6,\n",
        "    region_name=\"Africa\",\n",
        "    maps_key=maps_key,\n",
        "    save=True\n",
        ")"
      ]
    },
    {
      "cell_type": "code",
      "execution_count": null,
      "metadata": {
        "colab": {
          "base_uri": "https://localhost:8080/",
          "height": 817
        },
        "id": "JEulhXQmWvE5",
        "outputId": "5cae2709-3adb-439b-b1de-eb4c5643784d"
      },
      "outputs": [],
      "source": [
        "# Plot Temperature data\n",
        "plot_xarray_data(te_ds_era5_af, 'Temperature in Africa in degrees Celsius',\n",
        "                 column='temperature_2m', plot_size=7, robust=True, region='Africa')"
      ]
    },
    {
      "cell_type": "code",
      "execution_count": null,
      "metadata": {
        "colab": {
          "base_uri": "https://localhost:8080/",
          "height": 817
        },
        "id": "ztWuXFyYW-rD",
        "outputId": "6976c3b7-4482-4923-c063-f6c47485ad42"
      },
      "outputs": [],
      "source": [
        "# Plot Rainfall data\n",
        "plot_xarray_data(pr_ds_era5_af, 'Rainfall in Africa in mm',\n",
        "                 column='total_precipitation', plot_size=7, robust=True, region='Africa')\n"
      ]
    },
    {
      "cell_type": "markdown",
      "metadata": {
        "id": "1FfOn1WJBe7-"
      },
      "source": [
        "## Extracting CHIRPS data\n",
        "\n",
        "1. Extract the data from Google Earth engine project\n",
        "2. Visualize the image of the data in Nairobi and Kampala from 1980 for rainfall data"
      ]
    },
    {
      "cell_type": "code",
      "execution_count": null,
      "metadata": {},
      "outputs": [],
      "source": [
        "import ee\n",
        "import pandas as pd\n",
        "import numpy as np\n",
        "import xarray as xr\n",
        "import matplotlib.pyplot as plt\n",
        "import matplotlib.animation as animation\n",
        "import matplotlib.colors\n",
        "import math\n",
        "import datetime\n",
        "import io\n",
        "from tqdm import tqdm\n",
        "from datetime import datetime, timedelta\n",
        "from IPython.display import HTML, display\n",
        "import cartopy.crs as ccrs\n",
        "import cartopy.feature as cfeature\n",
        "from filter_stations import retreive_data, Filter\n",
        "import base64\n",
        "import json\n",
        "import requests\n",
        "from helpers import get_region_geojson\n",
        "import datetime\n",
        "\n",
        "def extract_chirps_daily(start_date_str, end_date_str, bbox=None, region_name=None, polygon=None, api_key=''):\n",
        "    \"\"\"\n",
        "    Extract CHIRPS daily precipitation data from Google Earth Engine for a given bounding box and time range.\n",
        "    The extraction is performed on a daily basis. For each day, the function:\n",
        "      - Filters the CHIRPS daily image collection for that day.\n",
        "      - Adds pixel coordinate bands (longitude and latitude).\n",
        "      - Uses sampleRectangle to extract a grid of pixel values.\n",
        "      - Organizes the results into a pandas DataFrame with the following columns:\n",
        "          - date: The daily timestamp (ISO formatted)\n",
        "          - latitude: The latitude coordinate of the pixel center\n",
        "          - longitude: The longitude coordinate of the pixel center\n",
        "          - precipitation: The pixel value representing daily precipitation.\n",
        "\n",
        "    Args:\n",
        "        start_date_str (str): Start datetime in ISO format, e.g., '2020-01-01T00:00:00'.\n",
        "        end_date_str (str): End datetime in ISO format, e.g., '2020-01-02T00:00:00'.\n",
        "        bbox (list or tuple): Bounding box specified as [minLon, minLat, maxLon, maxLat].\n",
        "\n",
        "    Returns:\n",
        "        pd.DataFrame: A pandas DataFrame containing the daily precipitation data.\n",
        "    \"\"\"\n",
        "    # Convert input datetime strings to Python datetime objects.\n",
        "    start_date = datetime.datetime.strptime(start_date_str, '%Y-%m-%dT%H:%M:%S')\n",
        "    end_date   = datetime.datetime.strptime(end_date_str, '%Y-%m-%dT%H:%M:%S')\n",
        "\n",
        "    # Handle the input from bbox to polygon to region name\n",
        "    if bbox is not None:\n",
        "        region = ee.Geometry.Rectangle(bbox)\n",
        "    elif region_name is not None:\n",
        "        # get the region geojson\n",
        "        region_geo = get_region_geojson(region_name, api_key)\n",
        "        polygon = region_geo['features'][0]['geometry']['coordinates'][0]\n",
        "        region = ee.Geometry.Polygon(polygon)\n",
        "    elif polygon is not None:\n",
        "        region = ee.Geometry.Polygon(polygon)\n",
        "    # Define a scale in meters corresponding approximately to the CHIRPS resolution (~0.05°).\n",
        "    scale_m = 5000  # You might adjust this value depending on your needs.\n",
        "\n",
        "    # This list will accumulate extracted records.\n",
        "    results = []\n",
        "\n",
        "    # Loop over each day in the specified time range.\n",
        "    current = start_date\n",
        "    while current < end_date:\n",
        "        next_day = current + datetime.timedelta(days=1)\n",
        "\n",
        "        # Format the current time window in ISO format.\n",
        "        t0_str = current.strftime('%Y-%m-%dT%H:%M:%S')\n",
        "        t1_str = next_day.strftime('%Y-%m-%dT%H:%M:%S')\n",
        "\n",
        "        print(f\"Processing {t0_str} to {t1_str}\")\n",
        "\n",
        "        # Filter the CHIRPS daily image collection for the current day.\n",
        "        # The CHIRPS daily collection is available as 'UCSB-CHG/CHIRPS/DAILY'.\n",
        "        collection = ee.ImageCollection('UCSB-CHG/CHIRPS/DAILY') \\\n",
        "                        .filterDate(ee.Date(t0_str), ee.Date(t1_str))\n",
        "        image = collection.first()\n",
        "\n",
        "        # If no image is found for this day, skip to the next day.\n",
        "        if image is None:\n",
        "            current = next_day\n",
        "            continue\n",
        "\n",
        "        # Add bands containing the pixel longitude and latitude.\n",
        "        image = image.addBands(ee.Image.pixelLonLat())\n",
        "\n",
        "        # Use sampleRectangle to extract a grid of pixel values over the region.\n",
        "        # The 'precipitation' band is part of the CHIRPS dataset.\n",
        "        region_data = image.sampleRectangle(region=region, defaultValue=0).getInfo()\n",
        "\n",
        "        # The pixel values for each band are in the \"properties\" dictionary.\n",
        "        props = region_data['properties']\n",
        "\n",
        "        # Extract the coordinate arrays from the added pixelLonLat bands.\n",
        "        lon_array = props['longitude']  # 2D array of longitudes\n",
        "        lat_array = props['latitude']   # 2D array of latitudes\n",
        "\n",
        "        # Determine the dimensions of the extracted grid.\n",
        "        nrows = len(lon_array)\n",
        "        ncols = len(lon_array[0]) if nrows > 0 else 0\n",
        "\n",
        "        # Loop over each pixel in the grid.\n",
        "        for i in range(nrows):\n",
        "            for j in range(ncols):\n",
        "                pixel_lon = lon_array[i][j]\n",
        "                pixel_lat = lat_array[i][j]\n",
        "                # Extract the precipitation value.\n",
        "                precip_value = props['precipitation'][i][j]\n",
        "                record = {\n",
        "                    'date': t0_str,  # daily timestamp as a string\n",
        "                    'lat': pixel_lat,\n",
        "                    'lon': pixel_lon,\n",
        "                    'total_rainfall': precip_value\n",
        "                }\n",
        "                results.append(record)\n",
        "\n",
        "        # Advance to the next day.\n",
        "        current = next_day\n",
        "\n",
        "    # Convert the accumulated results into a pandas DataFrame.\n",
        "    df = pd.DataFrame(results)\n",
        "    return df\n",
        "\n"
      ]
    },
    {
      "cell_type": "code",
      "execution_count": null,
      "metadata": {
        "colab": {
          "base_uri": "https://localhost:8080/"
        },
        "id": "lXD_l38IvZxD",
        "outputId": "c3685376-5afa-4fb3-badc-99f5aed61d7f"
      },
      "outputs": [],
      "source": [
        "# Define the bounding box as [minLon, minLat, maxLon, maxLat]\n",
        "ke_bbox = bbox_from_polygon('Kenya', maps_key)\n",
        "\n",
        "# Define the extraction period (hourly)..\n",
        "start_date = '2023-01-01T00:00:00'\n",
        "end_date   = '2023-01-31T00:00:00'\n",
        "\n",
        "df_chirps = extract_chirps_daily(start_date, end_date, bbox=ke_bbox)\n",
        "chirps_pr_xr = df_to_xarray(df_chirps)\n"
      ]
    },
    {
      "cell_type": "code",
      "execution_count": null,
      "metadata": {},
      "outputs": [],
      "source": [
        "# Plot the CHIRPS data\n",
        "plot_xarray_data(chirps_pr_xr, 'CHIRPS Rainfall in Kenya in mm',\n",
        "                 column='total_rainfall', plot_size=7, robust=True, region_name='Kenya', \n",
        "                 maps_key=maps_key)"
      ]
    },
    {
      "cell_type": "markdown",
      "metadata": {},
      "source": [
        "### Ghana"
      ]
    },
    {
      "cell_type": "code",
      "execution_count": null,
      "metadata": {},
      "outputs": [],
      "source": [
        "plot_xarray_data2(\n",
        "    xarray_ds=chirps_pr_xr,\n",
        "    fig_title=\"CHIRPS Rainfall in Kenya in mm\",\n",
        "    columns=[\"total_rainfall\"],\n",
        "    plot_size=6,\n",
        "    region_name=\"Kenya\",\n",
        "    maps_key=maps_key,\n",
        "    save=True\n",
        ")"
      ]
    },
    {
      "cell_type": "code",
      "execution_count": null,
      "metadata": {},
      "outputs": [],
      "source": [
        "gh_bbox = bbox_from_polygon('Ghana', maps_key)\n",
        "\n",
        "# Define the extraction period\n",
        "start_date = '2023-01-01T00:00:00'\n",
        "end_date   = '2023-01-31T00:00:00'\n",
        "\n",
        "df_chirps = extract_chirps_daily(start_date, end_date, bbox=gh_bbox)\n",
        "chirps_pr_xr = df_to_xarray(df_chirps)"
      ]
    },
    {
      "cell_type": "code",
      "execution_count": null,
      "metadata": {},
      "outputs": [],
      "source": [
        "# Plot the CHIRPS data\n",
        "plot_xarray_data(chirps_pr_xr, 'CHIRPS Rainfall in Ghana in mm',\n",
        "                 column='total_rainfall', plot_size=7, robust=True, region_name='Ghana', maps_key=maps_key)"
      ]
    },
    {
      "cell_type": "markdown",
      "metadata": {},
      "source": [
        "### Africa"
      ]
    },
    {
      "cell_type": "code",
      "execution_count": null,
      "metadata": {},
      "outputs": [],
      "source": [
        "af_bbox = bbox_from_polygon('Africa', maps_key)\n",
        "\n",
        "# Define start and end date\n",
        "df_chirps = extract_chirps_daily(start_date, end_date, bbox=af_bbox)\n",
        "chirps_pr_xr = df_to_xarray(df_chirps)\n"
      ]
    },
    {
      "cell_type": "code",
      "execution_count": null,
      "metadata": {},
      "outputs": [],
      "source": [
        "plot_xarray_data(chirps_pr_xr, 'CHIRPS Rainfall in Africa in mm',\n",
        "                 column='precipitation', plot_size=7, robust=True, region='Africa')"
      ]
    },
    {
      "cell_type": "code",
      "execution_count": null,
      "metadata": {},
      "outputs": [],
      "source": [
        "# Plot CHIRPS data\n",
        "plot_xarray_data(chirps_pr_xr, \"Total Rainfall (mm) Kigali Region\", column=\"total_rainfall\", plot_size=7, robust=True, bbox=[kigali_bbox[1],kigali_bbox[0], kigali_bbox[3], kigali_bbox[2]])"
      ]
    },
    {
      "cell_type": "markdown",
      "metadata": {
        "id": "tZzWq59OBd1k"
      },
      "source": [
        "## Extracting TAMSAT data"
      ]
    },
    {
      "cell_type": "markdown",
      "metadata": {},
      "source": [
        "### Setting Up"
      ]
    },
    {
      "cell_type": "code",
      "execution_count": null,
      "metadata": {
        "colab": {
          "base_uri": "https://localhost:8080/"
        },
        "id": "ni986zTjC7pF",
        "outputId": "42d1e07b-af64-4129-8aa4-98449993b3f6"
      },
      "outputs": [],
      "source": [
        "# !git clone https://github.com/TAMSAT/tamsat_download_extraction_api"
      ]
    },
    {
      "cell_type": "markdown",
      "metadata": {
        "id": "BMyp16FBowFW"
      },
      "source": [
        "Handling Depracated numpy float to np.float64\n",
        "<BR><BR>\n",
        "Uncomment to run once"
      ]
    },
    {
      "cell_type": "code",
      "execution_count": null,
      "metadata": {
        "colab": {
          "base_uri": "https://localhost:8080/"
        },
        "id": "iQNlQCEFot_-",
        "outputId": "97c36974-00ee-44d6-ae4e-99388e90c745"
      },
      "outputs": [],
      "source": [
        "# file_path = \"tamsat_download_extraction_api/tamsat_download_extract_api.py\"\n",
        "\n",
        "# # Read the file\n",
        "# with open(file_path, \"r\") as file:\n",
        "#     content = file.read()\n",
        "\n",
        "# # Replace np.float with np.float64\n",
        "# content = content.replace(\"np.float\", \"np.float64\")\n",
        "\n",
        "# # Write back the modified content\n",
        "# with open(file_path, \"w\") as file:\n",
        "#     file.write(content)\n",
        "\n",
        "# print(\"Successfully replaced np.float with np.float64.\")\n"
      ]
    },
    {
      "cell_type": "code",
      "execution_count": null,
      "metadata": {
        "id": "U5_sx-7ukIEj"
      },
      "outputs": [],
      "source": [
        "import sys\n",
        "sys.path.append('tamsat_download_extraction_api')\n",
        "\n",
        "from tamsat_download_extract_api import download, extract\n"
      ]
    },
    {
      "cell_type": "markdown",
      "metadata": {
        "id": "wju1aFqxo7eN"
      },
      "source": [
        "### Downloading rainfall satellite data for Africa\n",
        "<!-- <BR><BR> -->\n",
        "Uncomment to run once"
      ]
    },
    {
      "cell_type": "code",
      "execution_count": null,
      "metadata": {
        "colab": {
          "base_uri": "https://localhost:8080/"
        },
        "id": "F6G3AYSLkL9_",
        "outputId": "fc68bf9e-db42-4d87-a2b1-c35edeaf0432"
      },
      "outputs": [],
      "source": [
        "import os\n",
        "curr_dir = os.getcwd()\n",
        "\n",
        "# Download data\n",
        "download({\n",
        " \"timestep\": 'daily',\n",
        " \"resolution\": 0.0375,\n",
        " \"start_date\": '2023-01-01',\n",
        " \"end_date\": '2023-01-31',\n",
        " \"version\": 3.1,\n",
        " \"localdata_dir\": f\"{os.path.join(curr_dir, 'tamsat_data')}\"\n",
        " })"
      ]
    },
    {
      "cell_type": "markdown",
      "metadata": {},
      "source": [
        "### Ghana"
      ]
    },
    {
      "cell_type": "code",
      "execution_count": null,
      "metadata": {},
      "outputs": [],
      "source": [
        "gh_w, gh_s, gh_e, gh_n = bbox_from_polygon('Ghana', maps_key)"
      ]
    },
    {
      "cell_type": "code",
      "execution_count": null,
      "metadata": {},
      "outputs": [],
      "source": [
        "extract({\n",
        "    \"extract_type\": 'domain',\n",
        "    \"S\": gh_s,    \n",
        "    \"N\": gh_n,    \n",
        "    \"W\": gh_w,     \n",
        "    \"E\": gh_e,      \n",
        "    \"timestep\": 'daily',\n",
        "    \"start_date\": '2023-01-01',\n",
        "    \"end_date\": '2023-01-31',\n",
        "    \"version\": 3.1,\n",
        "    \"localdata_dir\": f\"{os.path.join(curr_dir, 'tamsat_data')}\",\n",
        "    \"resolution\": 0.0375\n",
        "})"
      ]
    },
    {
      "cell_type": "code",
      "execution_count": null,
      "metadata": {},
      "outputs": [],
      "source": [
        "# %pip install netCDF4\n",
        "# Load the xarray data\n",
        "gh_tamsat_xarray = xr.open_dataset(\n",
        "\tr'd:\\previous-pc\\Agent\\TAHMO\\Safe4All\\tamsat_data\\extracted_data\\domain\\TAMSATv3.1_daily_0.0375_11.1750308_4.6339001_-3.2607859_1.199972_2023-01-01_2023-01-31.nc',\n",
        "\t# engine='netcdf4'\n",
        ")\n",
        "# sort the latitudes\n",
        "gh_tamsat_xarray = gh_tamsat_xarray.sortby('lat')\n",
        "gh_tamsat_xarray"
      ]
    },
    {
      "cell_type": "code",
      "execution_count": null,
      "metadata": {},
      "outputs": [],
      "source": [
        "# plot the xarray\n",
        "plot_xarray_data(gh_tamsat_xarray, 'TAMSAT Rainfall in Ghana in mm',\n",
        "                 column='rfe_filled', plot_size=7, robust=True, region_name='Ghana', maps_key=maps_key)"
      ]
    },
    {
      "cell_type": "markdown",
      "metadata": {
        "id": "03ONeT99o3kv"
      },
      "source": [
        "### Kenya"
      ]
    },
    {
      "cell_type": "code",
      "execution_count": null,
      "metadata": {},
      "outputs": [],
      "source": [
        "# Kenya region\n",
        "kenya_w, kenya_s, kenya_e, kenya_n = bbox_from_polygon('Kenya', maps_key)\n",
        "# Get the N,S,E,W coordinates from the bounding box"
      ]
    },
    {
      "cell_type": "code",
      "execution_count": null,
      "metadata": {
        "colab": {
          "base_uri": "https://localhost:8080/"
        },
        "id": "T_mRtnDdo7AH",
        "outputId": "9a596e95-6394-4f2b-8427-77af24621229"
      },
      "outputs": [],
      "source": [
        "extract({\n",
        "    \"extract_type\": 'domain',\n",
        "    \"S\": kenya_s,    # Minimum longitude\n",
        "    \"N\": kenya_n,    # Maximum longitude\n",
        "    \"W\": kenya_w,     # Minimum latitude\n",
        "    \"E\": kenya_e,      # Maximum latitude\n",
        "    \"timestep\": 'daily',\n",
        "    \"start_date\": '2023-01-01',\n",
        "    \"end_date\": '2023-01-31',\n",
        "    \"version\": 3.1,\n",
        "    \"localdata_dir\": f\"{os.path.join(curr_dir, 'tamsat_data')}\",\n",
        "    \"resolution\": 0.0375\n",
        "})"
      ]
    },
    {
      "cell_type": "code",
      "execution_count": null,
      "metadata": {},
      "outputs": [],
      "source": [
        "# Load the xarray data\n",
        "ke_tamsat_xarray = xr.open_dataset(\n",
        "    r'd:\\previous-pc\\Agent\\TAHMO\\Safe4All\\tamsat_data/extracted_data/domain/TAMSATv3.1_daily_0.0375_5.033420899999999_-4.724299999999999_33.90982109999999_41.9068688_2023-01-01_2023-01-31.nc',\n",
        "    # engine='netcdf4'\n",
        ")\n",
        "\n",
        "# Sort by latitude\n",
        "ke_tamsat_xarray = ke_tamsat_xarray.sortby('lat')\n",
        "\n",
        "\n",
        "ke_tamsat_xarray"
      ]
    },
    {
      "cell_type": "code",
      "execution_count": null,
      "metadata": {},
      "outputs": [],
      "source": [
        "# plot the xarray\n",
        "plot_xarray_data(ke_tamsat_xarray, 'TAMSAT Rainfall in Kenya in mm',\n",
        "                 column='rfe', plot_size=7, robust=True, region_name='Kenya', maps_key=maps_key)"
      ]
    },
    {
      "cell_type": "code",
      "execution_count": null,
      "metadata": {},
      "outputs": [],
      "source": [
        "plot_xarray_data2(\n",
        "    xarray_ds=ke_tamsat_xarray,\n",
        "    fig_title=\"TAMSAT Rainfall in Kenya in mm\",\n",
        "    columns=[\"rfe\"],\n",
        "    plot_size=6,\n",
        "    region_name=\"Kenya\",\n",
        "    maps_key=maps_key,\n",
        "    save=True\n",
        ")"
      ]
    },
    {
      "cell_type": "markdown",
      "metadata": {},
      "source": [
        "### Zimbabwe"
      ]
    },
    {
      "cell_type": "code",
      "execution_count": null,
      "metadata": {},
      "outputs": [],
      "source": [
        "zw_w, zw_s, zw_e, zw_n = bbox_from_polygon('Zimbabwe', maps_key)\n",
        "\n",
        "extract({\n",
        "    \"extract_type\": 'domain',\n",
        "    \"S\": zw_s,    # Minimum longitude\n",
        "    \"N\": zw_n,    # Maximum longitude\n",
        "    \"W\": zw_w,     # Minimum latitude\n",
        "    \"E\": zw_e,      # Maximum latitude\n",
        "    \"timestep\": 'daily',\n",
        "    \"start_date\": '2023-01-01',\n",
        "    \"end_date\": '2023-01-31',\n",
        "    \"version\": 3.1,\n",
        "    \"localdata_dir\": f\"{os.path.join(curr_dir, 'tamsat_data')}\",\n",
        "    \"resolution\": 0.0375\n",
        "})"
      ]
    },
    {
      "cell_type": "code",
      "execution_count": null,
      "metadata": {},
      "outputs": [],
      "source": [
        "# Load the xarray data\n",
        "zw_tamsat_xarray = xr.open_dataset(\n",
        "    r'd:\\previous-pc\\Agent\\TAHMO\\Safe4All\\tamsat_data/extracted_data/domain/TAMSATv3.1_daily_0.0375_22.0_-22.5_32.5_33.5_2023-01-01_2023-01-31.nc',\n",
        "    # engine='netcdf4'\n",
        ")"
      ]
    },
    {
      "cell_type": "code",
      "execution_count": null,
      "metadata": {},
      "outputs": [],
      "source": [
        "# Plot the xarray data\n",
        "plot_xarray_data(zw_tamsat_xarray, 'TAMSAT Rainfall in Zimbabwe in mm',\n",
        "                 column='rfe', plot_size=7, robust=True, region_name='Zimbabwe', maps_key=maps_key)"
      ]
    },
    {
      "cell_type": "markdown",
      "metadata": {},
      "source": [
        "### Africa"
      ]
    },
    {
      "cell_type": "code",
      "execution_count": null,
      "metadata": {},
      "outputs": [],
      "source": [
        "af_w, af_s, af_e, af_n = bbox_from_polygon('Africa', maps_key)\n",
        "print(af_w, af_s, af_e, af_n)\n",
        "\n",
        "extract({\n",
        "    \"extract_type\": 'domain',\n",
        "    \"S\": -34.834,    # Southernmost point of Africa\n",
        "    \"N\": 37.21,      # Northernmost point of Africa\n",
        "    \"W\": -17.625,    # Westernmost point of Africa\n",
        "    \"E\": 51.27,      # Easternmost point of Africa\n",
        "    \"timestep\": 'daily',\n",
        "    \"start_date\": '2023-01-01',\n",
        "    \"end_date\": '2023-01-31',\n",
        "    \"version\": 3.1,\n",
        "    \"localdata_dir\": f\"{os.path.join(curr_dir, 'tamsat_data')}\",\n",
        "    \"resolution\": 0.0375\n",
        "})"
      ]
    },
    {
      "cell_type": "code",
      "execution_count": null,
      "metadata": {},
      "outputs": [],
      "source": [
        "# Load the xarray data\n",
        "af_tamsat_xarray = xr.open_dataset(r'tamsat_data\\extracted_data\\domain\\TAMSATv3.1_daily_0.0375_38.025_-35.9625_-19.0125_51.975_2023-01-01_2023-01-31.nc')\n",
        "af_tamsat_xarray"
      ]
    },
    {
      "cell_type": "code",
      "execution_count": null,
      "metadata": {},
      "outputs": [],
      "source": [
        "af_tamsat_xarray = af_tamsat_xarray.sortby('lat')  # Ensure latitude is sorted in ascending order\n"
      ]
    },
    {
      "cell_type": "code",
      "execution_count": null,
      "metadata": {},
      "outputs": [],
      "source": [
        "# sort by longitude\n",
        "af_tamsat_xarray = af_tamsat_xarray.sortby('lon')  # Ensure longitude is sorted in ascending order"
      ]
    },
    {
      "cell_type": "code",
      "execution_count": null,
      "metadata": {},
      "outputs": [],
      "source": [
        "plot_xarray_data2(\n",
        "    xarray_ds=af_tamsat_xarray,\n",
        "    fig_title=\"TAMSAT Rainfall in Africa in mm\",\n",
        "    columns=[\"rfe_filled\", 'rfe'],\n",
        "    plot_size=6,\n",
        "    region_name=\"Africa\",\n",
        "    maps_key=maps_key\n",
        ")"
      ]
    },
    {
      "cell_type": "code",
      "execution_count": null,
      "metadata": {},
      "outputs": [],
      "source": [
        "# Compute the mean of each variable over lat and lon, then plot both on the same figure\n",
        "ke_mean_filled = ke_tamsat_xarray['rfe_filled'].mean(dim=['lat','lon'])\n",
        "ke_mean = ke_tamsat_xarray['rfe'].mean(dim=['lat','lon'])\n",
        "\n",
        "fig, ax = plt.subplots(figsize=(10, 6))\n",
        "ke_mean_filled.plot(ax=ax, color='blue', label='Kenya TAMSAT (rfe_filled)')\n",
        "ke_mean.plot(ax=ax, color='red', label='Kenya TAMSAT (rfe)')\n",
        "ax.set_title('Mean TAMSAT Rainfall in Kenya')\n",
        "ax.legend()\n",
        "plt.show()"
      ]
    },
    {
      "cell_type": "code",
      "execution_count": null,
      "metadata": {},
      "outputs": [],
      "source": [
        "datasets_list = [ds[['rfe']] for ds in [ke_tamsat_xarray, gh_tamsat_xarray, af_tamsat_xarray]]\n",
        "labels_list = [\"Kenya\", \"Ghana\", \"Africa\"]\n",
        "html_animation = compare_xarray_datasets(datasets_list, labels_list, \"Comparison of TAMSAT Rainfall Data\", \n",
        "                                          plot_size=9, robust=True, cols=3, bbox=bbox_from_polygon('Africa', maps_key))\n",
        "display(html_animation)\n"
      ]
    },
    {
      "cell_type": "markdown",
      "metadata": {},
      "source": [
        "## A Comparison of the Datasets\n",
        "CBAM vs ERA5 vs\n",
        "TAMSAT vs CHIRPS for both temperature and precipitation"
      ]
    },
    {
      "cell_type": "code",
      "execution_count": null,
      "metadata": {},
      "outputs": [],
      "source": [
        "datasets_list = [ds[['rfe']] for ds in [ke_tamsat_xarray]]\n",
        "datasets_list[0]"
      ]
    },
    {
      "cell_type": "code",
      "execution_count": null,
      "metadata": {},
      "outputs": [],
      "source": [
        "cbam_pr = [ds[['total_rainfall']] for ds in [cbam_data]]\n",
        "cbam_pr[0]"
      ]
    },
    {
      "cell_type": "code",
      "execution_count": null,
      "metadata": {},
      "outputs": [],
      "source": [
        "# era5 ke -- pr_ds_era5_ke\n",
        "# cbam ke -- cbam_data\n",
        "# Subset precipitation cbam data as an xarray\n",
        "\n",
        "\n",
        "compare_xarray_datasets(\n",
        "    [cbam_pr[0], pr_ds_era5_ke, datasets_list[0]],\n",
        "    [\"CBAM\", \"ERA5\", \"TAMSAT\"],\n",
        "    \"Comparison of Precipitation Data in Kenya\",\n",
        "    plot_size=7,\n",
        "    robust=True,\n",
        "    bboxes=[bbox_from_polygon('Kenya', maps_key),\n",
        "            bbox_from_polygon('Kenya', maps_key),\n",
        "            bbox_from_polygon('Kenya', maps_key)],\n",
        "    cols=2,\n",
        "    save=True\n",
        ")"
      ]
    },
    {
      "cell_type": "code",
      "execution_count": null,
      "metadata": {},
      "outputs": [],
      "source": [
        "# A comparison of the precipitation data in Kenya for the ERA5 and TAMSAT dataset\n",
        "compare_xarray_datasets([pr_ds_era5_ke.sortby('lat'), datasets_list[0].sortby('lat')], \n",
        "                        ['ERA5', 'TAMSAT'], \n",
        "                        'Total Precipitation in Kenya in mm', \n",
        "                        bbox=bbox_from_polygon('Kenya', maps_key), cols=2,\n",
        "                        plot_size=7, robust=True)"
      ]
    },
    {
      "cell_type": "code",
      "execution_count": null,
      "metadata": {},
      "outputs": [],
      "source": [
        "# Precipitation data in Ghana for the ERA5 and TAMSAT dataset\n",
        "compare_xarray_datasets([pr_ds_era5_gh, datasets_list[1]], \n",
        "                        ['ERA5', 'TAMSAT'], \n",
        "                        'Total Precipitation in Ghana in mm', \n",
        "                        bbox=bbox_from_polygon('Ghana', maps_key), cols=2,\n",
        "                        plot_size=7, robust=True)"
      ]
    },
    {
      "cell_type": "code",
      "execution_count": null,
      "metadata": {},
      "outputs": [],
      "source": [
        "# precipitation comparison in Zimbabwe for the ERA5 and TAMSAT dataset\n",
        "compare_xarray_datasets([pr_ds_era5_zw, datasets_list[2]], \n",
        "                        ['ERA5', 'TAMSAT'], \n",
        "                        'Total Precipitation in Zimbabwe in mm', \n",
        "                        bbox=bbox_from_polygon('Zimbabwe', maps_key), cols=2,\n",
        "                        plot_size=7, robust=True)"
      ]
    },
    {
      "cell_type": "markdown",
      "metadata": {
        "id": "FZezwWW_BewP"
      },
      "source": [
        "## Extracting TAHMO Ground Stations\n",
        "\n",
        "1. Request API access from TAHMO\n",
        "2. Extract the data for the stations in Nairobi, Kampala and Kigali\n",
        "\n",
        "\n"
      ]
    },
    {
      "cell_type": "markdown",
      "metadata": {
        "id": "UkmtlJfTMvUd"
      },
      "source": [
        "### TAHMO variables\n",
        "wg : wind gusts <br>\n",
        "ws : wind speed  <br>\n",
        "wd : wind direction  <br>\n",
        "pr : precipitation  <br>\n",
        "te : surface level temperature  <br>"
      ]
    },
    {
      "cell_type": "markdown",
      "metadata": {},
      "source": [
        "### Stations Distribution"
      ]
    },
    {
      "cell_type": "code",
      "execution_count": null,
      "metadata": {},
      "outputs": [],
      "source": [
        "stations_tahmo_gh = ret.get_stations_info(countrycode='GH')\n",
        "# rename to lat and lon\n",
        "stations_met = stations_tahmo_gh.rename(columns={'location.latitude': 'lat', \n",
        "                                                 'location.longitude': 'lon',\n",
        "                                                 'code': 'station'})\n"
      ]
    },
    {
      "cell_type": "code",
      "execution_count": null,
      "metadata": {},
      "outputs": [],
      "source": [
        "m = plot_stations_folium([stations_met], [\"blue\"])\n",
        "m"
      ]
    },
    {
      "cell_type": "markdown",
      "metadata": {
        "id": "SdtrmNcJMlX0"
      },
      "source": [
        "### Nairobi Region"
      ]
    },
    {
      "cell_type": "code",
      "execution_count": null,
      "metadata": {
        "colab": {
          "base_uri": "https://localhost:8080/",
          "height": 583
        },
        "id": "8au33skBCncl",
        "outputId": "262df56d-827d-44b8-edcb-8013c372af5f"
      },
      "outputs": [],
      "source": [
        "# get stations in nairobi region\n",
        "# Get the coordinates for a specific region\n",
        "nai_lat, nai_lon = fs.centre_point('Nairobi, Kenya')\n",
        "\n",
        "# Get the weather stations within nairobi region\n",
        "stations = fs.stations_region('Nairobi')\n",
        "\n",
        "# Plot the map of the region with the stations\n",
        "fs.stations_region('Nairobi', plot=True)\n",
        "\n",
        "# Tentative bounding box is xmin,ymin,xmx,ymax = [36.6, -1.45, 37.1, -1.15]"
      ]
    },
    {
      "cell_type": "code",
      "execution_count": null,
      "metadata": {
        "id": "1uw2ereIFmwR"
      },
      "outputs": [],
      "source": [
        "# Accessing data for a given duration and variable (Accepts pr, te, ws)\n",
        "def tahmo_data_for_var(start_date, end_date, variable, stations_list):\n",
        "  acc_vars = ['te', 'pr', 'ws'] # Accepted variables\n",
        "  if variable not in acc_vars:\n",
        "    print('Invalid variable')\n",
        "    return\n",
        "\n",
        "  variables = [f'{variable}']\n",
        "  csv_file_name = f'{variable}-2020-2023'\n",
        "  dataset = 'controlled'\n",
        "  print(variables)\n",
        "\n",
        "  df = ret.multiple_measurements(\n",
        "      startDate=start_date, endDate=end_date,\n",
        "      dataset=dataset, stations_list=stations_list,\n",
        "      csv_file=csv_file_name, aggregate='5min',\n",
        "      variables=variables\n",
        "  )\n",
        "\n",
        "  if variable == 'te' or 'ws':\n",
        "    agg_df = ret.aggregate_variables(df, freq='1D', method='mean')\n",
        "    return agg_df\n",
        "  elif variable == 'pr':\n",
        "    # aggregate by sum\n",
        "    agg_df = ret.aggregate_variables(df, freq='1D', method='sum')\n",
        "    return agg_df"
      ]
    },
    {
      "cell_type": "code",
      "execution_count": null,
      "metadata": {
        "colab": {
          "base_uri": "https://localhost:8080/",
          "height": 168,
          "referenced_widgets": [
            "4b7a45802cf34193be5b32de0494565d",
            "7dd19ed5a3f94f97ad382375b66bd5e6",
            "d0ab66a3b9cc44a59f5645f85faa2f3a",
            "64f3e7d2b1594a7e931486cccb4b16b9",
            "fb0a8e8983914942a51f71abc8e0bcad",
            "6b041f199955454e9c44cb36d2153fc6",
            "435b84b1545a4e25b7f1147bdbfdefaf",
            "204a076a0b434968b87e9df2373a8466",
            "5bcb5ba7738246d595e1c47d3f78ad51",
            "5ffa17e45bc54b189859541cee6fe113",
            "502942d8f6ea47b8ae204107794f4e01",
            "438e667d8d1f4ebba18d659abeb5754b",
            "a139609b275f403891c8ad2e24e8cf6b",
            "db2b2206b1534bf382c22f66e951d7c8",
            "1ed802358f9c46d6a83b524d94a1f5c7",
            "4665155ef0684aa5b3eed95c87c5a500",
            "6054f702ecbe4cb1b1403ea4f6135cb6",
            "1d26b9309bc9499cb0e71bed31a12ddb",
            "15563ba0f7334956bf144b02e3711f0f",
            "77d2f198db0a44018d05420e4624198e",
            "263322f7f32240db8a24147f5d24dc58",
            "cf977f9a1cb7465e980f716f4dd8f23d",
            "a8b975ad40784889a3039e2fab6144a1",
            "9a498453d93a4d9d88c82010c36433ba",
            "43661683552e4cbfaed71932aeadd9f3",
            "c215abde2aae4c018f67e40033d7571f",
            "8ab2fb1565bc4b1cb09bc28b18d7e71a",
            "b0c95c025ae640928692bab43c342864",
            "8762e02c0f8343e5aa6724432fad0069",
            "04552679ac3548edb974e618d54bc712",
            "b9462c069c824f969466001ed9e98a71",
            "147c54cd31564dcbafdbf830e90c87ff",
            "f8c89d21b802475eb4adfc2fbd9641bb"
          ]
        },
        "id": "ffXDy-EdG-7f",
        "outputId": "6b1ce45a-b5d0-4910-d98c-eff9522f020a"
      },
      "outputs": [],
      "source": [
        "start_date = '2023-01-01'\n",
        "end_date = '2023-12-31'\n",
        "pr_df = tahmo_data_for_var(start_date, end_date, 'pr', stations).dropna(axis=1, how='all') # precipitation data\n",
        "te_df = tahmo_data_for_var(start_date, end_date, 'te', stations).dropna(axis=1, how='all') # temperature data\n",
        "ws_df = tahmo_data_for_var(start_date, end_date, 'ws', stations).dropna(axis=1, how='all') # wind speed data\n",
        "\n"
      ]
    },
    {
      "cell_type": "code",
      "execution_count": null,
      "metadata": {
        "colab": {
          "base_uri": "https://localhost:8080/",
          "height": 1000
        },
        "id": "_COgTH2YMD6A",
        "outputId": "00771782-49d1-49c5-da95-6414dd05d081"
      },
      "outputs": [],
      "source": [
        "def plot_data(pr_df, te_df, ws_df):\n",
        "  fig, axes = plt.subplots(3, 1, figsize=(10, 15), sharex=True)\n",
        "\n",
        "  # Plot precipitation data\n",
        "  pr_df.plot(ax=axes[0], title='Precipitation')\n",
        "  axes[0].set_ylabel('Precipitation')\n",
        "\n",
        "\n",
        "  # Plot temperature data\n",
        "  te_df.plot(ax=axes[1], title='Temperature')\n",
        "  axes[1].set_ylabel('Temperature')\n",
        "\n",
        "\n",
        "  # Plot wind speed data\n",
        "  ws_df.plot(ax=axes[2], title='Wind Speed')\n",
        "  axes[2].set_ylabel('Wind Speed')\n",
        "  axes[2].set_xlabel('Date')\n",
        "\n",
        "\n",
        "  plt.tight_layout()\n",
        "  plt.show()\n",
        "\n",
        "plot_data(pr_df, te_df, ws_df)\n"
      ]
    },
    {
      "cell_type": "markdown",
      "metadata": {
        "id": "tC45M80LM4ZW"
      },
      "source": [
        "### Kampala Region"
      ]
    },
    {
      "cell_type": "code",
      "execution_count": null,
      "metadata": {
        "id": "OLYKYlq0QX1A"
      },
      "outputs": [],
      "source": [
        "# get stations metadata\n",
        "stations_metadata = ret.get_stations_info()\n",
        "\n",
        "# rename location.longitude to Longitude, location.latitude to Latitude\n",
        "stations_metadata.rename(columns={'location.longitude': 'Longitude', 'location.latitude': 'Latitude'}, inplace=True)"
      ]
    },
    {
      "cell_type": "code",
      "execution_count": null,
      "metadata": {
        "id": "aqiJO65zM7U4"
      },
      "outputs": [],
      "source": [
        "kampala_lat, kampala_lon = fs.centre_point('Kampala, Uganda')\n",
        "\n",
        "# get the bounding box for kampala region\n",
        "kampala_bbox = fs.compute_filter(kampala_lat, kampala_lon, 50)"
      ]
    },
    {
      "cell_type": "code",
      "execution_count": null,
      "metadata": {
        "colab": {
          "base_uri": "https://localhost:8080/"
        },
        "id": "AVceeoggpx2T",
        "outputId": "066919c3-fef7-4f7b-d354-3fd2691bf094"
      },
      "outputs": [],
      "source": [
        "kampala_bbox"
      ]
    },
    {
      "cell_type": "code",
      "execution_count": null,
      "metadata": {
        "colab": {
          "base_uri": "https://localhost:8080/",
          "height": 314,
          "referenced_widgets": [
            "7ab26a7c15654baaa97ff9add39f00fa",
            "bee0c23bfe784cce9818deb3d4a54791",
            "8d4e262ca76e4112850e429928ccc5cb",
            "dd8aff51a8e640628c64a46dd34612f4",
            "ec21eff1b73c424d858fe18ff6bcf2b3",
            "a5ffba50c3144b4182792a0f7e105d57",
            "e2458c74f7df4707880cabf85ffecddb",
            "ced448b7255c485da340aba113c7ee19",
            "2f2331f12ae040ed97b4085b8a349aa8",
            "4b160dce9fff485190a3ec62bb627681",
            "48042f12407b444f902d0fcccd14d841",
            "d3b4c22b508841f1b98acfca669d4c91",
            "c30733f3c9b84823aacc4449aa215740",
            "1a3350f5336d4a768957a354a5b7d3e3",
            "bf55822b72b04d75b207efa21cea98cc",
            "3b7a4df7d6ea495eb0ffdd42c1ca4c43",
            "895a22ed894346d7a291901b12d2b72d",
            "b0e98c25db34435f8dac9da45de58ef1",
            "c5579bdb26c648668d86d609aef0141f",
            "15aa5fea05be4e89a38d2b311bdf63e4",
            "ff2a240b881b4dd68c234f4c8a943610",
            "f2c2d5a351924e60881cb34acbde1bf9",
            "d849878fa32645179a9eac80c059bbbc",
            "d2de707f5a6543abb024d1e24683f7e2",
            "cc5bd8b516af459caef56c0ba3216efe",
            "d3a8d7f00c6044c8bf337c17f46a2e6e",
            "2caaa774a582420a938165f403662eda",
            "6f4f3c9e72194939bd80be305b89e8c7",
            "001282ebd77e40919dc87815645631a8",
            "4088b66d4ea84b0494914c432647166d",
            "efe280dc94834db9a77bf73aa816cf58",
            "86226da5c7374a6b96a6225cb2d7f59a",
            "105a1454fe654089843ce8332d081112"
          ]
        },
        "id": "sYhmnI72Q0QM",
        "outputId": "7d6ead3d-68dd-405c-9419-aa5d6869ba7b"
      },
      "outputs": [],
      "source": [
        "kampala_stations = list(subset_stations_in_bbox(stations_metadata, kampala_bbox).code)\n",
        "\n",
        "# get the pr, te and ws for kampala region\n",
        "kampala_pr_df = tahmo_data_for_var(start_date, end_date, 'pr', kampala_stations).dropna(axis=1, how='all') # precipitation data\n",
        "kampala_te_df = tahmo_data_for_var(start_date, end_date, 'te', kampala_stations).dropna(axis=1, how='all') # temperature data\n",
        "kampala_ws_df = tahmo_data_for_var(start_date, end_date, 'ws', kampala_stations).dropna(axis=1, how='all') # wind speed data\n"
      ]
    },
    {
      "cell_type": "code",
      "execution_count": null,
      "metadata": {
        "colab": {
          "base_uri": "https://localhost:8080/",
          "height": 1000
        },
        "id": "ZJovvR35UGMs",
        "outputId": "a682d054-257b-4695-9b4d-0b2419dff92e"
      },
      "outputs": [],
      "source": [
        "plot_data(kampala_pr_df, kampala_te_df, kampala_ws_df)"
      ]
    },
    {
      "cell_type": "markdown",
      "metadata": {
        "id": "0_-6LcFqSnR0"
      },
      "source": [
        "### Kigali Region"
      ]
    },
    {
      "cell_type": "code",
      "execution_count": null,
      "metadata": {
        "colab": {
          "base_uri": "https://localhost:8080/",
          "height": 1000,
          "referenced_widgets": [
            "13230de6be4a480e85aadfd73e4cbb1f",
            "d0d4334bdf5a4c389095a58b7869fc93",
            "9e7fd1ffced34310be8a56cc9deb5eac",
            "ffd124125988440d95c8a3c9a8c7e43f",
            "ea7348491bc243f49a70f0181f8c3f5d",
            "746466fff64f4d828c97a001b76e2e9b",
            "2f5f61b3bea64a7881398a7607ae0676",
            "7c76474ac27f4345a41174c520fa12fb",
            "7a0acccf979341fbabcbdd0da9232934",
            "362df685d50f4dcaba3de3a1d8e81d35",
            "e2a4c76fe57a4e219f4deab69705094c",
            "9eae13404ee64a6cbc38cca2fd2d3b4f",
            "05b20a7a0b2c42758f12c4fe5006aa72",
            "aff0598e97664caca40977df2b81569a",
            "9d407636890f46f3a81946e97513bd77",
            "9b2994a8fe9344028e6b969406e99865",
            "824ce57d9d2441b89cf701a88899e4fc",
            "815d7d53e5b64d8494903a155fd5de5c",
            "c402b2ce4d474c1cb3922116dfb0bf68",
            "fa23ef3e060d4faabad3ab37617644e8",
            "615bfe7969374c9aac8306d13e11ecb1",
            "5c3da8a0bc8b4f3abc2cb246316035fe",
            "22041a2485b04ce4ae5bca7461493c1b",
            "6f662f7587dd42a2b951052045724cc3",
            "a00ac2274af4479b8b03e47494dbd0a9",
            "a0c47941c4354d8d9fb6ce993149017d",
            "9a1a48ba8c7c413c98202bcab35d2aa1",
            "1e75dd1cd0c9497bbd2db8b5e14fe341",
            "2acd8dc5bf1246f3a4968bebd6edf2a1",
            "13bdf17440f649d0ace1b39bdb4f579c",
            "d512a8039ffa438cb2b15390c25bef59",
            "7b832da88db640dd93154677e4c08b04",
            "2cd040459e5d4dc691beaf0e9a5ce477"
          ]
        },
        "id": "cuYLu25PSs2H",
        "outputId": "4da9a8a3-5524-44b8-a7f9-09e1754ee487"
      },
      "outputs": [],
      "source": [
        "# get the kigali data from the predefined kigali_bbox\n",
        "kigali_stations = list(subset_stations_in_bbox(stations_metadata, kigali_bbox).code)\n",
        "\n",
        "# get the data\n",
        "kigali_pr_df = tahmo_data_for_var(start_date, end_date, 'pr', kigali_stations).dropna(axis=1, how='all') # precipitation data\n",
        "kigali_te_df = tahmo_data_for_var(start_date, end_date, 'te', kigali_stations).dropna(axis=1, how='all') # temperature data\n",
        "kigali_ws_df = tahmo_data_for_var(start_date, end_date, 'ws', kigali_stations).dropna(axis=1, how='all') # wind speed data\n",
        "\n",
        "# plot the data\n",
        "plot_data(kigali_pr_df, kigali_te_df, kigali_ws_df)"
      ]
    },
    {
      "cell_type": "markdown",
      "metadata": {
        "id": "12XbYZBPBejw"
      },
      "source": [
        "## Extracting NCEI Ground Stations\n",
        "\n",
        "1. Generate a token to access the data from [NOAA CDO](https://www.ncdc.noaa.gov/cdo-web/token)\n",
        "\n",
        "2. Extract the metadata for the available stations and countries\n",
        "3. Extract data for stations within Kampala and Nairobi region\n"
      ]
    },
    {
      "cell_type": "markdown",
      "metadata": {
        "id": "bfcjywjv4C7q"
      },
      "source": [
        "![image.png](data:image/png;base64,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)"
      ]
    },
    {
      "cell_type": "markdown",
      "metadata": {
        "id": "NB7fqwHb6amN"
      },
      "source": [
        "### Metadata"
      ]
    },
    {
      "cell_type": "code",
      "execution_count": null,
      "metadata": {
        "colab": {
          "base_uri": "https://localhost:8080/",
          "height": 423
        },
        "id": "m2zRsNiC5TCM",
        "outputId": "cda24529-7fbe-4fd0-ffd1-d8f9e5db87e5"
      },
      "outputs": [],
      "source": [
        "# Define column specifications according to GHCN documentation\n",
        "col_specs = [(0, 11), (12, 20), (21, 30), (31, 37), (38, 40), (41, 71), (72, 75), (76, 79)]\n",
        "col_names = [\"ID\", \"Latitude\", \"Longitude\", \"Elevation\", \"State\", \"Station Name\", \"GSN Flag\", \"HCN/CRN Flag\"]\n",
        "\n",
        "# Load the data into a pandas DataFrame\n",
        "url = \"https://www.ncei.noaa.gov/pub/data/ghcn/daily/ghcnd-stations.txt\"\n",
        "noaa_stations = pd.read_fwf(url, colspecs=col_specs, names=col_names, header=None)\n",
        "\n",
        "noaa_stations\n"
      ]
    },
    {
      "cell_type": "code",
      "execution_count": null,
      "metadata": {
        "id": "l9obrJEBO36Y"
      },
      "outputs": [],
      "source": [
        "# subset for stations in Nairobi starting with obtaining bounding box 50km from centre point\n",
        "nai_bbox = fs.compute_filter(nai_lat, nai_lon, 50)"
      ]
    },
    {
      "cell_type": "code",
      "execution_count": null,
      "metadata": {
        "colab": {
          "base_uri": "https://localhost:8080/",
          "height": 423
        },
        "id": "a8JkWFB45zx_",
        "outputId": "32e81bd8-378b-4acf-8575-f92593041ab7"
      },
      "outputs": [],
      "source": [
        "# Define column specifications for the country file\n",
        "col_specs = [(0, 2), (3, 50)]\n",
        "col_names = [\"Code\", \"Country\"]\n",
        "\n",
        "# Load the data into a pandas DataFrame\n",
        "url = \"https://www.ncei.noaa.gov/pub/data/ghcn/daily/ghcnd-countries.txt\"\n",
        "noaa_countries = pd.read_fwf(url, colspecs=col_specs, names=col_names, header=None)\n",
        "\n",
        "noaa_countries"
      ]
    },
    {
      "cell_type": "code",
      "execution_count": null,
      "metadata": {
        "colab": {
          "base_uri": "https://localhost:8080/",
          "height": 423
        },
        "id": "4hFbKks_AJvR",
        "outputId": "43a081f4-2d13-4a9e-bc1b-ca31250ce604"
      },
      "outputs": [],
      "source": [
        "# Extract the first two characters from the 'ID' column in noaa_stations\n",
        "noaa_stations['Country_Code'] = noaa_stations['ID'].str[:2]\n",
        "\n",
        "# Merge the two dataframes based on the country codes\n",
        "merged_df = pd.merge(noaa_stations, noaa_countries, left_on='Country_Code', right_on='Code', how='left')\n",
        "\n",
        "# Display the merged dataframe\n",
        "merged_df\n"
      ]
    },
    {
      "cell_type": "code",
      "execution_count": null,
      "metadata": {
        "colab": {
          "base_uri": "https://localhost:8080/"
        },
        "id": "vBeQTLeJBPn7",
        "outputId": "e4af68f7-4a11-4e17-c412-4d2d598ff13c"
      },
      "outputs": [],
      "source": [
        "len([\"DZ\", \"AO\", \"BJ\", \"BW\", \"BF\", \"BI\", \"CM\", \"CV\", \"CF\", \"TD\", \"KM\", \"CD\", \"CG\", \"CI\",\n",
        "    \"DJ\", \"EG\", \"GQ\", \"ER\", \"SZ\", \"ET\", \"GA\", \"GM\", \"GH\", \"GN\", \"GW\", \"KE\", \"LS\", \"LR\",\n",
        "    \"LY\", \"MG\", \"MW\", \"ML\", \"MR\", \"MU\", \"YT\", \"MA\", \"MZ\", \"NA\", \"NE\", \"NG\", \"RE\", \"RW\",\n",
        "    \"ST\", \"SN\", \"SC\", \"SL\", \"SO\", \"ZA\", \"SS\", \"SD\", \"TZ\", \"TG\", \"TN\", \"UG\", \"EH\", \"ZM\", \"ZW\"\n",
        "])"
      ]
    },
    {
      "cell_type": "code",
      "execution_count": null,
      "metadata": {
        "colab": {
          "base_uri": "https://localhost:8080/"
        },
        "id": "t5PodarxAg8Q",
        "outputId": "7e131021-ad24-4c58-d7d6-334300c1277c"
      },
      "outputs": [],
      "source": [
        "import pycountry\n",
        "\n",
        "african_countries = [country.name for country in pycountry.countries if country.alpha_2 in [\n",
        "    \"DZ\", \"AO\", \"BJ\", \"BW\", \"BF\", \"BI\", \"CM\", \"CV\", \"CF\", \"TD\", \"KM\", \"CD\", \"CG\", \"CI\",\n",
        "    \"DJ\", \"EG\", \"GQ\", \"ER\", \"SZ\", \"ET\", \"GA\", \"GM\", \"GH\", \"GN\", \"GW\", \"KE\", \"LS\", \"LR\",\n",
        "    \"LY\", \"MG\", \"MW\", \"ML\", \"MR\", \"MU\", \"YT\", \"MA\", \"MZ\", \"NA\", \"NE\", \"NG\", \"RE\", \"RW\",\n",
        "    \"ST\", \"SN\", \"SC\", \"SL\", \"SO\", \"ZA\", \"SS\", \"SD\", \"TZ\", \"TG\", \"TN\", \"UG\", \"EH\", \"ZM\", \"ZW\"\n",
        "]]\n",
        "\n",
        "print(african_countries)\n"
      ]
    },
    {
      "cell_type": "markdown",
      "metadata": {
        "id": "-FzEKV7J6JoG"
      },
      "source": [
        "Stations Distributions in the world"
      ]
    },
    {
      "cell_type": "code",
      "execution_count": null,
      "metadata": {
        "colab": {
          "base_uri": "https://localhost:8080/",
          "height": 501
        },
        "id": "EDc8hJu_5_cM",
        "outputId": "44cc77e9-e844-4dd9-cfaa-396a32ae316f"
      },
      "outputs": [],
      "source": [
        "fig = plt.figure(figsize=(12, 8))\n",
        "ax = fig.add_subplot(1, 1, 1, projection=ccrs.PlateCarree())\n",
        "\n",
        "# Add world map\n",
        "ax.add_feature(cfeature.LAND)\n",
        "ax.add_feature(cfeature.OCEAN)\n",
        "ax.add_feature(cfeature.COASTLINE)\n",
        "ax.add_feature(cfeature.BORDERS, linestyle=':')\n",
        "ax.set_extent([-180, 180, -90, 90], crs=ccrs.PlateCarree())\n",
        "\n",
        "# Plot the NOAA stations\n",
        "ax.scatter(noaa_stations['Longitude'], noaa_stations['Latitude'], s=0.9, alpha=.8, transform=ccrs.PlateCarree())\n",
        "plt.show()\n"
      ]
    },
    {
      "cell_type": "markdown",
      "metadata": {
        "id": "9oQ25KAq6RsM"
      },
      "source": [
        "### Extract Weather Data"
      ]
    },
    {
      "cell_type": "code",
      "execution_count": null,
      "metadata": {
        "id": "Ppg4IqmW6YCg"
      },
      "outputs": [],
      "source": [
        "noaa_token = config['noaa_stations_token']\n",
        "def noaa_station_data(station_id, start_date, end_date, token=noaa_token):\n",
        "    url = \"https://www.ncei.noaa.gov/cdo-web/api/v2/data\"\n",
        "    headers = {\"token\": token}\n",
        "\n",
        "    # Convert date strings to datetime objects\n",
        "    start_date = datetime.strptime(start_date, \"%Y-%m-%d\")\n",
        "    end_date = datetime.strptime(end_date, \"%Y-%m-%d\")\n",
        "\n",
        "    all_data = []  # Store all results\n",
        "\n",
        "    # Process data in yearly chunks\n",
        "    current_start = start_date\n",
        "    while current_start <= end_date:\n",
        "        current_end = min(datetime(current_start.year, 12, 31), end_date)\n",
        "        print(f\"Processing {current_start} - {current_end}\")\n",
        "        params = {\n",
        "            \"datasetid\": \"GHCND\",\n",
        "            \"stationid\": f'GHCND:{station_id}',\n",
        "            \"startdate\": current_start.strftime(\"%Y-%m-%d\"),\n",
        "            \"enddate\": current_end.strftime(\"%Y-%m-%d\"),\n",
        "            \"limit\": 1000,\n",
        "            \"offset\": 1\n",
        "        }\n",
        "\n",
        "        while True:\n",
        "            response = requests.get(url, headers=headers, params=params)\n",
        "\n",
        "            if response.status_code != 200:\n",
        "                print(f\"Error: {response.status_code}, {response.text}\")\n",
        "                break\n",
        "\n",
        "            data = response.json()\n",
        "\n",
        "            if 'results' in data and data['results']:\n",
        "                all_data.extend(data['results'])  # Append new data\n",
        "                params[\"offset\"] += 1000  # Move to the next batch\n",
        "            else:\n",
        "                break  # Exit loop when no more data is returned\n",
        "\n",
        "        # Move to the next year\n",
        "        current_start = current_end + timedelta(days=1)\n",
        "\n",
        "    if all_data:\n",
        "        df = pd.DataFrame(all_data)\n",
        "        df = df.pivot(index='date', columns='datatype', values='value')\n",
        "        df.index.name = 'Date'\n",
        "        return df\n",
        "    else:\n",
        "        print(\"No data retrieved\")\n",
        "        return None\n"
      ]
    },
    {
      "cell_type": "code",
      "execution_count": null,
      "metadata": {
        "id": "E9oZnPxRek1p"
      },
      "outputs": [],
      "source": [
        "import pandas as pd\n",
        "from tqdm import tqdm\n",
        "from datetime import datetime, timedelta\n",
        "import time\n",
        "\n",
        "def extract_weather_data(station_ids, start_date, end_date, token):\n",
        "    \"\"\"\n",
        "    Extracts and processes weather data for a list of stations in monthly chunks,\n",
        "    converting raw values to standard units.\n",
        "\n",
        "    Args:\n",
        "        station_ids (list): A list of station IDs.\n",
        "        start_date (str): The start date in 'YYYY-MM-DD' format.\n",
        "        end_date (str): The end date in 'YYYY-MM-DD' format.\n",
        "        token (str): NOAA API token for authentication.\n",
        "\n",
        "    Returns:\n",
        "        dict: A dictionary where keys are variable names and values are dataframes\n",
        "              containing the corresponding data for all stations.\n",
        "    \"\"\"\n",
        "\n",
        "    # Convert start and end dates to datetime objects\n",
        "    start_date = datetime.strptime(start_date, '%Y-%m-%d')\n",
        "    end_date = datetime.strptime(end_date, '%Y-%m-%d')\n",
        "\n",
        "    variable_dfs = {}  # Dictionary to store dataframes for each variable\n",
        "\n",
        "    for station_id in tqdm(station_ids, desc=\"Processing Stations\"):\n",
        "        current_start = start_date\n",
        "\n",
        "        while current_start <= end_date:\n",
        "            current_end = current_start + timedelta(days=30)\n",
        "            if current_end > end_date:\n",
        "                current_end = end_date\n",
        "\n",
        "            try:\n",
        "                # Fetch station data for the current month\n",
        "                station_data = noaa_station_data(\n",
        "                    station_id,\n",
        "                    current_start.strftime('%Y-%m-%d'),\n",
        "                    current_end.strftime('%Y-%m-%d'),\n",
        "                    token\n",
        "                )\n",
        "\n",
        "                if station_data is not None:\n",
        "                    # Convert raw values to standard units\n",
        "                    for col in station_data.columns:\n",
        "                        if col == 'PRCP':\n",
        "                            # Convert tenths of mm to mm\n",
        "                            station_data[col] = station_data[col] / 10.0\n",
        "                        elif col in ['TMAX', 'TMIN']:\n",
        "                            # Convert tenths of degrees Celsius to degrees Celsius\n",
        "                            station_data[col] = station_data[col] / 10.0\n",
        "\n",
        "                        # Append station ID to the dataframe\n",
        "                        station_data['ID'] = station_id\n",
        "\n",
        "                        # Add to the corresponding variable dataframe\n",
        "                        if col not in variable_dfs:\n",
        "                            variable_dfs[col] = pd.DataFrame()\n",
        "                        variable_dfs[col] = pd.concat(\n",
        "                            [variable_dfs[col], station_data[['ID', col]]]\n",
        "                        )\n",
        "\n",
        "                # Respect API rate limits by adding a delay between requests\n",
        "                time.sleep(1)  # Adjust the sleep time as needed\n",
        "\n",
        "            except Exception as e:\n",
        "                print(f\"Error processing station {station_id} for period \"\n",
        "                      f\"{current_start.strftime('%Y-%m-%d')} to \"\n",
        "                      f\"{current_end.strftime('%Y-%m-%d')}: {e}\")\n",
        "                continue  # Skip to the next time period in case of error\n",
        "\n",
        "            # Move to the next month\n",
        "            current_start = current_end + timedelta(days=1)\n",
        "\n",
        "    return variable_dfs\n"
      ]
    },
    {
      "cell_type": "markdown",
      "metadata": {
        "id": "7G3SzsDCV9-C"
      },
      "source": [
        "### Nairobi Region"
      ]
    },
    {
      "cell_type": "code",
      "execution_count": null,
      "metadata": {
        "colab": {
          "base_uri": "https://localhost:8080/",
          "height": 125
        },
        "id": "7AOsQoNrWA5U",
        "outputId": "be5a8e05-b822-4c7b-8e38-14816f8b74f3"
      },
      "outputs": [],
      "source": [
        "gh_stations = subset_stations_in_bbox(noaa_stations, bbox_from_polygon('Ghana', maps_key=maps_key))\n",
        "\n",
        "# rename id to code and latitude to lat, longitude to lon\n",
        "gh_stations = gh_stations.rename(columns={'ID': 'code', 'Latitude': 'lat', 'Longitude': 'lon'})\n",
        "gh_stations"
      ]
    },
    {
      "cell_type": "code",
      "execution_count": null,
      "metadata": {
        "colab": {
          "base_uri": "https://localhost:8080/"
        },
        "id": "t-n2VHMGC0fs",
        "outputId": "f280ad7c-44c7-40ae-c3ad-137674458fe0"
      },
      "outputs": [],
      "source": [
        "# !git clone https://github.com/scotthosking/get-station-data.git"
      ]
    },
    {
      "cell_type": "code",
      "execution_count": null,
      "metadata": {
        "id": "M3dOCVzGDp8x"
      },
      "outputs": [],
      "source": [
        "import sys\n",
        "\n",
        "sys.path.append('get-station-data')\n",
        "\n",
        "from get_station_data import ghcnd\n",
        "from get_station_data.util import nearest_stn\n",
        "\n",
        "%matplotlib inline"
      ]
    },
    {
      "cell_type": "code",
      "execution_count": null,
      "metadata": {
        "colab": {
          "base_uri": "https://localhost:8080/"
        },
        "id": "quDINU6WFsXl",
        "outputId": "76fd99b6-d954-49fa-bf46-c660cc94938d"
      },
      "outputs": [],
      "source": [
        "stn_md = ghcnd.get_stn_metadata()"
      ]
    },
    {
      "cell_type": "code",
      "execution_count": null,
      "metadata": {
        "colab": {
          "base_uri": "https://localhost:8080/",
          "height": 80
        },
        "id": "exW0FnzjFvDP",
        "outputId": "c75a7411-3fa6-4f8f-ea5c-d4c63ac52fca"
      },
      "outputs": [],
      "source": [
        "def subset_stations_by_country(country_code):\n",
        "    return stn_md[stn_md['station'].str.startswith(country_code)]\n",
        "\n",
        "# Get the stations in Ghana\n",
        "gh_noaa_stations = subset_stations_by_country('GH')"
      ]
    },
    {
      "cell_type": "code",
      "execution_count": null,
      "metadata": {},
      "outputs": [],
      "source": [
        "plot_stations_folium([gh_noaa_stations, stations_met], ['red', 'blue'])"
      ]
    },
    {
      "cell_type": "code",
      "execution_count": null,
      "metadata": {
        "colab": {
          "base_uri": "https://localhost:8080/",
          "height": 258
        },
        "id": "VpzdBKpKGIRy",
        "outputId": "68336ded-1bf9-4d53-e2dd-47e8783596df"
      },
      "outputs": [],
      "source": [
        "df = ghcnd.get_data(gh_noaa_stations)\n",
        "\n",
        "df.head()"
      ]
    },
    {
      "cell_type": "code",
      "execution_count": null,
      "metadata": {
        "colab": {
          "base_uri": "https://localhost:8080/",
          "height": 206
        },
        "id": "s3lJ8ta5HR_J",
        "outputId": "993128d5-7a93-4c03-ec42-6174e4e07d43"
      },
      "outputs": [],
      "source": [
        "var = 'PRCP'   # precipitation\n",
        "df_pr = df[ df['element'] == var ]\n",
        "\n",
        "### Tidy up columns\n",
        "df_pr = df_pr.rename(index=str, columns={\"value\": var})\n",
        "df_pr = df_pr.drop(['element'], axis=1)\n",
        "\n",
        "df_pr.head()"
      ]
    },
    {
      "cell_type": "code",
      "execution_count": null,
      "metadata": {},
      "outputs": [],
      "source": [
        "tavg_var = 'TAVG'   # average temperature\n",
        "df_tavg = df[ df['element'] == tavg_var ]\n",
        "df_tavg = df_tavg.rename(index=str, columns={\"value\": tavg_var})\n",
        "df_tavg = df_tavg.drop(['element'], axis=1)\n",
        "\n",
        "tmax_var = 'TMAX'   # maximum temperature\n",
        "df_tmax = df[ df['element'] == tmax_var ]\n",
        "df_tmax = df_tmax.rename(index=str, columns={\"value\": tmax_var})\n",
        "df_tmax = df_tmax.drop(['element'], axis=1)\n",
        "\n",
        "tmin_var = 'TMIN'   # minimum temperature\n",
        "df_tmin = df[ df['element'] == tmin_var ]\n",
        "df_tmin = df_tmin.rename(index=str, columns={\"value\": tmin_var})\n",
        "df_tmin = df_tmin.drop(['element'], axis=1)\n"
      ]
    },
    {
      "cell_type": "code",
      "execution_count": null,
      "metadata": {
        "colab": {
          "base_uri": "https://localhost:8080/",
          "height": 548
        },
        "id": "QgQYvin3HzFX",
        "outputId": "c52269bb-b524-4584-fef2-fda280b8e4ad"
      },
      "outputs": [],
      "source": [
        "# @title date vs PRCP\n",
        "\n",
        "from matplotlib import pyplot as plt\n",
        "import seaborn as sns\n",
        "def _plot_series(series, series_name, series_index=0):\n",
        "  palette = list(sns.palettes.mpl_palette('Dark2'))\n",
        "  xs = series['date']\n",
        "  ys = series['PRCP']/10\n",
        "\n",
        "  plt.plot(xs, ys, label=series_name, color=palette[series_index % len(palette)])\n",
        "\n",
        "fig, ax = plt.subplots(figsize=(10, 5.2), layout='constrained')\n",
        "df_sorted = df_pr.sort_values('date', ascending=True)\n",
        "for i, (series_name, series) in enumerate(df_sorted.groupby('station')):\n",
        "  _plot_series(series, series_name, i)\n",
        "  fig.legend(title='station', bbox_to_anchor=(1, 1), loc='upper left')\n",
        "sns.despine(fig=fig, ax=ax)\n",
        "plt.xlabel('date')\n",
        "_ = plt.ylabel('PRCP')"
      ]
    },
    {
      "cell_type": "code",
      "execution_count": null,
      "metadata": {},
      "outputs": [],
      "source": [
        "def _plot_series(series, series_name, series_index=0):\n",
        "  palette = list(sns.palettes.mpl_palette('Dark2'))\n",
        "  xs = series['date']\n",
        "  ys = series['TMIN']/10\n",
        "# Plot the temperature data\n",
        "fig, ax = plt.subplots(figsize=(10, 5.2), layout='constrained')\n",
        "df_sorted = df_tmin.sort_values('date', ascending=True)\n",
        "for i, (series_name, series) in enumerate(df_sorted.groupby('station')):\n",
        "    _plot_series(series, series_name, i)\n",
        "    fig.legend(title='station', bbox_to_anchor=(1, 1), loc='upper left')\n",
        "sns.despine(fig=fig, ax=ax)\n",
        "plt.xlabel('date')\n",
        "_ = plt.ylabel('TAVG')"
      ]
    },
    {
      "cell_type": "code",
      "execution_count": null,
      "metadata": {},
      "outputs": [],
      "source": [
        "df_tmax"
      ]
    },
    {
      "cell_type": "code",
      "execution_count": null,
      "metadata": {
        "colab": {
          "base_uri": "https://localhost:8080/",
          "height": 466
        },
        "id": "0ali_I19y4jM",
        "outputId": "55879aac-36cf-4768-c773-324593c16a84"
      },
      "outputs": [],
      "source": [
        "noaa_extracts_nai['PRCP'].pivot_table(\n",
        "    index='date',  # Explicitly set the index to date\n",
        "    columns='station_id',\n",
        "    values='value',\n",
        "    aggfunc='mean'  # Aggregate values by taking the mean if duplicates exist\n",
        ").plot()"
      ]
    },
    {
      "cell_type": "code",
      "execution_count": null,
      "metadata": {
        "colab": {
          "base_uri": "https://localhost:8080/",
          "height": 455
        },
        "id": "5pNQusWJyJdf",
        "outputId": "00647f03-cdae-46c8-c944-1b2af626a122"
      },
      "outputs": [],
      "source": [
        "noaa_extracts_nai['PRCP']"
      ]
    },
    {
      "cell_type": "code",
      "execution_count": null,
      "metadata": {
        "id": "n5y7EDbqsPKS"
      },
      "outputs": [],
      "source": [
        "noaa_extracts_nai['PRCP'].pivot(columns='ID', values='PRCP').plot()"
      ]
    },
    {
      "cell_type": "code",
      "execution_count": null,
      "metadata": {
        "colab": {
          "base_uri": "https://localhost:8080/",
          "height": 707
        },
        "id": "Yw5Zw_NraMMy",
        "outputId": "905cc3ed-8702-42d8-8747-91b962c3f708"
      },
      "outputs": [],
      "source": [
        "\n",
        "fig, axes = plt.subplots(len(noaa_extracts_nai), 1, sharex=True, figsize=(12, 7))\n",
        "\n",
        "# pop the TAVG key\n",
        "# noaa_extracts_nai.pop('TAVG')\n",
        "\n",
        "# Iterate over each variable (PRCP, TAVG, TMAX, TMIN)\n",
        "for i, (key, df) in enumerate(noaa_extracts_nai.items()):\n",
        "  if key == 'TAVG':\n",
        "    continue\n",
        "  # Pivot the DataFrame to have stations as columns\n",
        "  pivot_df = df.pivot(columns='ID', values=key)\n",
        "\n",
        "  # Plot the data for the current variable\n",
        "  ax = axes[i] if len(noaa_extracts_nai) > 1 else axes # Handle single or multiple subplots\n",
        "  pivot_df.plot(ax=ax, legend=True)  # Use a shared x-axis\n",
        "  ax.set_ylabel(key)\n",
        "  ax.set_title(key)\n",
        "\n",
        "  # Clear index for x-axis\n",
        "  ax.xaxis.grid(True, which='minor')\n",
        "\n",
        "\n",
        "plt.xticks(rotation=45)\n",
        "plt.tight_layout()\n",
        "plt.show()\n"
      ]
    },
    {
      "cell_type": "markdown",
      "metadata": {
        "id": "HZqZdqEMWB2Q"
      },
      "source": [
        "### Kampala Region"
      ]
    },
    {
      "cell_type": "code",
      "execution_count": null,
      "metadata": {
        "colab": {
          "base_uri": "https://localhost:8080/",
          "height": 89
        },
        "id": "Qw_nVAyaWEH9",
        "outputId": "31f720b8-c8bd-4f50-979e-2a61137802a9"
      },
      "outputs": [],
      "source": [
        "kampala_stations_noaa = subset_stations_in_bbox(noaa_stations, kampala_bbox)\n",
        "kampala_stations_noaa"
      ]
    },
    {
      "cell_type": "markdown",
      "metadata": {
        "id": "9GBUUKFnWEdi"
      },
      "source": [
        "### Kigali Region"
      ]
    },
    {
      "cell_type": "code",
      "execution_count": null,
      "metadata": {
        "colab": {
          "base_uri": "https://localhost:8080/",
          "height": 89
        },
        "id": "qaEAT_vyWJ_v",
        "outputId": "30a6e7a1-77b7-45b9-87c5-677fd5f00b0a"
      },
      "outputs": [],
      "source": [
        "kigali_stations_noaa = subset_stations_in_bbox(noaa_stations, kigali_bbox)\n",
        "kigali_stations_noaa"
      ]
    },
    {
      "cell_type": "code",
      "execution_count": null,
      "metadata": {
        "colab": {
          "base_uri": "https://localhost:8080/"
        },
        "id": "gj6rN7gr-MDn",
        "outputId": "ecf18358-1d7e-43f9-9a66-e427e3ee65b9"
      },
      "outputs": [],
      "source": [
        "noaa_extracts_kigali = extract_weather_data(kigali_stations_noaa['ID'], '2023-01-01', '2023-12-31')"
      ]
    },
    {
      "cell_type": "code",
      "execution_count": null,
      "metadata": {
        "colab": {
          "base_uri": "https://localhost:8080/",
          "height": 707
        },
        "id": "FcoDcpErAv0o",
        "outputId": "16173390-0ba5-4bd3-ff42-e94fc41453fc"
      },
      "outputs": [],
      "source": [
        "# Extract station in a particular region\n",
        "\n",
        "fig, axes = plt.subplots(len(noaa_extracts_kigali), 1, sharex=True, figsize=(12, 7))\n",
        "\n",
        "# Iterate over each variable (PRCP, TAVG, TMAX, TMIN)\n",
        "for i, (key, df) in enumerate(noaa_extracts_kigali.items()):\n",
        "  # Pivot the DataFrame to have stations as columns\n",
        "  pivot_df = df.pivot(columns='ID', values=key)\n",
        "\n",
        "  # Plot the data for the current variable\n",
        "  ax = axes[i] if len(noaa_extracts_nai) > 1 else axes # Handle single or multiple subplots\n",
        "  pivot_df.plot(ax=ax, legend=True)  # Use a shared x-axis\n",
        "  ax.set_ylabel(key)\n",
        "  ax.set_title(key)\n",
        "\n",
        "  # Clear index for x-axis\n",
        "  ax.xaxis.grid(True, which='minor')\n",
        "\n",
        "# Improve x-axis readability (optional)\n",
        "plt.xticks(rotation=45)\n",
        "plt.tight_layout()\n",
        "plt.show()\n"
      ]
    },
    {
      "cell_type": "markdown",
      "metadata": {
        "id": "qerqeHWGU4Gx"
      },
      "source": [
        "## Have a look at your Data\n",
        "To do this ensure you have metadata for your ground stations with the column <BR>\n",
        "**Station ID | Longitude | Latitude**\n",
        "\n",
        "The second dataset needs to containig the variables you need to plot which would contain a time series data <br>\n",
        "**Date column | Station 1 | Station 2 | Station 3 ..... Station n**\n",
        "<br>n being the numer of stations"
      ]
    },
    {
      "cell_type": "code",
      "execution_count": null,
      "metadata": {
        "id": "WGWhs2wgU7Vj"
      },
      "outputs": [],
      "source": [
        "# ToDo Get to know your data\n",
        "\n",
        "data_path = ... # Path to your dataset for the given variable\n",
        "\n",
        "# Load using pandas\n",
        "\n",
        "# Subset for the given region you want\n",
        "\n",
        "# Plot the variable data"
      ]
    },
    {
      "cell_type": "markdown",
      "metadata": {
        "id": "fiXCarADDB7J"
      },
      "source": [
        "## Temperature CBAM (Nairobi and Kampala) and ERA5 (Kigali)"
      ]
    },
    {
      "cell_type": "markdown",
      "metadata": {
        "id": "dTTXbwuggeZZ"
      },
      "source": [
        "### Extract CBAM Avg Temperature and visualise"
      ]
    },
    {
      "cell_type": "code",
      "execution_count": null,
      "metadata": {
        "id": "n1JIYrCzDFM4"
      },
      "outputs": [],
      "source": [
        "# Initialize client and fetch data\n",
        "cbam_client = CBAMClient('config.json')  # Ensure config.json contains only username and password\n",
        "\n",
        "# Define parameters\n",
        "kampala_bbox_str = f\"{kampala_bbox[1]},{kampala_bbox[0]},{kampala_bbox[3]}, {kampala_bbox[2]}\"\n",
        "start_date = \"2023-01-01\"\n",
        "end_date = \"2023-12-31\"\n",
        "attributes = \"min_temperature\"\n",
        "product = 'cbam_historical_analysis_bias_adjust'\n",
        "\n",
        "# Minimum temperature\n",
        "csv_min_te = cbam_client.get_data(kampala_bbox_str, start_date, end_date, attributes, product=product)\n",
        "cbam_min_te = pd.read_csv(io.StringIO(csv_min_te))\n",
        "\n",
        "# convert date column to datetime and sort\n",
        "cbam_min_te['date'] = pd.to_datetime(cbam_min_te['date'])\n",
        "cbam_min_te = cbam_min_te.sort_values('date')\n",
        "\n",
        "# set date as index\n",
        "cbam_min_te = cbam_min_te.set_index('date')\n",
        "\n",
        "# Maximum Temperature\n",
        "attributes = \"max_temperature\"\n",
        "csv_max_te = cbam_client.get_data(kampala_bbox_str, start_date, end_date, attributes, product=product)\n",
        "cbam_max_te = pd.read_csv(io.StringIO(csv_max_te))\n",
        "\n",
        "# convert date column to datetime\n",
        "cbam_max_te['date'] = pd.to_datetime(cbam_max_te['date'])\n",
        "cbam_max_te = cbam_max_te.sort_values('date')\n",
        "\n",
        "# set date as index\n",
        "cbam_max_te = cbam_max_te.set_index('date')\n",
        "\n",
        "# Calculate the average temperature\n",
        "cbam_avg_temp = (cbam_min_te['min_temperature'] + cbam_max_te['max_temperature']) / 2\n",
        "\n",
        "# reset the index\n",
        "cbam_avg_temp = cbam_avg_temp.reset_index()\n",
        "\n",
        "# rename the column\n",
        "cbam_avg_temp = cbam_avg_temp.rename(columns={0: 'avg_temperature'})"
      ]
    },
    {
      "cell_type": "code",
      "execution_count": null,
      "metadata": {
        "id": "9PhKBi32teFK"
      },
      "outputs": [],
      "source": [
        "# Reset the index before merging on columns\n",
        "cbam_max_te = cbam_max_te.reset_index()\n",
        "cbam_min_te = cbam_min_te.reset_index()\n",
        "\n",
        "# Perform the merge\n",
        "merged_cbam_data = pd.merge(cbam_max_te, cbam_min_te, on=['date', 'lat', 'lon'], how='inner')\n",
        "\n",
        "# compute the average of merged_cbam_data\n",
        "merged_cbam_data['avg_temperature'] = (merged_cbam_data['max_temperature'] + merged_cbam_data['min_temperature']) / 2\n",
        "# convert the dataframe to xarray\n",
        "cbam_avg_ds = df_to_xarray(merged_cbam_data, values='avg_temperature')\n",
        "\n"
      ]
    },
    {
      "cell_type": "code",
      "execution_count": null,
      "metadata": {
        "id": "PvH1fDCCrkE6"
      },
      "outputs": [],
      "source": [
        "selected_data = select(cbam_avg_ds, \"avg_temperature\", level=None, max_steps=None)\n",
        "scaled_data, norm, cmap = scale(selected_data, robust=True)\n",
        "\n",
        "# Prepare the data dictionary for plotting.\n",
        "data_for_plot = {\"Average Temperature\": (scaled_data, norm, cmap)}\n",
        "fig_title = \"Average Temperature in Kampala\"\n",
        "\n",
        "\n",
        "\n",
        "# Plot and display the animation in the notebook.\n",
        "html_anim = plot_data(data_for_plot, fig_title, plot_size=7, robust=True, extent=[kampala_bbox[1],kampala_bbox[0],kampala_bbox[3], kampala_bbox[2]])\n",
        "display(html_anim)"
      ]
    },
    {
      "cell_type": "markdown",
      "metadata": {
        "id": "FjIpsbY3v2vU"
      },
      "source": [
        "### Nairobi Region Average Temperature"
      ]
    },
    {
      "cell_type": "code",
      "execution_count": null,
      "metadata": {
        "id": "DnHuW3cKv1vI"
      },
      "outputs": [],
      "source": [
        "def extract_avg_temp(client, bbox, start_date, end_date, product='cbam_historical_analysis_bias_adjust'):\n",
        "    \"\"\"\n",
        "    Extracts and calculates the average temperature from CBAM data for a given bounding box and time period.\n",
        "\n",
        "    Args:\n",
        "        client: The CBAM client instance.\n",
        "        bbox: The bounding box coordinates.\n",
        "        start_date: The start date string (YYYY-MM-DD).\n",
        "        end_date: The end date string (YYYY-MM-DD).\n",
        "        product: The product name (default: 'cbam_historical_analysis_bias_adjust').\n",
        "\n",
        "    Returns:\n",
        "        pandas.DataFrame: A DataFrame containing the average temperature, or None if an error occurs.\n",
        "    \"\"\"\n",
        "    bbox_str = f\"{bbox[1]},{bbox[0]},{bbox[3]}, {bbox[2]}\"\n",
        "\n",
        "    try:\n",
        "        # Minimum temperature\n",
        "        csv_min_te = client.get_data(bbox_str, start_date, end_date, \"min_temperature\", product=product)\n",
        "        cbam_min_te = pd.read_csv(io.StringIO(csv_min_te))\n",
        "        cbam_min_te['date'] = pd.to_datetime(cbam_min_te['date'])\n",
        "        cbam_min_te = cbam_min_te.sort_values('date')\n",
        "\n",
        "        # Maximum Temperature\n",
        "        csv_max_te = client.get_data(bbox_str, start_date, end_date, \"max_temperature\", product=product)\n",
        "        cbam_max_te = pd.read_csv(io.StringIO(csv_max_te))\n",
        "        cbam_max_te['date'] = pd.to_datetime(cbam_max_te['date'])\n",
        "        cbam_max_te = cbam_max_te.sort_values('date')\n",
        "\n",
        "        # Merge and calculate average\n",
        "        merged_cbam_data = pd.merge(cbam_max_te, cbam_min_te, on=['date', 'lat', 'lon'], how='inner')\n",
        "        merged_cbam_data['avg_temperature'] = (merged_cbam_data['max_temperature'] + merged_cbam_data['min_temperature']) / 2\n",
        "\n",
        "        return merged_cbam_data\n",
        "\n",
        "    except Exception as e:\n",
        "        print(f\"An error occurred: {e}\")\n",
        "        return None\n"
      ]
    },
    {
      "cell_type": "code",
      "execution_count": null,
      "metadata": {
        "id": "iWmSCMMDuwgf"
      },
      "outputs": [],
      "source": [
        "# get the bounding box for kampala region\n",
        "nai_bbox = fs.compute_filter(nai_lat, nai_lon, 50)"
      ]
    },
    {
      "cell_type": "code",
      "execution_count": null,
      "metadata": {
        "id": "ZIGWJwuzz7dx"
      },
      "outputs": [],
      "source": [
        "nai_avg_temp = extract_avg_temp(cbam_client, nai_bbox, '2023-01-01', '2023-12-31')\n",
        "cbam_avg_ds_nai = df_to_xarray(nai_avg_temp, values='avg_temperature')"
      ]
    },
    {
      "cell_type": "code",
      "execution_count": null,
      "metadata": {
        "id": "r3oUvuWP0JoL"
      },
      "outputs": [],
      "source": [
        "selected_data = select(cbam_avg_ds_nai, \"avg_temperature\", level=None, max_steps=None)\n",
        "scaled_data, norm, cmap = scale(selected_data, robust=True)\n",
        "\n",
        "# Prepare the data dictionary for plotting.\n",
        "data_for_plot = {\"Average Temperature\": (scaled_data, norm, cmap)}\n",
        "fig_title = \"Average Temperature in Nairobi\"\n",
        "\n",
        "# Plot and display the animation in the notebook.\n",
        "html_anim = plot_data(data_for_plot, fig_title, plot_size=7, robust=True, extent=[kampala_bbox[1],kampala_bbox[0],kampala_bbox[3], kampala_bbox[2]])\n",
        "display(html_anim)"
      ]
    },
    {
      "cell_type": "markdown",
      "metadata": {
        "id": "FXro0DzSgjeV"
      },
      "source": [
        "### Extract ERA5 2m Temperature and visualise"
      ]
    },
    {
      "cell_type": "code",
      "execution_count": null,
      "metadata": {
        "id": "hvreph7Cg0BN"
      },
      "outputs": [],
      "source": [
        "# from the variables data frame  extracted earlier plot the 2m temperature in Kigali\n",
        "\n",
        "variable_dataframes['temperature_2m']['value'] = variable_dataframes['temperature_2m']['value'] -273.15\n",
        "# rename latitude to lat and longitude to lon\n",
        "variable_dataframes['temperature_2m'].rename(columns={'latitude': 'lat', 'longitude': 'lon'}, inplace=True)\n",
        "# rename value to total_precipitation\n",
        "variable_dataframes['temperature_2m'].rename(columns={'value': 'temperature_2m'}, inplace=True)\n",
        "eraf_te_xr = df_to_xarray(variable_dataframes['temperature_2m'], 'temperature_2m')"
      ]
    },
    {
      "cell_type": "code",
      "execution_count": null,
      "metadata": {
        "id": "DEqxoTkT1jvi"
      },
      "outputs": [],
      "source": [
        "selected_data = select(eraf_te_xr, \"temperature_2m\", level=None, max_steps=None)\n",
        "scaled_data, norm, cmap = scale(selected_data, robust=True)\n",
        "\n",
        "# Prepare the data dictionary for plotting.\n",
        "data_for_plot = {\"Surface Temperature\": (scaled_data, norm, cmap)}\n",
        "fig_title = \"ERA5 Surface  Temperature Kigali Region\"\n",
        "\n",
        "# Plot and display the animation in the notebook.\n",
        "html_anim = plot_data(data_for_plot, fig_title, plot_size=7, robust=True, extent=[kigali_bbox[1],kigali_bbox[0], kigali_bbox[3], kigali_bbox[2]])\n",
        "display(html_anim)"
      ]
    },
    {
      "cell_type": "markdown",
      "metadata": {
        "id": "VL9fnhdWDI3k"
      },
      "source": [
        "## ERA5  Data from 1980\n",
        "1. Extract monthly aggregates of the data\n",
        "2. Have a matrix of months against the years to look at the trend of the months\n"
      ]
    },
    {
      "cell_type": "markdown",
      "metadata": {
        "id": "iG9Id3D77OFL"
      },
      "source": [
        "### ERA5 monthly data"
      ]
    },
    {
      "cell_type": "code",
      "execution_count": null,
      "metadata": {
        "id": "ewgjSCfzDJbz"
      },
      "outputs": [],
      "source": [
        "import datetime\n",
        "# extract montly data\n",
        "def extract_era5_monthly(start_date_str, end_date_str, bbox=None, polygon=None,\n",
        "                         region_name=None, maps_key='', era5_land=False):\n",
        "    \"\"\"\n",
        "    Extract ERA5 reanalysis data from Google Earth Engine for a given bounding box and date range.\n",
        "    The extraction is performed in monthly chunks at a 0.25° resolution. For each month, the image\n",
        "    is aggregated (mean) and a 'date' property is added. The function then uses sampleRectangle to extract\n",
        "    pixel-level values from the monthly aggregated image and converts the results into multiple pandas DataFrames—one for each variable.\n",
        "    Each DataFrame has the columns: date, latitude, longitude, and value (the pixel value for that variable).\n",
        "\n",
        "    Args:\n",
        "        start_date_str (str): Start date in 'YYYY-MM-DD' format.\n",
        "        end_date_str (str): End date in 'YYYY-MM-DD' format.\n",
        "        bbox (list or tuple): Bounding box specified as [minLon, minLat, maxLon, maxLat].\n",
        "\n",
        "    Returns:\n",
        "        dict: A dictionary where keys are variable (band) names and values are pandas DataFrames containing\n",
        "              the time series data. Each DataFrame includes columns: 'date', 'latitude', 'longitude', 'value'.\n",
        "    \"\"\"\n",
        "    # Convert input dates from strings to datetime objects.\n",
        "    start_date = datetime.datetime.strptime(start_date_str, '%Y-%m-%d')\n",
        "    end_date   = datetime.datetime.strptime(end_date_str, '%Y-%m-%d')\n",
        "\n",
        "    # Define the geometry from the bounding box.\n",
        "    if bbox is not None:\n",
        "        region = ee.Geometry.Rectangle(bbox)\n",
        "    elif region_name is not None:\n",
        "        geojson = get_region_geojson(region_name, maps_key)\n",
        "        if geojson is None:\n",
        "            return None\n",
        "        region = ee.Geometry.Polygon(geojson['geometry']['coordinates'][0])\n",
        "    else:\n",
        "\n",
        "        region = ee.Geometry.Polygon(polygon)\n",
        "\n",
        "    # Use a scale (in meters) corresponding to ~0.25° at the equator.\n",
        "    scale_m = 27830\n",
        "\n",
        "    # This dictionary will accumulate results for each band (variable).\n",
        "    results = {}\n",
        "\n",
        "    # Loop over months between start_date and end_date.\n",
        "    current = start_date\n",
        "    while current < end_date:\n",
        "        print(f\"Processing {current.strftime('%Y-%m-%d')} to {(current + datetime.timedelta(days=29)).strftime('%Y-%m-%d')}\")\n",
        "        # Determine the first day of the next month.\n",
        "        if current.month == 12:\n",
        "            next_month = datetime.datetime(current.year + 1, 1, 1)\n",
        "        else:\n",
        "            next_month = datetime.datetime(current.year, current.month + 1, 1)\n",
        "\n",
        "        # Convert Python dates to Earth Engine date objects.\n",
        "        ee_start = ee.Date(current.strftime('%Y-%m-%d'))\n",
        "        ee_end   = ee.Date(next_month.strftime('%Y-%m-%d'))\n",
        "\n",
        "        # Extract from ERA5 Land if era5_land is True, otherwise use ERA5.\n",
        "        if era5_land:\n",
        "            # If ER5 Land (0.1) or ERA5 (0.25) is used\n",
        "            era5_collection = ee.ImageCollection('ECMWF/ERA5_LAND/HOURLY') \\\n",
        "                            .filterDate(ee_start, ee_end) \\\n",
        "                           .filterBounds(region)\n",
        "        else:\n",
        "            # Get the ERA5 hourly image collection for the current day.\n",
        "            era5_collection = ee.ImageCollection('ECMWF/ERA5/HOURLY') \\\n",
        "                            .filterDate(ee_start, ee_end) \\\n",
        "                           .filterBounds(region)\n",
        "\n",
        "        # Aggregate the daily images for the month by taking their mean.\n",
        "        monthly_image = era5_collection.mean()\n",
        "\n",
        "        # Add a property for the date (here the start of the month).\n",
        "        monthly_date_str = current.strftime('%Y-%m-%d')\n",
        "        monthly_image = monthly_image.set('date', monthly_date_str)\n",
        "\n",
        "        # Use sampleRectangle to extract pixel values from the monthly image\n",
        "        # instead of getRegion, which works with ImageCollections.\n",
        "        region_data = monthly_image.sampleRectangle(region=region, properties=['date'], defaultValue=0).getInfo()\n",
        "\n",
        "        # Extract properties from region_data and organize into a list of dictionaries\n",
        "        properties = region_data['properties']\n",
        "        band_names = [band for band in properties if band not in ['date']]\n",
        "\n",
        "        # Accessing coordinates for the bounding box\n",
        "        coordinates = region_data['geometry']['coordinates'][0]\n",
        "\n",
        "        # Creating latitude and longitude grids for the bounding box\n",
        "        lons = np.linspace(coordinates[0][0], coordinates[2][0], len(properties[band_names[0]][0]))  # Assuming properties structure\n",
        "        lats = np.linspace(coordinates[0][1], coordinates[2][1], len(properties[band_names[0]]))\n",
        "\n",
        "        # Extract data for each band\n",
        "        data = []\n",
        "        for i, lat in enumerate(lats):\n",
        "            for j, lon in enumerate(lons):\n",
        "                row_data = {\n",
        "                    'date': properties['date'],\n",
        "                    'latitude': lat,\n",
        "                    'longitude': lon\n",
        "                }\n",
        "                for band in band_names:\n",
        "                    try:\n",
        "                        # Accessing band data using i and j indices\n",
        "                        row_data[band] = properties[band][i][j]\n",
        "                    except IndexError:\n",
        "                        # Handle IndexError by assigning NaN and printing a message\n",
        "                        row_data[band] = np.nan\n",
        "                        print(f\"IndexError encountered for band '{band}' at coordinates ({lat}, {lon}). Assigning NaN.\")\n",
        "                data.append(row_data)\n",
        "\n",
        "\n",
        "        # Convert data to pandas DataFrame\n",
        "        df = pd.DataFrame(data)\n",
        "\n",
        "        # If results dictionary is empty, initialize with current variable's DataFrame\n",
        "        if not results:\n",
        "            results = {col: pd.DataFrame(columns=['date', 'latitude', 'longitude', 'value']) for col in df.columns if col not in ['date', 'latitude', 'longitude']}\n",
        "\n",
        "        # Append data to existing DataFrames in results dictionary\n",
        "        for var_name in results:\n",
        "            temp_df = df[['date', 'latitude', 'longitude', var_name]].copy()\n",
        "            temp_df.rename(columns={var_name: 'value'}, inplace=True)\n",
        "            results[var_name] = pd.concat([results[var_name], temp_df], ignore_index=True)\n",
        "\n",
        "        # Move to the next month.\n",
        "        current = next_month\n",
        "\n",
        "    return results"
      ]
    },
    {
      "cell_type": "markdown",
      "metadata": {
        "id": "u8kUYp_q32fP"
      },
      "source": [
        "### Accra"
      ]
    },
    {
      "cell_type": "code",
      "execution_count": null,
      "metadata": {
        "id": "sZ0EZGEddx3v"
      },
      "outputs": [],
      "source": [
        "# Get Accra Coordinates\n",
        "accra_lat, accra_lon = fs.centre_point('Accra')\n",
        "# Get 70 km within kigali region\n",
        "accra_bbox = fs.compute_filter(accra_lat, accra_lon, 100)\n"
      ]
    },
    {
      "cell_type": "code",
      "execution_count": null,
      "metadata": {
        "colab": {
          "base_uri": "https://localhost:8080/"
        },
        "id": "FWX5bvR9-yUF",
        "outputId": "0b39c070-3f86-4d01-ffea-d503abf6e124"
      },
      "outputs": [],
      "source": [
        "# Define the bounding box as [minLon, minLat, maxLon, maxLat]\n",
        "accra_mon_bbox = [accra_bbox[1], accra_bbox[0], accra_bbox[3], accra_bbox[2]]\n",
        "print(accra_mon_bbox)\n",
        "# Define the extraction period.\n",
        "start_date = '1980-01-01'\n",
        "end_date   = '2020-06-01'  # One monthly chunk for demonstration\n",
        "\n",
        "# Call the extraction function.\n",
        "accra_variable_dataframes = extract_era5_monthly(start_date, end_date, region_name='Ghana', maps_key=maps_key)\n",
        "\n",
        "# Print a summary of the results.\n",
        "for var, df in accra_variable_dataframes.items():\n",
        "    print(f\"\\nData for variable '{var}':\")\n",
        "    print(df.head())"
      ]
    },
    {
      "cell_type": "code",
      "execution_count": null,
      "metadata": {
        "id": "NZmHy6BOKTYs"
      },
      "outputs": [],
      "source": [
        "TE = accra_variable_dataframes['mean_2m_air_temperature']"
      ]
    },
    {
      "cell_type": "code",
      "execution_count": null,
      "metadata": {
        "id": "Cje5sQ4aI2lc"
      },
      "outputs": [],
      "source": [
        "accra_te = accra_variable_dataframes['mean_2m_air_temperature']\n",
        "# convert date to datetime\n",
        "accra_te.date = pd.to_datetime(accra_te.date)\n",
        "\n",
        "# divide by 30 and then subtract 273.15 from value column\n",
        "# kigali_te.value = kigali_te.value / 30\n",
        "accra_te.value = accra_te.value - 273.15\n",
        "\n",
        "# extract year and month\n",
        "accra_te['year'] = accra_te['date'].dt.year\n",
        "accra_te['month'] = accra_te['date'].dt.month\n",
        "\n",
        "\n"
      ]
    },
    {
      "cell_type": "code",
      "execution_count": null,
      "metadata": {
        "id": "43VAyG55g6l3"
      },
      "outputs": [],
      "source": [
        "import seaborn as sns"
      ]
    },
    {
      "cell_type": "code",
      "execution_count": null,
      "metadata": {
        "colab": {
          "base_uri": "https://localhost:8080/",
          "height": 748
        },
        "id": "Yrghu0pvPJ2Y",
        "outputId": "b068c638-767e-46b0-db1e-bd3e06c33e3e"
      },
      "outputs": [],
      "source": [
        "# pivot table for heatmap\n",
        "te_heatmap_data = accra_te.pivot_table(index='month', columns='year', values='value', aggfunc='mean')\n",
        "\n",
        "# Set style\n",
        "plt.figure(figsize=(15, 8))\n",
        "sns.set_theme(style=\"whitegrid\")\n",
        "\n",
        "# Create Heatmap\n",
        "ax = sns.heatmap(\n",
        "    te_heatmap_data,\n",
        "    cmap=\"coolwarm\",  # Choose a visually appealing colormap\n",
        "    annot=False,        # Show values inside the cells\n",
        "    fmt=\".1f\",         # Formatting numbers\n",
        "    linewidths=0.5,    # Add grid lines\n",
        "    linecolor=\"white\",\n",
        "    cbar_kws={'label': 'Value Intensity'}\n",
        ")\n",
        "\n",
        "# Beautify Labels\n",
        "ax.set_title(\"Monthly Temperature Value Ghana Trends Over Years\", fontsize=14, fontweight=\"bold\")\n",
        "ax.set_xlabel(\"Year\", fontsize=11)\n",
        "ax.set_ylabel(\"Month\", fontsize=11)\n",
        "ax.set_yticklabels(['Jan', 'Feb', 'Mar', 'Apr', 'May', 'Jun', 'Jul', 'Aug', 'Sep', 'Oct', 'Nov', 'Dec'], rotation=0)\n",
        "plt.xticks(rotation=45)\n",
        "\n",
        "# Show plot\n",
        "plt.show()"
      ]
    },
    {
      "cell_type": "code",
      "execution_count": null,
      "metadata": {
        "colab": {
          "base_uri": "https://localhost:8080/",
          "height": 423
        },
        "id": "z66nUe6SBGGR",
        "outputId": "3f457a88-11c3-42c7-9509-a11d73a0ba5c"
      },
      "outputs": [],
      "source": [
        "accra_pr = accra_variable_dataframes['total_precipitation']\n",
        "# convert date to datetime\n",
        "accra_pr.date = pd.to_datetime(accra_pr.date)\n",
        "\n",
        "# multiply the value column with 1000\n",
        "accra_pr.value = accra_pr.value * 30\n",
        "\n",
        "accra_pr"
      ]
    },
    {
      "cell_type": "code",
      "execution_count": null,
      "metadata": {
        "id": "6x1PqckuGz6N"
      },
      "outputs": [],
      "source": [
        "# Extract Year and Month\n",
        "accra_pr['year'] = accra_pr['date'].dt.year\n",
        "accra_pr['month'] = accra_pr['date'].dt.month\n",
        "\n",
        "# Pivot Table for Heatmap\n",
        "heatmap_data = accra_pr.pivot_table(index='month', columns='year', values='value', aggfunc='mean')\n"
      ]
    },
    {
      "cell_type": "code",
      "execution_count": null,
      "metadata": {
        "colab": {
          "base_uri": "https://localhost:8080/",
          "height": 748
        },
        "id": "u-4Lr-mSioT5",
        "outputId": "0ab44dc8-c4d1-4e41-922d-150af8beba14"
      },
      "outputs": [],
      "source": [
        "# Set style\n",
        "plt.figure(figsize=(15, 8))\n",
        "sns.set_theme(style=\"whitegrid\")\n",
        "\n",
        "# Create Heatmap\n",
        "ax = sns.heatmap(\n",
        "    heatmap_data,\n",
        "    cmap=\"coolwarm\",  # Choose a visually appealing colormap\n",
        "    annot=False,        # Show values inside the cells\n",
        "    fmt=\".1f\",         # Formatting numbers\n",
        "    linewidths=0.5,    # Add grid lines\n",
        "    linecolor=\"white\",\n",
        "    cbar_kws={'label': 'Value Intensity'}\n",
        ")\n",
        "\n",
        "# Beautify Labels\n",
        "ax.set_title(\"Monthly Rainfall Value Ghana Trends Over Years\", fontsize=14, fontweight=\"bold\")\n",
        "ax.set_xlabel(\"Year\", fontsize=11)\n",
        "ax.set_ylabel(\"Month\", fontsize=11)\n",
        "ax.set_yticklabels(['Jan', 'Feb', 'Mar', 'Apr', 'May', 'Jun', 'Jul', 'Aug', 'Sep', 'Oct', 'Nov', 'Dec'], rotation=0)\n",
        "plt.xticks(rotation=45)\n",
        "\n",
        "# Show plot\n",
        "plt.show()\n"
      ]
    },
    {
      "cell_type": "markdown",
      "metadata": {
        "id": "CVLnvJtM37bM"
      },
      "source": [
        "### Zimbabwe"
      ]
    },
    {
      "cell_type": "code",
      "execution_count": null,
      "metadata": {
        "id": "y4sRCMfa39g9"
      },
      "outputs": [],
      "source": [
        "# Define the extraction period.\n",
        "start_date = '1980-01-01'\n",
        "end_date   = '2020-06-01'  # One monthly chunk for demonstration\n",
        "\n",
        "# Call the extraction function.\n",
        "zw_variable_dataframes = extract_era5_monthly(start_date, end_date, region_name='Zimbabwe', maps_key=maps_key)\n",
        "\n",
        "# Print a summary of the results.\n",
        "for var, df in zw_variable_dataframes.items():\n",
        "    print(f\"\\nData for variable '{var}':\")\n",
        "    print(df.head())"
      ]
    },
    {
      "cell_type": "code",
      "execution_count": null,
      "metadata": {
        "colab": {
          "base_uri": "https://localhost:8080/",
          "height": 748
        },
        "id": "JA8ZzxQR4TAf",
        "outputId": "a8b3b880-b1b9-4000-cd74-7bce6aef5bdc"
      },
      "outputs": [],
      "source": [
        "# zw_te = zw_variable_dataframes['mean_2m_air_temperature']\n",
        "# # convert date to datetime\n",
        "# zw_te.date = pd.to_datetime(zw_te.date)\n",
        "\n",
        "# # divide by 30 and then subtract 273.15 from value column\n",
        "# # kigali_te.value = kigali_te.value / 30\n",
        "# zw_te.value = zw_te.value - 273.15\n",
        "\n",
        "# # extract year and month\n",
        "# zw_te['year'] = zw_te['date'].dt.year\n",
        "# zw_te['month'] = zw_te['date'].dt.month\n",
        "\n",
        "# pivot table for heatmap\n",
        "te_heatmap_data = zw_te.pivot_table(index='month', columns='year', values='value', aggfunc='mean')\n",
        "\n",
        "# Set style\n",
        "plt.figure(figsize=(15, 8))\n",
        "sns.set_theme(style=\"whitegrid\")\n",
        "\n",
        "# Create Heatmap\n",
        "ax = sns.heatmap(\n",
        "    te_heatmap_data,\n",
        "    cmap=\"coolwarm\",  # Choose a visually appealing colormap\n",
        "    annot=False,        # Show values inside the cells\n",
        "    fmt=\".1f\",         # Formatting numbers\n",
        "    linewidths=0.5,    # Add grid lines\n",
        "    linecolor=\"white\",\n",
        "    cbar_kws={'label': 'Value Intensity'}\n",
        ")\n",
        "\n",
        "# Beautify Labels\n",
        "ax.set_title(\"Zimbabwe Monthly Temperature Value Trends Over Years\", fontsize=14, fontweight=\"bold\")\n",
        "ax.set_xlabel(\"Year\", fontsize=11)\n",
        "ax.set_ylabel(\"Month\", fontsize=11)\n",
        "ax.set_yticklabels(['Jan', 'Feb', 'Mar', 'Apr', 'May', 'Jun', 'Jul', 'Aug', 'Sep', 'Oct', 'Nov', 'Dec'], rotation=0)\n",
        "plt.xticks(rotation=45)\n",
        "\n",
        "# Show plot\n",
        "plt.show()\n"
      ]
    },
    {
      "cell_type": "code",
      "execution_count": null,
      "metadata": {
        "colab": {
          "base_uri": "https://localhost:8080/",
          "height": 748
        },
        "id": "jXJCsEJR4Zsa",
        "outputId": "2b6b2722-e84c-4606-a59b-62d7272a00f7"
      },
      "outputs": [],
      "source": [
        "zw_pr = zw_variable_dataframes['total_precipitation']\n",
        "# convert date to datetime\n",
        "zw_pr.date = pd.to_datetime(zw_pr.date)\n",
        "\n",
        "# multiply the value column with 1000\n",
        "zw_pr.value = zw_pr.value * 30000\n",
        "\n",
        "\n",
        "# Extract Year and Month\n",
        "zw_pr['year'] = zw_pr['date'].dt.year\n",
        "zw_pr['month'] = zw_pr['date'].dt.month\n",
        "\n",
        "# Pivot Table for Heatmap\n",
        "heatmap_data = zw_pr.pivot_table(index='month', columns='year', values='value', aggfunc='mean')\n",
        "# Set style\n",
        "plt.figure(figsize=(15, 8))\n",
        "sns.set_theme(style=\"whitegrid\")\n",
        "\n",
        "# Create Heatmap\n",
        "ax = sns.heatmap(\n",
        "    heatmap_data,\n",
        "    cmap=\"coolwarm\",  # Choose a visually appealing colormap\n",
        "    annot=False,        # Show values inside the cells\n",
        "    fmt=\".1f\",         # Formatting numbers\n",
        "    linewidths=0.5,    # Add grid lines\n",
        "    linecolor=\"white\",\n",
        "    cbar_kws={'label': 'Value Intensity'}\n",
        ")\n",
        "\n",
        "# Beautify Labels\n",
        "ax.set_title(\"Zimbabwe Monthly Rainfall Value Trends Over Years\", fontsize=14, fontweight=\"bold\")\n",
        "ax.set_xlabel(\"Year\", fontsize=11)\n",
        "ax.set_ylabel(\"Month\", fontsize=11)\n",
        "ax.set_yticklabels(['Jan', 'Feb', 'Mar', 'Apr', 'May', 'Jun', 'Jul', 'Aug', 'Sep', 'Oct', 'Nov', 'Dec'], rotation=0)\n",
        "plt.xticks(rotation=45)\n",
        "\n",
        "# Show plot\n",
        "plt.show()\n",
        "\n"
      ]
    },
    {
      "cell_type": "markdown",
      "metadata": {
        "id": "KEFkUf9I399_"
      },
      "source": [
        "### Kampala"
      ]
    },
    {
      "cell_type": "code",
      "execution_count": null,
      "metadata": {
        "colab": {
          "base_uri": "https://localhost:8080/"
        },
        "id": "vL9oYZB34Acf",
        "outputId": "b0fcbd8a-c4af-4391-f3b4-176cf688e3a8"
      },
      "outputs": [],
      "source": [
        "# Define the bounding box as [minLon, minLat, maxLon, maxLat]\n",
        "kampala_mon_bbox = [kampala_bbox[1], kampala_bbox[0], kampala_bbox[3], kampala_bbox[2]]\n",
        "print(kampala_mon_bbox)\n",
        "# Define the extraction period.\n",
        "start_date = '1980-01-01'\n",
        "end_date   = '2020-06-01'  # One monthly chunk for demonstration\n",
        "\n",
        "# Call the extraction function.\n",
        "kampala_variable_dataframes = extract_era5_monthly(start_date, end_date, kampala_mon_bbox)\n",
        "\n",
        "# Print a summary of the results.\n",
        "for var, df in kampala_variable_dataframes.items():\n",
        "    print(f\"\\nData for variable '{var}':\")\n",
        "    print(df.head())"
      ]
    },
    {
      "cell_type": "markdown",
      "metadata": {
        "id": "F28a5FTj-NNd"
      },
      "source": [
        "#### Temperature"
      ]
    },
    {
      "cell_type": "code",
      "execution_count": null,
      "metadata": {
        "colab": {
          "base_uri": "https://localhost:8080/",
          "height": 748
        },
        "id": "tWprvTBs-J9u",
        "outputId": "351897e5-6644-42a5-e56e-2cb4d73f2a10"
      },
      "outputs": [],
      "source": [
        "kamp_te = kampala_variable_dataframes['mean_2m_air_temperature']\n",
        "# convert date to datetime\n",
        "kamp_te.date = pd.to_datetime(kamp_te.date)\n",
        "\n",
        "# divide by 30 and then subtract 273.15 from value column\n",
        "# kigali_te.value = kigali_te.value / 30\n",
        "kamp_te.value = kamp_te.value - 273.15\n",
        "\n",
        "# extract year and month\n",
        "kamp_te['year'] = kamp_te['date'].dt.year\n",
        "kamp_te['month'] = kamp_te['date'].dt.month\n",
        "\n",
        "# pivot table for heatmap\n",
        "te_heatmap_data = kamp_te.pivot_table(index='month', columns='year', values='value', aggfunc='mean')\n",
        "\n",
        "# Set style\n",
        "plt.figure(figsize=(15, 8))\n",
        "sns.set_theme(style=\"whitegrid\")\n",
        "\n",
        "# Create Heatmap\n",
        "ax = sns.heatmap(\n",
        "    te_heatmap_data,\n",
        "    cmap=\"coolwarm\",  # Choose a visually appealing colormap\n",
        "    annot=False,        # Show values inside the cells\n",
        "    fmt=\".1f\",         # Formatting numbers\n",
        "    linewidths=0.5,    # Add grid lines\n",
        "    linecolor=\"white\",\n",
        "    cbar_kws={'label': 'Value Intensity'}\n",
        ")\n",
        "\n",
        "# Beautify Labels\n",
        "ax.set_title(\"Monthly Temperature Value Trends Over Years\", fontsize=14, fontweight=\"bold\")\n",
        "ax.set_xlabel(\"Year\", fontsize=11)\n",
        "ax.set_ylabel(\"Month\", fontsize=11)\n",
        "ax.set_yticklabels(['Jan', 'Feb', 'Mar', 'Apr', 'May', 'Jun', 'Jul', 'Aug', 'Sep', 'Oct', 'Nov', 'Dec'], rotation=0)\n",
        "plt.xticks(rotation=45)\n",
        "\n",
        "# Show plot\n",
        "plt.show()\n"
      ]
    },
    {
      "cell_type": "markdown",
      "metadata": {
        "id": "mgJmclM8-Pj7"
      },
      "source": [
        "#### Rainfall"
      ]
    },
    {
      "cell_type": "code",
      "execution_count": null,
      "metadata": {
        "colab": {
          "base_uri": "https://localhost:8080/",
          "height": 748
        },
        "id": "yy-ytbhD-QGl",
        "outputId": "174c8a4d-f1dc-4df3-cd1d-66cf75261db2"
      },
      "outputs": [],
      "source": [
        "kamp_pr = kampala_variable_dataframes['total_precipitation']\n",
        "# convert date to datetime\n",
        "kamp_pr.date = pd.to_datetime(kamp_pr.date)\n",
        "\n",
        "# multiply the value column with 1000\n",
        "kamp_pr.value = kamp_pr.value * 1000\n",
        "\n",
        "\n",
        "# Extract Year and Month\n",
        "kamp_pr['year'] = kamp_pr['date'].dt.year\n",
        "kamp_pr['month'] = kamp_pr['date'].dt.month\n",
        "\n",
        "# Pivot Table for Heatmap\n",
        "heatmap_data = kamp_pr.pivot_table(index='month', columns='year', values='value', aggfunc='mean')\n",
        "# Set style\n",
        "plt.figure(figsize=(15, 8))\n",
        "sns.set_theme(style=\"whitegrid\")\n",
        "\n",
        "# Create Heatmap\n",
        "ax = sns.heatmap(\n",
        "    heatmap_data,\n",
        "    cmap=\"coolwarm\",  # Choose a visually appealing colormap\n",
        "    annot=False,        # Show values inside the cells\n",
        "    fmt=\".1f\",         # Formatting numbers\n",
        "    linewidths=0.5,    # Add grid lines\n",
        "    linecolor=\"white\",\n",
        "    cbar_kws={'label': 'Value Intensity'}\n",
        ")\n",
        "\n",
        "# Beautify Labels\n",
        "ax.set_title(\"Monthly Rainfall Value Trends Over Years\", fontsize=14, fontweight=\"bold\")\n",
        "ax.set_xlabel(\"Year\", fontsize=11)\n",
        "ax.set_ylabel(\"Month\", fontsize=11)\n",
        "ax.set_yticklabels(['Jan', 'Feb', 'Mar', 'Apr', 'May', 'Jun', 'Jul', 'Aug', 'Sep', 'Oct', 'Nov', 'Dec'], rotation=0)\n",
        "plt.xticks(rotation=45)\n",
        "\n",
        "# Show plot\n",
        "plt.show()\n",
        "\n"
      ]
    },
    {
      "cell_type": "markdown",
      "metadata": {
        "id": "ixpMAkgSENVg"
      },
      "source": [
        "## Is there an increase or decrease of extreme events in the last 40 years?\n",
        "1. Nairobi\n",
        "2. Kampala\n",
        "3. Kigali\n",
        "\n",
        "A comparison of TAMSAT, CHIRPS and ERA5 flash floods risk and heatwave from ERA5 data and CBAM <br>\n",
        "We define an extreme event as the data occureence that is the 98th percentile and increasing or decreasing we compare the total number for a given year."
      ]
    },
    {
      "cell_type": "markdown",
      "metadata": {
        "id": "hUdMuhwK3kaL"
      },
      "source": [
        "### Kigali Extreme Events"
      ]
    },
    {
      "cell_type": "code",
      "execution_count": null,
      "metadata": {
        "colab": {
          "base_uri": "https://localhost:8080/"
        },
        "id": "E6pJymI-Enkd",
        "outputId": "da2e3ad2-4d01-474a-d489-0fde7f830e41"
      },
      "outputs": [],
      "source": [
        "def analyze_extreme_events(df, column_name, percentile=98):\n",
        "    \"\"\"\n",
        "    Analyzes the increase or decrease of extreme events over time,\n",
        "    using a threshold computed from the entire dataset (e.g., last 40 years).\n",
        "\n",
        "    Args:\n",
        "        df: DataFrame with a 'year' column and a data column.\n",
        "        column_name: The name of the data column to analyze.\n",
        "        percentile: The percentile to define extreme events (default: 98th).\n",
        "\n",
        "    Returns:\n",
        "        A dictionary with the number of extreme events per year.\n",
        "    \"\"\"\n",
        "    # Compute a global threshold using the entire dataset\n",
        "    global_threshold = np.percentile(df[column_name], percentile)\n",
        "    print(\"Global threshold ({}th percentile): {:.3f}\".format(percentile, global_threshold))\n",
        "\n",
        "    extreme_events_per_year = {}\n",
        "    for year in sorted(df['year'].unique()):\n",
        "        year_data = df[df['year'] == year][column_name]\n",
        "        print(f\"Year {year}: {len(year_data)} data points\") if year_data\n",
        "        extreme_events_per_year[year] = (year_data >= global_threshold).sum()\n",
        "    return extreme_events_per_year\n",
        "\n",
        "# Kigali temperature data:\n",
        "kigali_extreme_temp = analyze_extreme_events(kigali_te, 'value')\n",
        "print(kigali_extreme_temp)\n",
        "\n",
        "#  Kigali precipitation data:\n",
        "kigali_extreme_prcp = analyze_extreme_events(kigali_pr, 'value')\n",
        "print(kigali_extreme_prcp)\n"
      ]
    },
    {
      "cell_type": "code",
      "execution_count": null,
      "metadata": {
        "colab": {
          "base_uri": "https://localhost:8080/",
          "height": 1000
        },
        "id": "kTgZ-xWb23zX",
        "outputId": "a4addee6-8a4f-4e92-fe01-a1389f91104d"
      },
      "outputs": [],
      "source": [
        "def plot_extreme_events(data, title, ylabel):\n",
        "    \"\"\"\n",
        "    Plots the number of extreme events over time.\n",
        "\n",
        "    Args:\n",
        "        data: A dictionary where keys are years and values are the number of extreme events.\n",
        "        title: The title of the plot.\n",
        "        ylabel: The label for the y-axis.\n",
        "    \"\"\"\n",
        "    years = list(data.keys())\n",
        "    extreme_event_counts = list(data.values())\n",
        "    plt.figure(figsize=(12, 6))\n",
        "    plt.bar(years, extreme_event_counts, color='skyblue')\n",
        "    plt.xlabel(\"Year\")\n",
        "    plt.ylabel(ylabel)\n",
        "    plt.title(title)\n",
        "    plt.grid(axis='y', alpha=0.75)\n",
        "    plt.show()\n",
        "\n",
        "# Kigali precipitation\n",
        "plot_extreme_events(kigali_extreme_prcp, \"Extreme Precipitation Events in Kigali (98th Percentile)\", \"Number of Extreme Precipitation Events\")\n",
        "\n",
        "# Kigali Temperature\n",
        "plot_extreme_events(kigali_extreme_temp, \"Extreme Temperature Events in Kigali (98th Percentile)\", \"Number of Extreme Temperature Events\")"
      ]
    },
    {
      "cell_type": "markdown",
      "metadata": {
        "id": "lwLFywCs3pe7"
      },
      "source": [
        "### Nairobi Extreme events"
      ]
    },
    {
      "cell_type": "code",
      "execution_count": null,
      "metadata": {
        "colab": {
          "base_uri": "https://localhost:8080/"
        },
        "id": "pvG0GacM3sk5",
        "outputId": "e43ade5b-c9aa-413c-eb90-46a5d7bc15d9"
      },
      "outputs": [],
      "source": [
        "# Nairobi temperature data:\n",
        "nai_extreme_temp = analyze_extreme_events(nai_te, 'value')\n",
        "print(nai_extreme_temp)\n",
        "\n",
        "#  Nairobi precipitation data:\n",
        "nai_extreme_prcp = analyze_extreme_events(nai_pr, 'value')\n",
        "print(nai_extreme_prcp)"
      ]
    },
    {
      "cell_type": "code",
      "execution_count": null,
      "metadata": {
        "colab": {
          "base_uri": "https://localhost:8080/",
          "height": 1000
        },
        "id": "jz2JeoL03wJJ",
        "outputId": "e5121383-c34b-4e67-aa07-2e249a04b2bc"
      },
      "outputs": [],
      "source": [
        "# Kigali precipitation\n",
        "plot_extreme_events(nai_extreme_prcp, \"Extreme Precipitation Events in Nairobi (98th Percentile)\", \"Number of Extreme Precipitation Events\")\n",
        "\n",
        "# Kigali Temperature\n",
        "plot_extreme_events(nai_extreme_temp, \"Extreme Temperature Events in Nairobi (98th Percentile)\", \"Number of Extreme Temperature Events\")"
      ]
    },
    {
      "cell_type": "markdown",
      "metadata": {
        "id": "VdjObM9f4BsL"
      },
      "source": [
        "### Kampala Extreme Events"
      ]
    },
    {
      "cell_type": "code",
      "execution_count": null,
      "metadata": {
        "colab": {
          "base_uri": "https://localhost:8080/"
        },
        "id": "doLob1rP4FQ-",
        "outputId": "4399857e-449c-4fe8-c9bb-d4cfc314f81f"
      },
      "outputs": [],
      "source": [
        "# Kigali temperature data:\n",
        "kamp_extreme_temp = analyze_extreme_events(kamp_te, 'value')\n",
        "print(kamp_extreme_temp)\n",
        "\n",
        "#  Kigali precipitation data:\n",
        "kamp_extreme_prcp = analyze_extreme_events(kamp_pr, 'value')\n",
        "print(kigali_extreme_prcp)"
      ]
    },
    {
      "cell_type": "code",
      "execution_count": null,
      "metadata": {
        "colab": {
          "base_uri": "https://localhost:8080/",
          "height": 1000
        },
        "id": "SkHTfIOJ4Hbk",
        "outputId": "e6b1ec7a-eb81-4148-98c5-cdccf5287e1d"
      },
      "outputs": [],
      "source": [
        "# Kigali precipitation\n",
        "plot_extreme_events(kamp_extreme_prcp, \"Extreme Precipitation Events in Kampala (98th Percentile)\", \"Number of Extreme Precipitation Events\")\n",
        "\n",
        "# Kigali Temperature\n",
        "plot_extreme_events(kamp_extreme_temp, \"Extreme Temperature Events in Kampala (98th Percentile)\", \"Number of Extreme Temperature Events\")"
      ]
    },
    {
      "cell_type": "code",
      "execution_count": null,
      "metadata": {
        "id": "4pKS8N0-k7lm"
      },
      "outputs": [],
      "source": []
    },
    {
      "cell_type": "markdown",
      "metadata": {
        "id": "LxRUCvKLlBU2"
      },
      "source": [
        "## Looking at Yield\n",
        "1. Using FAOSTAT\n",
        "2. Using GDHY to get the regional yield at regional level for maize, rice, wheat and soybeans"
      ]
    },
    {
      "cell_type": "markdown",
      "metadata": {
        "id": "2TYzRY2um1qO"
      },
      "source": [
        "### FAOSTAT\n",
        "A database of the United Nations"
      ]
    },
    {
      "cell_type": "code",
      "execution_count": null,
      "metadata": {
        "colab": {
          "base_uri": "https://localhost:8080/"
        },
        "id": "IV5C8Yu-mqiA",
        "outputId": "681e2e83-4733-4263-ff0e-5f4d1d0e7db2"
      },
      "outputs": [],
      "source": [
        "country = \"Ghana\"\n",
        "crop = \"Cocoa\"\n",
        "start_year = 1980\n",
        "end_year = 2025\n",
        "\n",
        "yield_data = fetch_yield_data(country, crop, start_year, end_year)\n",
        "if yield_data is not None:\n",
        "    print(yield_data)"
      ]
    },
    {
      "cell_type": "code",
      "execution_count": null,
      "metadata": {},
      "outputs": [],
      "source": [
        "# Aggregate the df_pr and df_tmax as one station and have the yearly data for pr and tmax\n",
        "summ_gh_pr = df_pr.pivot(\n",
        "    index='date',\n",
        "    values='PRCP',\n",
        "    columns='station'\n",
        ").sum(axis=1).resample('Y').sum()\n",
        "\n",
        "summ_gh_tmax = df_tmax.pivot(\n",
        "    index='date',\n",
        "    values='TMAX',\n",
        "    columns='station'\n",
        ").mean(axis=1).resample('Y').mean()\n",
        "\n",
        "summ_gh_tmin = df_tmin.pivot(\n",
        "    index='date',\n",
        "    values='TMIN',\n",
        "    columns='station'\n",
        ").mean(axis=1).resample('Y').mean()"
      ]
    },
    {
      "cell_type": "code",
      "execution_count": null,
      "metadata": {
        "colab": {
          "base_uri": "https://localhost:8080/",
          "height": 535
        },
        "id": "ugPA8sGrm9_F",
        "outputId": "ad90878a-f44f-4d6e-ffe8-9f1dd2f8a501"
      },
      "outputs": [],
      "source": [
        "# @title Year vs Yield\n",
        "\n",
        "from matplotlib import pyplot as plt\n",
        "import seaborn as sns\n",
        "def _plot_series(series, series_name, series_index=0):\n",
        "  palette = list(sns.palettes.mpl_palette('Dark2'))\n",
        "  xs = series['Year']\n",
        "  ys = series['Yield']\n",
        "\n",
        "  plt.plot(xs, ys, label=series_name, color=palette[series_index % len(palette)])\n",
        "\n",
        "fig, ax = plt.subplots(figsize=(10, 5.2), layout='constrained')\n",
        "df_sorted = yield_data.sort_values('Year', ascending=True)\n",
        "for i, (series_name, series) in enumerate(df_sorted.groupby('Unit')):\n",
        "  _plot_series(series, series_name, i)\n",
        "  fig.legend(title='Unit', bbox_to_anchor=(1, 1), loc='upper left')\n",
        "sns.despine(fig=fig, ax=ax)\n",
        "plt.xlabel('Year')\n",
        "plt.xticks(rotation=45)  # Rotate by 45 degrees\n",
        "plt.title(f'{crop} Yield in {country} from {yield_data.Year.iloc[0]} to {yield_data.Year.iloc[-1]}')\n",
        "plt.tight_layout()\n",
        "_ = plt.ylabel('Yield')"
      ]
    },
    {
      "cell_type": "code",
      "execution_count": null,
      "metadata": {},
      "outputs": [],
      "source": [
        "# Filter yield data to include only the rows in metric tons (t)\n",
        "df_yield_t = yield_data[yield_data['Unit'] == 't'][['Year','Yield']].copy()\n",
        "df_yield_t['Year'] = pd.to_numeric(df_yield_t['Year'], errors='coerce')\n",
        "\n",
        "# Convert the yearly Series (summ_gh_pr, summ_gh_tmax, summ_gh_tmin) to DataFrames\n",
        "df_pr2 = summ_gh_pr.reset_index()\n",
        "df_pr2['Year'] = df_pr2['date'].dt.year\n",
        "df_pr2 = df_pr2[['Year', 'PRCP']]\n",
        "\n",
        "df_tmax2 = summ_gh_tmax.reset_index()\n",
        "df_tmax2['Year'] = df_tmax2['date'].dt.year\n",
        "df_tmax2 = df_tmax2[['Year', 'TMAX']]\n",
        "\n",
        "df_tmin2 = summ_gh_tmin.reset_index()\n",
        "df_tmin2['Year'] = df_tmin2['date'].dt.year\n",
        "df_tmin2 = df_tmin2[['Year', 'TMIN']]\n",
        "\n",
        "# Merge them by Year\n",
        "df_merged = (\n",
        "    df_yield_t.merge(df_pr2, on='Year', how='left')\n",
        "              .merge(df_tmax2, on='Year', how='left')\n",
        "              .merge(df_tmin2, on='Year', how='left')\n",
        ")\n",
        "\n",
        "# Reshape for heatmap: rows = variables, columns = years\n",
        "df_melt = df_merged.melt(id_vars='Year', var_name='Variable', value_name='Value')\n",
        "heatmap_data = df_melt.dropna().pivot(index='Variable', columns='Year', values='Value')\n",
        "\n",
        "# Plot the heatmap (Seaborn and matplotlib are already imported)\n",
        "plt.figure(figsize=(10, 6))\n",
        "sns.heatmap(heatmap_data, cmap='coolwarm', annot=True, fmt='.2f')\n",
        "plt.title(\"Heatmap of Yield (t), PRCP, TMAX, and TMIN by Year\")\n",
        "plt.show()"
      ]
    },
    {
      "cell_type": "code",
      "execution_count": null,
      "metadata": {},
      "outputs": [],
      "source": [
        "# for yield data select the units with t\n",
        "yield_data = yield_data[yield_data['Unit'].str.contains('t')]"
      ]
    },
    {
      "cell_type": "code",
      "execution_count": null,
      "metadata": {},
      "outputs": [],
      "source": [
        "# Convert 'yield_data' to match the size and index with 'summ_gh_pr', 'summ_gh_tmax', 'summ_gh_tmin'.\n",
        "df_merge = pd.DataFrame({\n",
        "    'Yield': yield_data['Yield'].values,\n",
        "    'PR': summ_gh_pr.values,\n",
        "    'TMAX': summ_gh_tmax.values,\n",
        "    'TMIN': summ_gh_tmin.values\n",
        "})\n",
        "# Copy the 'Year' values from 'yield_data' into 'df_merge'\n",
        "df_merge['Year'] = yield_data['Year'].values\n",
        "\n",
        "# Handle any parsing issues by coercing invalid years to NaT\n",
        "df_merge['Year'] = pd.to_datetime(df_merge['Year'], format='%Y', errors='coerce')\n",
        "df_merge.dropna(subset=['Year'], inplace=True)\n",
        "\n",
        "# Finally, set the datetime column as the index\n",
        "df_merge.set_index('Year', inplace=True)"
      ]
    },
    {
      "cell_type": "code",
      "execution_count": null,
      "metadata": {},
      "outputs": [],
      "source": [
        "# 1. Plot Aggregate Correlation Heatmap\n",
        "corr_all = df_merge.corr()\n",
        "\n",
        "plt.figure(figsize=(6, 5))\n",
        "sns.heatmap(corr_all, annot=True, cmap='coolwarm', vmin=-1, vmax=1)\n",
        "plt.title('Aggregate Correlation across all Years')\n",
        "plt.show()"
      ]
    },
    {
      "cell_type": "code",
      "execution_count": null,
      "metadata": {},
      "outputs": [],
      "source": [
        "import matplotlib.pyplot as plt\n",
        "import pandas as pd\n",
        "\n",
        "tmax_data = summ_gh_tmax    \n",
        "tmin_data = summ_gh_tmin\n",
        "pr_data = summ_gh_pr\n",
        "\n",
        "# Convert index to datetime\n",
        "tmax_data.index = pd.to_datetime(tmax_data.index)\n",
        "tmin_data.index = pd.to_datetime(tmin_data.index)\n",
        "pr_data.index = pd.to_datetime(pr_data.index)\n",
        "\n",
        "# Create subplots\n",
        "fig, axs = plt.subplots(4, 1, figsize=(10, 12), sharex=True)\n",
        "fig.subplots_adjust(hspace=0.1)  # Adjusts space between plots\n",
        "\n",
        "# Plot TMAX\n",
        "axs[0].plot(tmax_data.index.year, tmax_data, color='red')\n",
        "axs[0].set_ylabel('TMAX (°C)')\n",
        "axs[0].set_title('Yearly Maximum Temperature')\n",
        "\n",
        "# Plot TMIN\n",
        "axs[1].plot(tmin_data.index.year, tmin_data, color='blue')\n",
        "axs[1].set_ylabel('TMIN (°C)')\n",
        "axs[1].set_title('Yearly Minimum Temperature')\n",
        "\n",
        "# Plot Precipitation\n",
        "axs[2].bar(pr_data.index.year, pr_data, color='green')\n",
        "axs[2].set_ylabel('Precipitation (mm)')\n",
        "axs[2].set_title('Yearly Precipitation')\n",
        "\n",
        "# Plot Yield\n",
        "axs[3].plot(pd.to_numeric(yield_data[\"Year\"]), yield_data[\"Yield\"], color='black')\n",
        "axs[3].set_ylabel('Yield (tons/ha)')\n",
        "axs[3].set_xlabel('Year')\n",
        "axs[3].set_title('Yearly Crop Yield')\n",
        "\n",
        "# Display the plot\n",
        "plt.tight_layout()\n",
        "plt.show()\n"
      ]
    },
    {
      "cell_type": "code",
      "execution_count": null,
      "metadata": {},
      "outputs": [],
      "source": [
        "# Create the mean of the xarray dataset along the time dimension yearly\n",
        "def yearly_mean(ds):\n",
        "    return ds.resample(time='Y').mean()\n",
        "\n",
        "# Plot the data yearly against the yield as time series\n"
      ]
    },
    {
      "cell_type": "markdown",
      "metadata": {
        "id": "XJOA8jqAny3m"
      },
      "source": [
        "### Global Dataset of Historical Yield (GDHY)\n",
        "GDHY provides annual time series data of 0.5-degree grid-cell yield estimates for major crops worldwide, covering the period from 1981 to 2016. The dataset includes information on maize, rice, wheat, and soybean yields."
      ]
    },
    {
      "cell_type": "code",
      "execution_count": null,
      "metadata": {
        "colab": {
          "base_uri": "https://localhost:8080/"
        },
        "id": "qEBvkunonDuX",
        "outputId": "9dff4a60-e05e-4b89-d862-a384314fbb83"
      },
      "outputs": [],
      "source": [
        "# import requests, zipfile, io\n",
        "\n",
        "# url = \"https://store.pangaea.de/Publications/IizumiT_2019/gdhy_v1.2_v1.3_20190128.zip\"\n",
        "# response = requests.get(url)\n",
        "# with zipfile.ZipFile(io.BytesIO(response.content)) as z:\n",
        "#     z.extractall(\".\")"
      ]
    },
    {
      "cell_type": "code",
      "execution_count": null,
      "metadata": {
        "id": "m_2Irykwtrsw"
      },
      "outputs": [],
      "source": [
        "import os\n",
        "import glob\n",
        "import xarray as xr\n",
        "import pandas as pd\n",
        "import math\n",
        "import matplotlib\n",
        "import matplotlib.pyplot as plt\n",
        "import matplotlib.animation as animation\n",
        "import matplotlib.patches as mpatches\n",
        "import cartopy.crs as ccrs\n",
        "import cartopy.feature as cfeature\n",
        "import numpy as np\n",
        "import pandas as pd\n",
        "from IPython.display import HTML\n",
        "import xarray as xr\n",
        "from IPython.display import display\n",
        "\n",
        "def plot_data(data_dict: dict, fig_title: str, plot_size: float = 5, robust: bool = False,\n",
        "              cols: int = 4, bbox: list = None, polygon: list = None) -> HTML:\n",
        "    \"\"\"\n",
        "    Plot the provided xarray data on a map, with the plot extent defined by either a bounding box or a polygon.\n",
        "\n",
        "    Args:\n",
        "        data_dict (dict): Dictionary where keys are titles and values are tuples (data, norm, cmap).\n",
        "        fig_title (str): Title of the figure.\n",
        "        plot_size (float): Size factor for the figure.\n",
        "        robust (bool): Whether to use robust scaling for color normalization.\n",
        "        cols (int): Number of columns in the plot grid.\n",
        "        bbox (list, optional): Bounding box defined as [lon_min, lon_max, lat_min, lat_max]. If provided, it defines the plot extent.\n",
        "        polygon (list, optional): A list of [lon, lat] coordinates defining a polygon. If provided (and bbox is not), its bounding box is used for the plot extent.\n",
        "                                  Additionally, if polygon is provided, it is overlaid on each subplot.\n",
        "\n",
        "    Returns:\n",
        "        HTML: The animation as HTML.\n",
        "\n",
        "    Raises:\n",
        "        ValueError: If neither bbox nor polygon is provided.\n",
        "    \"\"\"\n",
        "    # Determine the plotting extent.\n",
        "    if bbox is not None:\n",
        "        extent = bbox\n",
        "    elif polygon is not None:\n",
        "        lons = [coord[0] for coord in polygon]\n",
        "        lats = [coord[1] for coord in polygon]\n",
        "        extent = [min(lons), max(lons), min(lats), max(lats)]\n",
        "    else:\n",
        "        raise ValueError(\"Either bbox or polygon must be provided to define the plot extent.\")\n",
        "\n",
        "    # Get first dataset to determine number of time steps.\n",
        "    first_data = next(iter(data_dict.values()))[0]\n",
        "    max_steps = first_data.sizes.get(\"time\", 1)\n",
        "    assert all(max_steps == d[0].sizes.get(\"time\", 1) for d in data_dict.values())\n",
        "\n",
        "    cols = min(cols, len(data_dict))\n",
        "    rows = math.ceil(len(data_dict) / cols)\n",
        "    # Use constrained_layout to automatically handle spacing.\n",
        "    figure = plt.figure(figsize=(plot_size * 2 * cols, plot_size * rows), constrained_layout=True)\n",
        "    figure.suptitle(fig_title, fontsize=16)\n",
        "\n",
        "    images = []\n",
        "    axes = []\n",
        "    for i, (title, (plot_data_arr, norm, cmap)) in enumerate(data_dict.items()):\n",
        "        ax = figure.add_subplot(rows, cols, i + 1, projection=ccrs.PlateCarree())\n",
        "        ax.set_xticks([])\n",
        "        ax.set_yticks([])\n",
        "        ax.set_title(title)\n",
        "        ax.add_feature(cfeature.COASTLINE)\n",
        "        ax.add_feature(cfeature.BORDERS, linestyle=':')\n",
        "        ax.add_feature(cfeature.LAND, edgecolor='white')\n",
        "        ax.add_feature(cfeature.OCEAN)\n",
        "        # Overlay the polygon if provided.\n",
        "        if polygon is not None:\n",
        "            poly_patch = mpatches.Polygon(polygon, closed=True, facecolor='none',\n",
        "                                          edgecolor='red', linewidth=2, transform=ccrs.PlateCarree())\n",
        "            ax.add_patch(poly_patch)\n",
        "        im = ax.imshow(\n",
        "            plot_data_arr.isel(time=0, missing_dims=\"ignore\"), norm=norm,\n",
        "            origin=\"lower\", cmap=cmap, transform=ccrs.PlateCarree(), extent=extent)\n",
        "        plt.colorbar(\n",
        "            mappable=im,\n",
        "            ax=ax,\n",
        "            orientation=\"vertical\",\n",
        "            pad=0.01,       # reduced padding\n",
        "            aspect=16,\n",
        "            shrink=0.7,     # adjusted shrink\n",
        "            extend=(\"both\" if robust else \"neither\"))\n",
        "        images.append(im)\n",
        "        axes.append(ax)\n",
        "\n",
        "    # Precompute slices to avoid repeated slicing in update.\n",
        "    precomputed = {}\n",
        "    for key, (da, norm, cmap) in data_dict.items():\n",
        "        precomputed[key] = [da.isel(time=t, missing_dims=\"ignore\") for t in range(max_steps)]\n",
        "\n",
        "    def update(frame):\n",
        "        if \"time\" in first_data.dims:\n",
        "            date_str = pd.to_datetime(first_data[\"time\"][frame].item()).strftime('%Y-%m-%d')\n",
        "            figure.suptitle(f\"{fig_title}, {date_str}\", fontsize=16)\n",
        "        else:\n",
        "            figure.suptitle(fig_title, fontsize=16)\n",
        "        for im, (title, (da, norm, cmap)) in zip(images, data_dict.items()):\n",
        "            im.set_data(precomputed[title][frame])\n",
        "        return images\n",
        "\n",
        "    ani = animation.FuncAnimation(fig=figure, func=update, frames=max_steps, interval=250)\n",
        "    plt.close(figure.number)\n",
        "    return HTML(ani.to_jshtml())\n",
        "\n",
        "def load_yield_data(directory_path: str) -> xr.Dataset:\n",
        "    \"\"\"\n",
        "    Load all yield .nc4 files from the specified directory into a single xarray Dataset.\n",
        "\n",
        "    Args:\n",
        "        directory_path (str): Path to the directory containing the yield .nc4 files.\n",
        "\n",
        "    Returns:\n",
        "        xr.Dataset: Combined dataset with time dimension set based on the years in filenames.\n",
        "    \"\"\"\n",
        "    # List all .nc4 files in the directory\n",
        "    files = sorted(glob.glob(os.path.join(directory_path, 'yield_*.nc4')))\n",
        "    if not files:\n",
        "        raise ValueError(f\"No .nc4 files found in directory: {directory_path}\")\n",
        "\n",
        "    # Extract years from filenames\n",
        "    years = []\n",
        "    for f in files:\n",
        "        filename = os.path.basename(f)\n",
        "        year_str = filename.split('_')[1].split('.')[0]\n",
        "        years.append(int(year_str))\n",
        "\n",
        "    # Open each dataset and assign the correct time coordinate\n",
        "    datasets = []\n",
        "    for file, year in zip(files, years):\n",
        "        ds = xr.open_dataset(file)\n",
        "        # Expand dimensions to include time and assign the year as a datetime\n",
        "        ds = ds.expand_dims(time=[pd.Timestamp(year=year, month=1, day=1)])\n",
        "        datasets.append(ds)\n",
        "\n",
        "    # Concatenate all datasets along the time dimension\n",
        "    combined_ds = xr.concat(datasets, dim='time')\n",
        "    return combined_ds\n",
        "\n",
        "def plot_yield_data(yield_ds: xr.Dataset, fig_title: str, plot_size: float = 5,\n",
        "                    robust: bool = False, cols: int = 1, bbox: list = None,\n",
        "                    polygon: list = None) -> HTML:\n",
        "    \"\"\"\n",
        "    Visualize the yield data over time using an animated map.\n",
        "\n",
        "    Args:\n",
        "        yield_ds (xr.Dataset): The xarray Dataset containing yield data.\n",
        "        fig_title (str): Title for the figure.\n",
        "        plot_size (float): Size factor for the plot.\n",
        "        robust (bool): Whether to use robust scaling for the color map.\n",
        "        cols (int): Number of columns in the plot grid.\n",
        "        bbox (list): Bounding box [lon_min, lon_max, lat_min, lat_max] for the plot extent.\n",
        "        polygon (list): List of [lon, lat] coordinates defining a polygon overlay.\n",
        "\n",
        "    Returns:\n",
        "        HTML: The animation as HTML.\n",
        "    \"\"\"\n",
        "    # Select and scale the yield data\n",
        "    selected_data = select(yield_ds, 'var')  # Adjust variable name if necessary\n",
        "    scaled_data, norm, cmap = scale(selected_data, robust=robust)\n",
        "\n",
        "    # Prepare data dictionary for plotting\n",
        "    data_for_plot = {'Yield': (scaled_data, norm, cmap)}\n",
        "\n",
        "    # Generate the animation\n",
        "    html_anim = plot_data(data_for_plot, fig_title, plot_size=plot_size,\n",
        "                          robust=robust, cols=cols, bbox=bbox, polygon=polygon)\n",
        "    return html_anim"
      ]
    },
    {
      "cell_type": "code",
      "execution_count": null,
      "metadata": {
        "colab": {
          "base_uri": "https://localhost:8080/",
          "height": 597
        },
        "id": "mw3eDj_wuVxG",
        "outputId": "418e1f69-6bfb-45d1-cdbf-fd2a27ddaa46"
      },
      "outputs": [],
      "source": [
        "maize_ds = load_yield_data('wheat')\n",
        "# sort by latitude and longitude\n",
        "maize_ds = maize_ds.sortby(['lat', 'lon'])#\n"
      ]
    },
    {
      "cell_type": "code",
      "execution_count": null,
      "metadata": {},
      "outputs": [],
      "source": [
        "maize_ds"
      ]
    },
    {
      "cell_type": "code",
      "execution_count": null,
      "metadata": {},
      "outputs": [],
      "source": [
        "def get_extent(ds):\n",
        "  \"\"\"\n",
        "  Returns the extent of the xarray dataset.\n",
        "\n",
        "  Args:\n",
        "      ds: The xarray dataset.\n",
        "\n",
        "  Returns:\n",
        "      A tuple containing the min latitude, min longitude, max latitude, and max longitude.\n",
        "  \"\"\"\n",
        "  min_lat = float(ds.lat.min())\n",
        "  min_lon = float(ds.lon.min())\n",
        "  max_lat = float(ds.lat.max())\n",
        "  max_lon = float(ds.lon.max())\n",
        "  return min_lon, max_lon, min_lat, max_lat\n",
        "\n",
        "min_lon, max_lon, min_lat, max_lat = get_extent(maize_ds)\n"
      ]
    },
    {
      "cell_type": "code",
      "execution_count": null,
      "metadata": {
        "colab": {
          "base_uri": "https://localhost:8080/",
          "height": 300
        },
        "id": "PktcvcYWt_iA",
        "outputId": "f950f35c-1280-40e9-8e93-744784a26dc9"
      },
      "outputs": [],
      "source": [
        "import matplotlib.pyplot as plt\n",
        "import matplotlib.animation as animation\n",
        "import cartopy.crs as ccrs\n",
        "import cartopy.feature as cfeature\n",
        "from IPython.display import HTML\n",
        "import pandas as pd\n",
        "import numpy as np\n",
        "\n",
        "def animate_xarray_time(data, var='var', fig_title='Animated Plot', interval=300):\n",
        "    \"\"\"\n",
        "    Animate an xarray DataArray over its time dimension using pcolormesh and Cartopy.\n",
        "\n",
        "    Parameters:\n",
        "      data (xarray.Dataset or xarray.DataArray): \n",
        "          Must have dims (time, lat, lon) and coords 'lat' and 'lon'.\n",
        "      var (str): Name of the variable to plot (if passing a Dataset).\n",
        "      fig_title (str): Title for the figure and frames.\n",
        "      interval (int): Delay between frames in milliseconds.\n",
        "\n",
        "    Returns:\n",
        "      HTML: Embedded HTML animation playable in Jupyter notebooks.\n",
        "    \"\"\"\n",
        "    # If data is a Dataset, extract the chosen variable as a DataArray\n",
        "    if hasattr(data, 'data_vars'):\n",
        "        data_array = data[var]\n",
        "    else:\n",
        "        data_array = data  # Already a DataArray\n",
        "\n",
        "    # Make sure lat and lon are sorted ascending, and longitudes in [-180..180].\n",
        "    # Example: data_array = data_array.sortby(['lat', 'lon'])\n",
        "    # SHIFT LON if needed (0..360 -> -180..180):\n",
        "    # data_array = data_array.assign_coords(lon=(((data_array.lon + 180) % 360) - 180)).sortby('lon')\n",
        "\n",
        "    # Set up figure and axes with PlateCarree projection\n",
        "    fig, ax = plt.subplots(\n",
        "        subplot_kw={\"projection\": ccrs.PlateCarree()},\n",
        "        figsize=(8, 4)\n",
        "    )\n",
        "    ax.set_global()                # Optional: show the whole globe\n",
        "    ax.coastlines()                # Draw coastlines\n",
        "    ax.add_feature(cfeature.BORDERS, linestyle=':')\n",
        "    ax.set_title(fig_title)\n",
        "\n",
        "    # Plot the first frame with pcolormesh\n",
        "    # (Use shading='auto' so it handles cell boundaries gracefully)\n",
        "    mesh = ax.pcolormesh(\n",
        "        data_array.lon, data_array.lat, data_array.isel(time=0),\n",
        "        cmap='viridis',\n",
        "        transform=ccrs.PlateCarree(),\n",
        "        shading='auto'\n",
        "    )\n",
        "    # Add a colorbar\n",
        "    cbar = fig.colorbar(mesh, ax=ax, orientation='vertical', shrink=0.5)\n",
        "    cbar.set_label('Yield in t/ha')\n",
        "\n",
        "    # Update function for animation\n",
        "    def update(frame):\n",
        "        # Extract the 2D data for this time step\n",
        "        arr = data_array.isel(time=frame).values\n",
        "        # Update the mesh. pcolormesh expects a 1D array for set_array, so flatten:\n",
        "        mesh.set_array(arr.ravel())\n",
        "\n",
        "        # Update title with the date/time if it exists\n",
        "        time_val = data_array.time[frame].values\n",
        "        time_str = pd.to_datetime(time_val).strftime('%Y-%m-%d')\n",
        "        ax.set_title(f\"{fig_title} - {time_str}\")\n",
        "\n",
        "        return [mesh]\n",
        "\n",
        "    # Create animation\n",
        "    frames = data_array.sizes['time']\n",
        "    ani = animation.FuncAnimation(\n",
        "        fig, update, frames=frames, interval=interval, blit=True\n",
        "    )\n",
        "\n",
        "    plt.close(fig)\n",
        "    return HTML(ani.to_jshtml())\n"
      ]
    },
    {
      "cell_type": "code",
      "execution_count": null,
      "metadata": {
        "id": "cxdISgsnun3G"
      },
      "outputs": [],
      "source": [
        "html_anim = animate_xarray_time(maize_ds, fig_title=\"Global Maize Yield\")\n",
        "display(html_anim)\n"
      ]
    },
    {
      "cell_type": "code",
      "execution_count": null,
      "metadata": {
        "id": "vQKSs7byqfEy"
      },
      "outputs": [],
      "source": [
        "# adjusted_extent = [lon_min - Δlon/2, lon_max + Δlon/2, lat_min - Δlat/2, lat_max + Δlat/2]\n"
      ]
    }
  ],
  "metadata": {
    "colab": {
      "collapsed_sections": [
        "pJd0eW-EBfTC",
        "PHBDJlSgQ9PE",
        "PWb9Do8eRouS",
        "1FfOn1WJBe7-",
        "tZzWq59OBd1k",
        "FZezwWW_BewP",
        "SdtrmNcJMlX0",
        "tC45M80LM4ZW",
        "0_-6LcFqSnR0",
        "12XbYZBPBejw",
        "NB7fqwHb6amN",
        "7G3SzsDCV9-C",
        "HZqZdqEMWB2Q",
        "qerqeHWGU4Gx",
        "fiXCarADDB7J",
        "dTTXbwuggeZZ",
        "FjIpsbY3v2vU",
        "FXro0DzSgjeV",
        "KEFkUf9I399_",
        "ixpMAkgSENVg",
        "hUdMuhwK3kaL",
        "lwLFywCs3pe7"
      ],
      "provenance": []
    },
    "kernelspec": {
      "display_name": ".venv",
      "language": "python",
      "name": "python3"
    },
    "language_info": {
      "codemirror_mode": {
        "name": "ipython",
        "version": 3
      },
      "file_extension": ".py",
      "mimetype": "text/x-python",
      "name": "python",
      "nbconvert_exporter": "python",
      "pygments_lexer": "ipython3",
      "version": "3.10.11"
    },
    "widgets": {
      "application/vnd.jupyter.widget-state+json": {
        "001282ebd77e40919dc87815645631a8": {
          "model_module": "@jupyter-widgets/controls",
          "model_module_version": "1.5.0",
          "model_name": "DescriptionStyleModel",
          "state": {
            "_model_module": "@jupyter-widgets/controls",
            "_model_module_version": "1.5.0",
            "_model_name": "DescriptionStyleModel",
            "_view_count": null,
            "_view_module": "@jupyter-widgets/base",
            "_view_module_version": "1.2.0",
            "_view_name": "StyleView",
            "description_width": ""
          }
        },
        "04552679ac3548edb974e618d54bc712": {
          "model_module": "@jupyter-widgets/base",
          "model_module_version": "1.2.0",
          "model_name": "LayoutModel",
          "state": {
            "_model_module": "@jupyter-widgets/base",
            "_model_module_version": "1.2.0",
            "_model_name": "LayoutModel",
            "_view_count": null,
            "_view_module": "@jupyter-widgets/base",
            "_view_module_version": "1.2.0",
            "_view_name": "LayoutView",
            "align_content": null,
            "align_items": null,
            "align_self": null,
            "border": null,
            "bottom": null,
            "display": null,
            "flex": null,
            "flex_flow": null,
            "grid_area": null,
            "grid_auto_columns": null,
            "grid_auto_flow": null,
            "grid_auto_rows": null,
            "grid_column": null,
            "grid_gap": null,
            "grid_row": null,
            "grid_template_areas": null,
            "grid_template_columns": null,
            "grid_template_rows": null,
            "height": null,
            "justify_content": null,
            "justify_items": null,
            "left": null,
            "margin": null,
            "max_height": null,
            "max_width": null,
            "min_height": null,
            "min_width": null,
            "object_fit": null,
            "object_position": null,
            "order": null,
            "overflow": null,
            "overflow_x": null,
            "overflow_y": null,
            "padding": null,
            "right": null,
            "top": null,
            "visibility": null,
            "width": null
          }
        },
        "05b20a7a0b2c42758f12c4fe5006aa72": {
          "model_module": "@jupyter-widgets/controls",
          "model_module_version": "1.5.0",
          "model_name": "HTMLModel",
          "state": {
            "_dom_classes": [],
            "_model_module": "@jupyter-widgets/controls",
            "_model_module_version": "1.5.0",
            "_model_name": "HTMLModel",
            "_view_count": null,
            "_view_module": "@jupyter-widgets/controls",
            "_view_module_version": "1.5.0",
            "_view_name": "HTMLView",
            "description": "",
            "description_tooltip": null,
            "layout": "IPY_MODEL_824ce57d9d2441b89cf701a88899e4fc",
            "placeholder": "​",
            "style": "IPY_MODEL_815d7d53e5b64d8494903a155fd5de5c",
            "value": "Retrieving data for stations: 100%"
          }
        },
        "105a1454fe654089843ce8332d081112": {
          "model_module": "@jupyter-widgets/controls",
          "model_module_version": "1.5.0",
          "model_name": "DescriptionStyleModel",
          "state": {
            "_model_module": "@jupyter-widgets/controls",
            "_model_module_version": "1.5.0",
            "_model_name": "DescriptionStyleModel",
            "_view_count": null,
            "_view_module": "@jupyter-widgets/base",
            "_view_module_version": "1.2.0",
            "_view_name": "StyleView",
            "description_width": ""
          }
        },
        "13230de6be4a480e85aadfd73e4cbb1f": {
          "model_module": "@jupyter-widgets/controls",
          "model_module_version": "1.5.0",
          "model_name": "HBoxModel",
          "state": {
            "_dom_classes": [],
            "_model_module": "@jupyter-widgets/controls",
            "_model_module_version": "1.5.0",
            "_model_name": "HBoxModel",
            "_view_count": null,
            "_view_module": "@jupyter-widgets/controls",
            "_view_module_version": "1.5.0",
            "_view_name": "HBoxView",
            "box_style": "",
            "children": [
              "IPY_MODEL_d0d4334bdf5a4c389095a58b7869fc93",
              "IPY_MODEL_9e7fd1ffced34310be8a56cc9deb5eac",
              "IPY_MODEL_ffd124125988440d95c8a3c9a8c7e43f"
            ],
            "layout": "IPY_MODEL_ea7348491bc243f49a70f0181f8c3f5d"
          }
        },
        "13bdf17440f649d0ace1b39bdb4f579c": {
          "model_module": "@jupyter-widgets/base",
          "model_module_version": "1.2.0",
          "model_name": "LayoutModel",
          "state": {
            "_model_module": "@jupyter-widgets/base",
            "_model_module_version": "1.2.0",
            "_model_name": "LayoutModel",
            "_view_count": null,
            "_view_module": "@jupyter-widgets/base",
            "_view_module_version": "1.2.0",
            "_view_name": "LayoutView",
            "align_content": null,
            "align_items": null,
            "align_self": null,
            "border": null,
            "bottom": null,
            "display": null,
            "flex": null,
            "flex_flow": null,
            "grid_area": null,
            "grid_auto_columns": null,
            "grid_auto_flow": null,
            "grid_auto_rows": null,
            "grid_column": null,
            "grid_gap": null,
            "grid_row": null,
            "grid_template_areas": null,
            "grid_template_columns": null,
            "grid_template_rows": null,
            "height": null,
            "justify_content": null,
            "justify_items": null,
            "left": null,
            "margin": null,
            "max_height": null,
            "max_width": null,
            "min_height": null,
            "min_width": null,
            "object_fit": null,
            "object_position": null,
            "order": null,
            "overflow": null,
            "overflow_x": null,
            "overflow_y": null,
            "padding": null,
            "right": null,
            "top": null,
            "visibility": null,
            "width": null
          }
        },
        "147c54cd31564dcbafdbf830e90c87ff": {
          "model_module": "@jupyter-widgets/base",
          "model_module_version": "1.2.0",
          "model_name": "LayoutModel",
          "state": {
            "_model_module": "@jupyter-widgets/base",
            "_model_module_version": "1.2.0",
            "_model_name": "LayoutModel",
            "_view_count": null,
            "_view_module": "@jupyter-widgets/base",
            "_view_module_version": "1.2.0",
            "_view_name": "LayoutView",
            "align_content": null,
            "align_items": null,
            "align_self": null,
            "border": null,
            "bottom": null,
            "display": null,
            "flex": null,
            "flex_flow": null,
            "grid_area": null,
            "grid_auto_columns": null,
            "grid_auto_flow": null,
            "grid_auto_rows": null,
            "grid_column": null,
            "grid_gap": null,
            "grid_row": null,
            "grid_template_areas": null,
            "grid_template_columns": null,
            "grid_template_rows": null,
            "height": null,
            "justify_content": null,
            "justify_items": null,
            "left": null,
            "margin": null,
            "max_height": null,
            "max_width": null,
            "min_height": null,
            "min_width": null,
            "object_fit": null,
            "object_position": null,
            "order": null,
            "overflow": null,
            "overflow_x": null,
            "overflow_y": null,
            "padding": null,
            "right": null,
            "top": null,
            "visibility": null,
            "width": null
          }
        },
        "15563ba0f7334956bf144b02e3711f0f": {
          "model_module": "@jupyter-widgets/base",
          "model_module_version": "1.2.0",
          "model_name": "LayoutModel",
          "state": {
            "_model_module": "@jupyter-widgets/base",
            "_model_module_version": "1.2.0",
            "_model_name": "LayoutModel",
            "_view_count": null,
            "_view_module": "@jupyter-widgets/base",
            "_view_module_version": "1.2.0",
            "_view_name": "LayoutView",
            "align_content": null,
            "align_items": null,
            "align_self": null,
            "border": null,
            "bottom": null,
            "display": null,
            "flex": null,
            "flex_flow": null,
            "grid_area": null,
            "grid_auto_columns": null,
            "grid_auto_flow": null,
            "grid_auto_rows": null,
            "grid_column": null,
            "grid_gap": null,
            "grid_row": null,
            "grid_template_areas": null,
            "grid_template_columns": null,
            "grid_template_rows": null,
            "height": null,
            "justify_content": null,
            "justify_items": null,
            "left": null,
            "margin": null,
            "max_height": null,
            "max_width": null,
            "min_height": null,
            "min_width": null,
            "object_fit": null,
            "object_position": null,
            "order": null,
            "overflow": null,
            "overflow_x": null,
            "overflow_y": null,
            "padding": null,
            "right": null,
            "top": null,
            "visibility": null,
            "width": null
          }
        },
        "15aa5fea05be4e89a38d2b311bdf63e4": {
          "model_module": "@jupyter-widgets/controls",
          "model_module_version": "1.5.0",
          "model_name": "ProgressStyleModel",
          "state": {
            "_model_module": "@jupyter-widgets/controls",
            "_model_module_version": "1.5.0",
            "_model_name": "ProgressStyleModel",
            "_view_count": null,
            "_view_module": "@jupyter-widgets/base",
            "_view_module_version": "1.2.0",
            "_view_name": "StyleView",
            "bar_color": null,
            "description_width": ""
          }
        },
        "1a3350f5336d4a768957a354a5b7d3e3": {
          "model_module": "@jupyter-widgets/controls",
          "model_module_version": "1.5.0",
          "model_name": "FloatProgressModel",
          "state": {
            "_dom_classes": [],
            "_model_module": "@jupyter-widgets/controls",
            "_model_module_version": "1.5.0",
            "_model_name": "FloatProgressModel",
            "_view_count": null,
            "_view_module": "@jupyter-widgets/controls",
            "_view_module_version": "1.5.0",
            "_view_name": "ProgressView",
            "bar_style": "success",
            "description": "",
            "description_tooltip": null,
            "layout": "IPY_MODEL_c5579bdb26c648668d86d609aef0141f",
            "max": 14,
            "min": 0,
            "orientation": "horizontal",
            "style": "IPY_MODEL_15aa5fea05be4e89a38d2b311bdf63e4",
            "value": 14
          }
        },
        "1d26b9309bc9499cb0e71bed31a12ddb": {
          "model_module": "@jupyter-widgets/controls",
          "model_module_version": "1.5.0",
          "model_name": "DescriptionStyleModel",
          "state": {
            "_model_module": "@jupyter-widgets/controls",
            "_model_module_version": "1.5.0",
            "_model_name": "DescriptionStyleModel",
            "_view_count": null,
            "_view_module": "@jupyter-widgets/base",
            "_view_module_version": "1.2.0",
            "_view_name": "StyleView",
            "description_width": ""
          }
        },
        "1e75dd1cd0c9497bbd2db8b5e14fe341": {
          "model_module": "@jupyter-widgets/base",
          "model_module_version": "1.2.0",
          "model_name": "LayoutModel",
          "state": {
            "_model_module": "@jupyter-widgets/base",
            "_model_module_version": "1.2.0",
            "_model_name": "LayoutModel",
            "_view_count": null,
            "_view_module": "@jupyter-widgets/base",
            "_view_module_version": "1.2.0",
            "_view_name": "LayoutView",
            "align_content": null,
            "align_items": null,
            "align_self": null,
            "border": null,
            "bottom": null,
            "display": null,
            "flex": null,
            "flex_flow": null,
            "grid_area": null,
            "grid_auto_columns": null,
            "grid_auto_flow": null,
            "grid_auto_rows": null,
            "grid_column": null,
            "grid_gap": null,
            "grid_row": null,
            "grid_template_areas": null,
            "grid_template_columns": null,
            "grid_template_rows": null,
            "height": null,
            "justify_content": null,
            "justify_items": null,
            "left": null,
            "margin": null,
            "max_height": null,
            "max_width": null,
            "min_height": null,
            "min_width": null,
            "object_fit": null,
            "object_position": null,
            "order": null,
            "overflow": null,
            "overflow_x": null,
            "overflow_y": null,
            "padding": null,
            "right": null,
            "top": null,
            "visibility": null,
            "width": null
          }
        },
        "1ed802358f9c46d6a83b524d94a1f5c7": {
          "model_module": "@jupyter-widgets/controls",
          "model_module_version": "1.5.0",
          "model_name": "HTMLModel",
          "state": {
            "_dom_classes": [],
            "_model_module": "@jupyter-widgets/controls",
            "_model_module_version": "1.5.0",
            "_model_name": "HTMLModel",
            "_view_count": null,
            "_view_module": "@jupyter-widgets/controls",
            "_view_module_version": "1.5.0",
            "_view_name": "HTMLView",
            "description": "",
            "description_tooltip": null,
            "layout": "IPY_MODEL_263322f7f32240db8a24147f5d24dc58",
            "placeholder": "​",
            "style": "IPY_MODEL_cf977f9a1cb7465e980f716f4dd8f23d",
            "value": " 14/14 [01:27&lt;00:00,  5.13s/it]"
          }
        },
        "204a076a0b434968b87e9df2373a8466": {
          "model_module": "@jupyter-widgets/base",
          "model_module_version": "1.2.0",
          "model_name": "LayoutModel",
          "state": {
            "_model_module": "@jupyter-widgets/base",
            "_model_module_version": "1.2.0",
            "_model_name": "LayoutModel",
            "_view_count": null,
            "_view_module": "@jupyter-widgets/base",
            "_view_module_version": "1.2.0",
            "_view_name": "LayoutView",
            "align_content": null,
            "align_items": null,
            "align_self": null,
            "border": null,
            "bottom": null,
            "display": null,
            "flex": null,
            "flex_flow": null,
            "grid_area": null,
            "grid_auto_columns": null,
            "grid_auto_flow": null,
            "grid_auto_rows": null,
            "grid_column": null,
            "grid_gap": null,
            "grid_row": null,
            "grid_template_areas": null,
            "grid_template_columns": null,
            "grid_template_rows": null,
            "height": null,
            "justify_content": null,
            "justify_items": null,
            "left": null,
            "margin": null,
            "max_height": null,
            "max_width": null,
            "min_height": null,
            "min_width": null,
            "object_fit": null,
            "object_position": null,
            "order": null,
            "overflow": null,
            "overflow_x": null,
            "overflow_y": null,
            "padding": null,
            "right": null,
            "top": null,
            "visibility": null,
            "width": null
          }
        },
        "22041a2485b04ce4ae5bca7461493c1b": {
          "model_module": "@jupyter-widgets/controls",
          "model_module_version": "1.5.0",
          "model_name": "HBoxModel",
          "state": {
            "_dom_classes": [],
            "_model_module": "@jupyter-widgets/controls",
            "_model_module_version": "1.5.0",
            "_model_name": "HBoxModel",
            "_view_count": null,
            "_view_module": "@jupyter-widgets/controls",
            "_view_module_version": "1.5.0",
            "_view_name": "HBoxView",
            "box_style": "",
            "children": [
              "IPY_MODEL_6f662f7587dd42a2b951052045724cc3",
              "IPY_MODEL_a00ac2274af4479b8b03e47494dbd0a9",
              "IPY_MODEL_a0c47941c4354d8d9fb6ce993149017d"
            ],
            "layout": "IPY_MODEL_9a1a48ba8c7c413c98202bcab35d2aa1"
          }
        },
        "263322f7f32240db8a24147f5d24dc58": {
          "model_module": "@jupyter-widgets/base",
          "model_module_version": "1.2.0",
          "model_name": "LayoutModel",
          "state": {
            "_model_module": "@jupyter-widgets/base",
            "_model_module_version": "1.2.0",
            "_model_name": "LayoutModel",
            "_view_count": null,
            "_view_module": "@jupyter-widgets/base",
            "_view_module_version": "1.2.0",
            "_view_name": "LayoutView",
            "align_content": null,
            "align_items": null,
            "align_self": null,
            "border": null,
            "bottom": null,
            "display": null,
            "flex": null,
            "flex_flow": null,
            "grid_area": null,
            "grid_auto_columns": null,
            "grid_auto_flow": null,
            "grid_auto_rows": null,
            "grid_column": null,
            "grid_gap": null,
            "grid_row": null,
            "grid_template_areas": null,
            "grid_template_columns": null,
            "grid_template_rows": null,
            "height": null,
            "justify_content": null,
            "justify_items": null,
            "left": null,
            "margin": null,
            "max_height": null,
            "max_width": null,
            "min_height": null,
            "min_width": null,
            "object_fit": null,
            "object_position": null,
            "order": null,
            "overflow": null,
            "overflow_x": null,
            "overflow_y": null,
            "padding": null,
            "right": null,
            "top": null,
            "visibility": null,
            "width": null
          }
        },
        "2acd8dc5bf1246f3a4968bebd6edf2a1": {
          "model_module": "@jupyter-widgets/controls",
          "model_module_version": "1.5.0",
          "model_name": "DescriptionStyleModel",
          "state": {
            "_model_module": "@jupyter-widgets/controls",
            "_model_module_version": "1.5.0",
            "_model_name": "DescriptionStyleModel",
            "_view_count": null,
            "_view_module": "@jupyter-widgets/base",
            "_view_module_version": "1.2.0",
            "_view_name": "StyleView",
            "description_width": ""
          }
        },
        "2caaa774a582420a938165f403662eda": {
          "model_module": "@jupyter-widgets/base",
          "model_module_version": "1.2.0",
          "model_name": "LayoutModel",
          "state": {
            "_model_module": "@jupyter-widgets/base",
            "_model_module_version": "1.2.0",
            "_model_name": "LayoutModel",
            "_view_count": null,
            "_view_module": "@jupyter-widgets/base",
            "_view_module_version": "1.2.0",
            "_view_name": "LayoutView",
            "align_content": null,
            "align_items": null,
            "align_self": null,
            "border": null,
            "bottom": null,
            "display": null,
            "flex": null,
            "flex_flow": null,
            "grid_area": null,
            "grid_auto_columns": null,
            "grid_auto_flow": null,
            "grid_auto_rows": null,
            "grid_column": null,
            "grid_gap": null,
            "grid_row": null,
            "grid_template_areas": null,
            "grid_template_columns": null,
            "grid_template_rows": null,
            "height": null,
            "justify_content": null,
            "justify_items": null,
            "left": null,
            "margin": null,
            "max_height": null,
            "max_width": null,
            "min_height": null,
            "min_width": null,
            "object_fit": null,
            "object_position": null,
            "order": null,
            "overflow": null,
            "overflow_x": null,
            "overflow_y": null,
            "padding": null,
            "right": null,
            "top": null,
            "visibility": null,
            "width": null
          }
        },
        "2cd040459e5d4dc691beaf0e9a5ce477": {
          "model_module": "@jupyter-widgets/controls",
          "model_module_version": "1.5.0",
          "model_name": "DescriptionStyleModel",
          "state": {
            "_model_module": "@jupyter-widgets/controls",
            "_model_module_version": "1.5.0",
            "_model_name": "DescriptionStyleModel",
            "_view_count": null,
            "_view_module": "@jupyter-widgets/base",
            "_view_module_version": "1.2.0",
            "_view_name": "StyleView",
            "description_width": ""
          }
        },
        "2f2331f12ae040ed97b4085b8a349aa8": {
          "model_module": "@jupyter-widgets/controls",
          "model_module_version": "1.5.0",
          "model_name": "ProgressStyleModel",
          "state": {
            "_model_module": "@jupyter-widgets/controls",
            "_model_module_version": "1.5.0",
            "_model_name": "ProgressStyleModel",
            "_view_count": null,
            "_view_module": "@jupyter-widgets/base",
            "_view_module_version": "1.2.0",
            "_view_name": "StyleView",
            "bar_color": null,
            "description_width": ""
          }
        },
        "2f5f61b3bea64a7881398a7607ae0676": {
          "model_module": "@jupyter-widgets/controls",
          "model_module_version": "1.5.0",
          "model_name": "DescriptionStyleModel",
          "state": {
            "_model_module": "@jupyter-widgets/controls",
            "_model_module_version": "1.5.0",
            "_model_name": "DescriptionStyleModel",
            "_view_count": null,
            "_view_module": "@jupyter-widgets/base",
            "_view_module_version": "1.2.0",
            "_view_name": "StyleView",
            "description_width": ""
          }
        },
        "362df685d50f4dcaba3de3a1d8e81d35": {
          "model_module": "@jupyter-widgets/base",
          "model_module_version": "1.2.0",
          "model_name": "LayoutModel",
          "state": {
            "_model_module": "@jupyter-widgets/base",
            "_model_module_version": "1.2.0",
            "_model_name": "LayoutModel",
            "_view_count": null,
            "_view_module": "@jupyter-widgets/base",
            "_view_module_version": "1.2.0",
            "_view_name": "LayoutView",
            "align_content": null,
            "align_items": null,
            "align_self": null,
            "border": null,
            "bottom": null,
            "display": null,
            "flex": null,
            "flex_flow": null,
            "grid_area": null,
            "grid_auto_columns": null,
            "grid_auto_flow": null,
            "grid_auto_rows": null,
            "grid_column": null,
            "grid_gap": null,
            "grid_row": null,
            "grid_template_areas": null,
            "grid_template_columns": null,
            "grid_template_rows": null,
            "height": null,
            "justify_content": null,
            "justify_items": null,
            "left": null,
            "margin": null,
            "max_height": null,
            "max_width": null,
            "min_height": null,
            "min_width": null,
            "object_fit": null,
            "object_position": null,
            "order": null,
            "overflow": null,
            "overflow_x": null,
            "overflow_y": null,
            "padding": null,
            "right": null,
            "top": null,
            "visibility": null,
            "width": null
          }
        },
        "3b7a4df7d6ea495eb0ffdd42c1ca4c43": {
          "model_module": "@jupyter-widgets/base",
          "model_module_version": "1.2.0",
          "model_name": "LayoutModel",
          "state": {
            "_model_module": "@jupyter-widgets/base",
            "_model_module_version": "1.2.0",
            "_model_name": "LayoutModel",
            "_view_count": null,
            "_view_module": "@jupyter-widgets/base",
            "_view_module_version": "1.2.0",
            "_view_name": "LayoutView",
            "align_content": null,
            "align_items": null,
            "align_self": null,
            "border": null,
            "bottom": null,
            "display": null,
            "flex": null,
            "flex_flow": null,
            "grid_area": null,
            "grid_auto_columns": null,
            "grid_auto_flow": null,
            "grid_auto_rows": null,
            "grid_column": null,
            "grid_gap": null,
            "grid_row": null,
            "grid_template_areas": null,
            "grid_template_columns": null,
            "grid_template_rows": null,
            "height": null,
            "justify_content": null,
            "justify_items": null,
            "left": null,
            "margin": null,
            "max_height": null,
            "max_width": null,
            "min_height": null,
            "min_width": null,
            "object_fit": null,
            "object_position": null,
            "order": null,
            "overflow": null,
            "overflow_x": null,
            "overflow_y": null,
            "padding": null,
            "right": null,
            "top": null,
            "visibility": null,
            "width": null
          }
        },
        "4088b66d4ea84b0494914c432647166d": {
          "model_module": "@jupyter-widgets/base",
          "model_module_version": "1.2.0",
          "model_name": "LayoutModel",
          "state": {
            "_model_module": "@jupyter-widgets/base",
            "_model_module_version": "1.2.0",
            "_model_name": "LayoutModel",
            "_view_count": null,
            "_view_module": "@jupyter-widgets/base",
            "_view_module_version": "1.2.0",
            "_view_name": "LayoutView",
            "align_content": null,
            "align_items": null,
            "align_self": null,
            "border": null,
            "bottom": null,
            "display": null,
            "flex": null,
            "flex_flow": null,
            "grid_area": null,
            "grid_auto_columns": null,
            "grid_auto_flow": null,
            "grid_auto_rows": null,
            "grid_column": null,
            "grid_gap": null,
            "grid_row": null,
            "grid_template_areas": null,
            "grid_template_columns": null,
            "grid_template_rows": null,
            "height": null,
            "justify_content": null,
            "justify_items": null,
            "left": null,
            "margin": null,
            "max_height": null,
            "max_width": null,
            "min_height": null,
            "min_width": null,
            "object_fit": null,
            "object_position": null,
            "order": null,
            "overflow": null,
            "overflow_x": null,
            "overflow_y": null,
            "padding": null,
            "right": null,
            "top": null,
            "visibility": null,
            "width": null
          }
        },
        "435b84b1545a4e25b7f1147bdbfdefaf": {
          "model_module": "@jupyter-widgets/controls",
          "model_module_version": "1.5.0",
          "model_name": "DescriptionStyleModel",
          "state": {
            "_model_module": "@jupyter-widgets/controls",
            "_model_module_version": "1.5.0",
            "_model_name": "DescriptionStyleModel",
            "_view_count": null,
            "_view_module": "@jupyter-widgets/base",
            "_view_module_version": "1.2.0",
            "_view_name": "StyleView",
            "description_width": ""
          }
        },
        "43661683552e4cbfaed71932aeadd9f3": {
          "model_module": "@jupyter-widgets/controls",
          "model_module_version": "1.5.0",
          "model_name": "FloatProgressModel",
          "state": {
            "_dom_classes": [],
            "_model_module": "@jupyter-widgets/controls",
            "_model_module_version": "1.5.0",
            "_model_name": "FloatProgressModel",
            "_view_count": null,
            "_view_module": "@jupyter-widgets/controls",
            "_view_module_version": "1.5.0",
            "_view_name": "ProgressView",
            "bar_style": "success",
            "description": "",
            "description_tooltip": null,
            "layout": "IPY_MODEL_04552679ac3548edb974e618d54bc712",
            "max": 14,
            "min": 0,
            "orientation": "horizontal",
            "style": "IPY_MODEL_b9462c069c824f969466001ed9e98a71",
            "value": 14
          }
        },
        "438e667d8d1f4ebba18d659abeb5754b": {
          "model_module": "@jupyter-widgets/controls",
          "model_module_version": "1.5.0",
          "model_name": "HBoxModel",
          "state": {
            "_dom_classes": [],
            "_model_module": "@jupyter-widgets/controls",
            "_model_module_version": "1.5.0",
            "_model_name": "HBoxModel",
            "_view_count": null,
            "_view_module": "@jupyter-widgets/controls",
            "_view_module_version": "1.5.0",
            "_view_name": "HBoxView",
            "box_style": "",
            "children": [
              "IPY_MODEL_a139609b275f403891c8ad2e24e8cf6b",
              "IPY_MODEL_db2b2206b1534bf382c22f66e951d7c8",
              "IPY_MODEL_1ed802358f9c46d6a83b524d94a1f5c7"
            ],
            "layout": "IPY_MODEL_4665155ef0684aa5b3eed95c87c5a500"
          }
        },
        "4665155ef0684aa5b3eed95c87c5a500": {
          "model_module": "@jupyter-widgets/base",
          "model_module_version": "1.2.0",
          "model_name": "LayoutModel",
          "state": {
            "_model_module": "@jupyter-widgets/base",
            "_model_module_version": "1.2.0",
            "_model_name": "LayoutModel",
            "_view_count": null,
            "_view_module": "@jupyter-widgets/base",
            "_view_module_version": "1.2.0",
            "_view_name": "LayoutView",
            "align_content": null,
            "align_items": null,
            "align_self": null,
            "border": null,
            "bottom": null,
            "display": null,
            "flex": null,
            "flex_flow": null,
            "grid_area": null,
            "grid_auto_columns": null,
            "grid_auto_flow": null,
            "grid_auto_rows": null,
            "grid_column": null,
            "grid_gap": null,
            "grid_row": null,
            "grid_template_areas": null,
            "grid_template_columns": null,
            "grid_template_rows": null,
            "height": null,
            "justify_content": null,
            "justify_items": null,
            "left": null,
            "margin": null,
            "max_height": null,
            "max_width": null,
            "min_height": null,
            "min_width": null,
            "object_fit": null,
            "object_position": null,
            "order": null,
            "overflow": null,
            "overflow_x": null,
            "overflow_y": null,
            "padding": null,
            "right": null,
            "top": null,
            "visibility": null,
            "width": null
          }
        },
        "48042f12407b444f902d0fcccd14d841": {
          "model_module": "@jupyter-widgets/controls",
          "model_module_version": "1.5.0",
          "model_name": "DescriptionStyleModel",
          "state": {
            "_model_module": "@jupyter-widgets/controls",
            "_model_module_version": "1.5.0",
            "_model_name": "DescriptionStyleModel",
            "_view_count": null,
            "_view_module": "@jupyter-widgets/base",
            "_view_module_version": "1.2.0",
            "_view_name": "StyleView",
            "description_width": ""
          }
        },
        "4b160dce9fff485190a3ec62bb627681": {
          "model_module": "@jupyter-widgets/base",
          "model_module_version": "1.2.0",
          "model_name": "LayoutModel",
          "state": {
            "_model_module": "@jupyter-widgets/base",
            "_model_module_version": "1.2.0",
            "_model_name": "LayoutModel",
            "_view_count": null,
            "_view_module": "@jupyter-widgets/base",
            "_view_module_version": "1.2.0",
            "_view_name": "LayoutView",
            "align_content": null,
            "align_items": null,
            "align_self": null,
            "border": null,
            "bottom": null,
            "display": null,
            "flex": null,
            "flex_flow": null,
            "grid_area": null,
            "grid_auto_columns": null,
            "grid_auto_flow": null,
            "grid_auto_rows": null,
            "grid_column": null,
            "grid_gap": null,
            "grid_row": null,
            "grid_template_areas": null,
            "grid_template_columns": null,
            "grid_template_rows": null,
            "height": null,
            "justify_content": null,
            "justify_items": null,
            "left": null,
            "margin": null,
            "max_height": null,
            "max_width": null,
            "min_height": null,
            "min_width": null,
            "object_fit": null,
            "object_position": null,
            "order": null,
            "overflow": null,
            "overflow_x": null,
            "overflow_y": null,
            "padding": null,
            "right": null,
            "top": null,
            "visibility": null,
            "width": null
          }
        },
        "4b7a45802cf34193be5b32de0494565d": {
          "model_module": "@jupyter-widgets/controls",
          "model_module_version": "1.5.0",
          "model_name": "HBoxModel",
          "state": {
            "_dom_classes": [],
            "_model_module": "@jupyter-widgets/controls",
            "_model_module_version": "1.5.0",
            "_model_name": "HBoxModel",
            "_view_count": null,
            "_view_module": "@jupyter-widgets/controls",
            "_view_module_version": "1.5.0",
            "_view_name": "HBoxView",
            "box_style": "",
            "children": [
              "IPY_MODEL_7dd19ed5a3f94f97ad382375b66bd5e6",
              "IPY_MODEL_d0ab66a3b9cc44a59f5645f85faa2f3a",
              "IPY_MODEL_64f3e7d2b1594a7e931486cccb4b16b9"
            ],
            "layout": "IPY_MODEL_fb0a8e8983914942a51f71abc8e0bcad"
          }
        },
        "502942d8f6ea47b8ae204107794f4e01": {
          "model_module": "@jupyter-widgets/controls",
          "model_module_version": "1.5.0",
          "model_name": "DescriptionStyleModel",
          "state": {
            "_model_module": "@jupyter-widgets/controls",
            "_model_module_version": "1.5.0",
            "_model_name": "DescriptionStyleModel",
            "_view_count": null,
            "_view_module": "@jupyter-widgets/base",
            "_view_module_version": "1.2.0",
            "_view_name": "StyleView",
            "description_width": ""
          }
        },
        "5bcb5ba7738246d595e1c47d3f78ad51": {
          "model_module": "@jupyter-widgets/controls",
          "model_module_version": "1.5.0",
          "model_name": "ProgressStyleModel",
          "state": {
            "_model_module": "@jupyter-widgets/controls",
            "_model_module_version": "1.5.0",
            "_model_name": "ProgressStyleModel",
            "_view_count": null,
            "_view_module": "@jupyter-widgets/base",
            "_view_module_version": "1.2.0",
            "_view_name": "StyleView",
            "bar_color": null,
            "description_width": ""
          }
        },
        "5c3da8a0bc8b4f3abc2cb246316035fe": {
          "model_module": "@jupyter-widgets/controls",
          "model_module_version": "1.5.0",
          "model_name": "DescriptionStyleModel",
          "state": {
            "_model_module": "@jupyter-widgets/controls",
            "_model_module_version": "1.5.0",
            "_model_name": "DescriptionStyleModel",
            "_view_count": null,
            "_view_module": "@jupyter-widgets/base",
            "_view_module_version": "1.2.0",
            "_view_name": "StyleView",
            "description_width": ""
          }
        },
        "5ffa17e45bc54b189859541cee6fe113": {
          "model_module": "@jupyter-widgets/base",
          "model_module_version": "1.2.0",
          "model_name": "LayoutModel",
          "state": {
            "_model_module": "@jupyter-widgets/base",
            "_model_module_version": "1.2.0",
            "_model_name": "LayoutModel",
            "_view_count": null,
            "_view_module": "@jupyter-widgets/base",
            "_view_module_version": "1.2.0",
            "_view_name": "LayoutView",
            "align_content": null,
            "align_items": null,
            "align_self": null,
            "border": null,
            "bottom": null,
            "display": null,
            "flex": null,
            "flex_flow": null,
            "grid_area": null,
            "grid_auto_columns": null,
            "grid_auto_flow": null,
            "grid_auto_rows": null,
            "grid_column": null,
            "grid_gap": null,
            "grid_row": null,
            "grid_template_areas": null,
            "grid_template_columns": null,
            "grid_template_rows": null,
            "height": null,
            "justify_content": null,
            "justify_items": null,
            "left": null,
            "margin": null,
            "max_height": null,
            "max_width": null,
            "min_height": null,
            "min_width": null,
            "object_fit": null,
            "object_position": null,
            "order": null,
            "overflow": null,
            "overflow_x": null,
            "overflow_y": null,
            "padding": null,
            "right": null,
            "top": null,
            "visibility": null,
            "width": null
          }
        },
        "6054f702ecbe4cb1b1403ea4f6135cb6": {
          "model_module": "@jupyter-widgets/base",
          "model_module_version": "1.2.0",
          "model_name": "LayoutModel",
          "state": {
            "_model_module": "@jupyter-widgets/base",
            "_model_module_version": "1.2.0",
            "_model_name": "LayoutModel",
            "_view_count": null,
            "_view_module": "@jupyter-widgets/base",
            "_view_module_version": "1.2.0",
            "_view_name": "LayoutView",
            "align_content": null,
            "align_items": null,
            "align_self": null,
            "border": null,
            "bottom": null,
            "display": null,
            "flex": null,
            "flex_flow": null,
            "grid_area": null,
            "grid_auto_columns": null,
            "grid_auto_flow": null,
            "grid_auto_rows": null,
            "grid_column": null,
            "grid_gap": null,
            "grid_row": null,
            "grid_template_areas": null,
            "grid_template_columns": null,
            "grid_template_rows": null,
            "height": null,
            "justify_content": null,
            "justify_items": null,
            "left": null,
            "margin": null,
            "max_height": null,
            "max_width": null,
            "min_height": null,
            "min_width": null,
            "object_fit": null,
            "object_position": null,
            "order": null,
            "overflow": null,
            "overflow_x": null,
            "overflow_y": null,
            "padding": null,
            "right": null,
            "top": null,
            "visibility": null,
            "width": null
          }
        },
        "615bfe7969374c9aac8306d13e11ecb1": {
          "model_module": "@jupyter-widgets/base",
          "model_module_version": "1.2.0",
          "model_name": "LayoutModel",
          "state": {
            "_model_module": "@jupyter-widgets/base",
            "_model_module_version": "1.2.0",
            "_model_name": "LayoutModel",
            "_view_count": null,
            "_view_module": "@jupyter-widgets/base",
            "_view_module_version": "1.2.0",
            "_view_name": "LayoutView",
            "align_content": null,
            "align_items": null,
            "align_self": null,
            "border": null,
            "bottom": null,
            "display": null,
            "flex": null,
            "flex_flow": null,
            "grid_area": null,
            "grid_auto_columns": null,
            "grid_auto_flow": null,
            "grid_auto_rows": null,
            "grid_column": null,
            "grid_gap": null,
            "grid_row": null,
            "grid_template_areas": null,
            "grid_template_columns": null,
            "grid_template_rows": null,
            "height": null,
            "justify_content": null,
            "justify_items": null,
            "left": null,
            "margin": null,
            "max_height": null,
            "max_width": null,
            "min_height": null,
            "min_width": null,
            "object_fit": null,
            "object_position": null,
            "order": null,
            "overflow": null,
            "overflow_x": null,
            "overflow_y": null,
            "padding": null,
            "right": null,
            "top": null,
            "visibility": null,
            "width": null
          }
        },
        "64f3e7d2b1594a7e931486cccb4b16b9": {
          "model_module": "@jupyter-widgets/controls",
          "model_module_version": "1.5.0",
          "model_name": "HTMLModel",
          "state": {
            "_dom_classes": [],
            "_model_module": "@jupyter-widgets/controls",
            "_model_module_version": "1.5.0",
            "_model_name": "HTMLModel",
            "_view_count": null,
            "_view_module": "@jupyter-widgets/controls",
            "_view_module_version": "1.5.0",
            "_view_name": "HTMLView",
            "description": "",
            "description_tooltip": null,
            "layout": "IPY_MODEL_5ffa17e45bc54b189859541cee6fe113",
            "placeholder": "​",
            "style": "IPY_MODEL_502942d8f6ea47b8ae204107794f4e01",
            "value": " 14/14 [01:24&lt;00:00,  5.11s/it]"
          }
        },
        "6b041f199955454e9c44cb36d2153fc6": {
          "model_module": "@jupyter-widgets/base",
          "model_module_version": "1.2.0",
          "model_name": "LayoutModel",
          "state": {
            "_model_module": "@jupyter-widgets/base",
            "_model_module_version": "1.2.0",
            "_model_name": "LayoutModel",
            "_view_count": null,
            "_view_module": "@jupyter-widgets/base",
            "_view_module_version": "1.2.0",
            "_view_name": "LayoutView",
            "align_content": null,
            "align_items": null,
            "align_self": null,
            "border": null,
            "bottom": null,
            "display": null,
            "flex": null,
            "flex_flow": null,
            "grid_area": null,
            "grid_auto_columns": null,
            "grid_auto_flow": null,
            "grid_auto_rows": null,
            "grid_column": null,
            "grid_gap": null,
            "grid_row": null,
            "grid_template_areas": null,
            "grid_template_columns": null,
            "grid_template_rows": null,
            "height": null,
            "justify_content": null,
            "justify_items": null,
            "left": null,
            "margin": null,
            "max_height": null,
            "max_width": null,
            "min_height": null,
            "min_width": null,
            "object_fit": null,
            "object_position": null,
            "order": null,
            "overflow": null,
            "overflow_x": null,
            "overflow_y": null,
            "padding": null,
            "right": null,
            "top": null,
            "visibility": null,
            "width": null
          }
        },
        "6f4f3c9e72194939bd80be305b89e8c7": {
          "model_module": "@jupyter-widgets/base",
          "model_module_version": "1.2.0",
          "model_name": "LayoutModel",
          "state": {
            "_model_module": "@jupyter-widgets/base",
            "_model_module_version": "1.2.0",
            "_model_name": "LayoutModel",
            "_view_count": null,
            "_view_module": "@jupyter-widgets/base",
            "_view_module_version": "1.2.0",
            "_view_name": "LayoutView",
            "align_content": null,
            "align_items": null,
            "align_self": null,
            "border": null,
            "bottom": null,
            "display": null,
            "flex": null,
            "flex_flow": null,
            "grid_area": null,
            "grid_auto_columns": null,
            "grid_auto_flow": null,
            "grid_auto_rows": null,
            "grid_column": null,
            "grid_gap": null,
            "grid_row": null,
            "grid_template_areas": null,
            "grid_template_columns": null,
            "grid_template_rows": null,
            "height": null,
            "justify_content": null,
            "justify_items": null,
            "left": null,
            "margin": null,
            "max_height": null,
            "max_width": null,
            "min_height": null,
            "min_width": null,
            "object_fit": null,
            "object_position": null,
            "order": null,
            "overflow": null,
            "overflow_x": null,
            "overflow_y": null,
            "padding": null,
            "right": null,
            "top": null,
            "visibility": null,
            "width": null
          }
        },
        "6f662f7587dd42a2b951052045724cc3": {
          "model_module": "@jupyter-widgets/controls",
          "model_module_version": "1.5.0",
          "model_name": "HTMLModel",
          "state": {
            "_dom_classes": [],
            "_model_module": "@jupyter-widgets/controls",
            "_model_module_version": "1.5.0",
            "_model_name": "HTMLModel",
            "_view_count": null,
            "_view_module": "@jupyter-widgets/controls",
            "_view_module_version": "1.5.0",
            "_view_name": "HTMLView",
            "description": "",
            "description_tooltip": null,
            "layout": "IPY_MODEL_1e75dd1cd0c9497bbd2db8b5e14fe341",
            "placeholder": "​",
            "style": "IPY_MODEL_2acd8dc5bf1246f3a4968bebd6edf2a1",
            "value": "Retrieving data for stations: 100%"
          }
        },
        "746466fff64f4d828c97a001b76e2e9b": {
          "model_module": "@jupyter-widgets/base",
          "model_module_version": "1.2.0",
          "model_name": "LayoutModel",
          "state": {
            "_model_module": "@jupyter-widgets/base",
            "_model_module_version": "1.2.0",
            "_model_name": "LayoutModel",
            "_view_count": null,
            "_view_module": "@jupyter-widgets/base",
            "_view_module_version": "1.2.0",
            "_view_name": "LayoutView",
            "align_content": null,
            "align_items": null,
            "align_self": null,
            "border": null,
            "bottom": null,
            "display": null,
            "flex": null,
            "flex_flow": null,
            "grid_area": null,
            "grid_auto_columns": null,
            "grid_auto_flow": null,
            "grid_auto_rows": null,
            "grid_column": null,
            "grid_gap": null,
            "grid_row": null,
            "grid_template_areas": null,
            "grid_template_columns": null,
            "grid_template_rows": null,
            "height": null,
            "justify_content": null,
            "justify_items": null,
            "left": null,
            "margin": null,
            "max_height": null,
            "max_width": null,
            "min_height": null,
            "min_width": null,
            "object_fit": null,
            "object_position": null,
            "order": null,
            "overflow": null,
            "overflow_x": null,
            "overflow_y": null,
            "padding": null,
            "right": null,
            "top": null,
            "visibility": null,
            "width": null
          }
        },
        "77d2f198db0a44018d05420e4624198e": {
          "model_module": "@jupyter-widgets/controls",
          "model_module_version": "1.5.0",
          "model_name": "ProgressStyleModel",
          "state": {
            "_model_module": "@jupyter-widgets/controls",
            "_model_module_version": "1.5.0",
            "_model_name": "ProgressStyleModel",
            "_view_count": null,
            "_view_module": "@jupyter-widgets/base",
            "_view_module_version": "1.2.0",
            "_view_name": "StyleView",
            "bar_color": null,
            "description_width": ""
          }
        },
        "7a0acccf979341fbabcbdd0da9232934": {
          "model_module": "@jupyter-widgets/controls",
          "model_module_version": "1.5.0",
          "model_name": "ProgressStyleModel",
          "state": {
            "_model_module": "@jupyter-widgets/controls",
            "_model_module_version": "1.5.0",
            "_model_name": "ProgressStyleModel",
            "_view_count": null,
            "_view_module": "@jupyter-widgets/base",
            "_view_module_version": "1.2.0",
            "_view_name": "StyleView",
            "bar_color": null,
            "description_width": ""
          }
        },
        "7ab26a7c15654baaa97ff9add39f00fa": {
          "model_module": "@jupyter-widgets/controls",
          "model_module_version": "1.5.0",
          "model_name": "HBoxModel",
          "state": {
            "_dom_classes": [],
            "_model_module": "@jupyter-widgets/controls",
            "_model_module_version": "1.5.0",
            "_model_name": "HBoxModel",
            "_view_count": null,
            "_view_module": "@jupyter-widgets/controls",
            "_view_module_version": "1.5.0",
            "_view_name": "HBoxView",
            "box_style": "",
            "children": [
              "IPY_MODEL_bee0c23bfe784cce9818deb3d4a54791",
              "IPY_MODEL_8d4e262ca76e4112850e429928ccc5cb",
              "IPY_MODEL_dd8aff51a8e640628c64a46dd34612f4"
            ],
            "layout": "IPY_MODEL_ec21eff1b73c424d858fe18ff6bcf2b3"
          }
        },
        "7b832da88db640dd93154677e4c08b04": {
          "model_module": "@jupyter-widgets/base",
          "model_module_version": "1.2.0",
          "model_name": "LayoutModel",
          "state": {
            "_model_module": "@jupyter-widgets/base",
            "_model_module_version": "1.2.0",
            "_model_name": "LayoutModel",
            "_view_count": null,
            "_view_module": "@jupyter-widgets/base",
            "_view_module_version": "1.2.0",
            "_view_name": "LayoutView",
            "align_content": null,
            "align_items": null,
            "align_self": null,
            "border": null,
            "bottom": null,
            "display": null,
            "flex": null,
            "flex_flow": null,
            "grid_area": null,
            "grid_auto_columns": null,
            "grid_auto_flow": null,
            "grid_auto_rows": null,
            "grid_column": null,
            "grid_gap": null,
            "grid_row": null,
            "grid_template_areas": null,
            "grid_template_columns": null,
            "grid_template_rows": null,
            "height": null,
            "justify_content": null,
            "justify_items": null,
            "left": null,
            "margin": null,
            "max_height": null,
            "max_width": null,
            "min_height": null,
            "min_width": null,
            "object_fit": null,
            "object_position": null,
            "order": null,
            "overflow": null,
            "overflow_x": null,
            "overflow_y": null,
            "padding": null,
            "right": null,
            "top": null,
            "visibility": null,
            "width": null
          }
        },
        "7c76474ac27f4345a41174c520fa12fb": {
          "model_module": "@jupyter-widgets/base",
          "model_module_version": "1.2.0",
          "model_name": "LayoutModel",
          "state": {
            "_model_module": "@jupyter-widgets/base",
            "_model_module_version": "1.2.0",
            "_model_name": "LayoutModel",
            "_view_count": null,
            "_view_module": "@jupyter-widgets/base",
            "_view_module_version": "1.2.0",
            "_view_name": "LayoutView",
            "align_content": null,
            "align_items": null,
            "align_self": null,
            "border": null,
            "bottom": null,
            "display": null,
            "flex": null,
            "flex_flow": null,
            "grid_area": null,
            "grid_auto_columns": null,
            "grid_auto_flow": null,
            "grid_auto_rows": null,
            "grid_column": null,
            "grid_gap": null,
            "grid_row": null,
            "grid_template_areas": null,
            "grid_template_columns": null,
            "grid_template_rows": null,
            "height": null,
            "justify_content": null,
            "justify_items": null,
            "left": null,
            "margin": null,
            "max_height": null,
            "max_width": null,
            "min_height": null,
            "min_width": null,
            "object_fit": null,
            "object_position": null,
            "order": null,
            "overflow": null,
            "overflow_x": null,
            "overflow_y": null,
            "padding": null,
            "right": null,
            "top": null,
            "visibility": null,
            "width": null
          }
        },
        "7dd19ed5a3f94f97ad382375b66bd5e6": {
          "model_module": "@jupyter-widgets/controls",
          "model_module_version": "1.5.0",
          "model_name": "HTMLModel",
          "state": {
            "_dom_classes": [],
            "_model_module": "@jupyter-widgets/controls",
            "_model_module_version": "1.5.0",
            "_model_name": "HTMLModel",
            "_view_count": null,
            "_view_module": "@jupyter-widgets/controls",
            "_view_module_version": "1.5.0",
            "_view_name": "HTMLView",
            "description": "",
            "description_tooltip": null,
            "layout": "IPY_MODEL_6b041f199955454e9c44cb36d2153fc6",
            "placeholder": "​",
            "style": "IPY_MODEL_435b84b1545a4e25b7f1147bdbfdefaf",
            "value": "Retrieving data for stations: 100%"
          }
        },
        "815d7d53e5b64d8494903a155fd5de5c": {
          "model_module": "@jupyter-widgets/controls",
          "model_module_version": "1.5.0",
          "model_name": "DescriptionStyleModel",
          "state": {
            "_model_module": "@jupyter-widgets/controls",
            "_model_module_version": "1.5.0",
            "_model_name": "DescriptionStyleModel",
            "_view_count": null,
            "_view_module": "@jupyter-widgets/base",
            "_view_module_version": "1.2.0",
            "_view_name": "StyleView",
            "description_width": ""
          }
        },
        "824ce57d9d2441b89cf701a88899e4fc": {
          "model_module": "@jupyter-widgets/base",
          "model_module_version": "1.2.0",
          "model_name": "LayoutModel",
          "state": {
            "_model_module": "@jupyter-widgets/base",
            "_model_module_version": "1.2.0",
            "_model_name": "LayoutModel",
            "_view_count": null,
            "_view_module": "@jupyter-widgets/base",
            "_view_module_version": "1.2.0",
            "_view_name": "LayoutView",
            "align_content": null,
            "align_items": null,
            "align_self": null,
            "border": null,
            "bottom": null,
            "display": null,
            "flex": null,
            "flex_flow": null,
            "grid_area": null,
            "grid_auto_columns": null,
            "grid_auto_flow": null,
            "grid_auto_rows": null,
            "grid_column": null,
            "grid_gap": null,
            "grid_row": null,
            "grid_template_areas": null,
            "grid_template_columns": null,
            "grid_template_rows": null,
            "height": null,
            "justify_content": null,
            "justify_items": null,
            "left": null,
            "margin": null,
            "max_height": null,
            "max_width": null,
            "min_height": null,
            "min_width": null,
            "object_fit": null,
            "object_position": null,
            "order": null,
            "overflow": null,
            "overflow_x": null,
            "overflow_y": null,
            "padding": null,
            "right": null,
            "top": null,
            "visibility": null,
            "width": null
          }
        },
        "86226da5c7374a6b96a6225cb2d7f59a": {
          "model_module": "@jupyter-widgets/base",
          "model_module_version": "1.2.0",
          "model_name": "LayoutModel",
          "state": {
            "_model_module": "@jupyter-widgets/base",
            "_model_module_version": "1.2.0",
            "_model_name": "LayoutModel",
            "_view_count": null,
            "_view_module": "@jupyter-widgets/base",
            "_view_module_version": "1.2.0",
            "_view_name": "LayoutView",
            "align_content": null,
            "align_items": null,
            "align_self": null,
            "border": null,
            "bottom": null,
            "display": null,
            "flex": null,
            "flex_flow": null,
            "grid_area": null,
            "grid_auto_columns": null,
            "grid_auto_flow": null,
            "grid_auto_rows": null,
            "grid_column": null,
            "grid_gap": null,
            "grid_row": null,
            "grid_template_areas": null,
            "grid_template_columns": null,
            "grid_template_rows": null,
            "height": null,
            "justify_content": null,
            "justify_items": null,
            "left": null,
            "margin": null,
            "max_height": null,
            "max_width": null,
            "min_height": null,
            "min_width": null,
            "object_fit": null,
            "object_position": null,
            "order": null,
            "overflow": null,
            "overflow_x": null,
            "overflow_y": null,
            "padding": null,
            "right": null,
            "top": null,
            "visibility": null,
            "width": null
          }
        },
        "8762e02c0f8343e5aa6724432fad0069": {
          "model_module": "@jupyter-widgets/controls",
          "model_module_version": "1.5.0",
          "model_name": "DescriptionStyleModel",
          "state": {
            "_model_module": "@jupyter-widgets/controls",
            "_model_module_version": "1.5.0",
            "_model_name": "DescriptionStyleModel",
            "_view_count": null,
            "_view_module": "@jupyter-widgets/base",
            "_view_module_version": "1.2.0",
            "_view_name": "StyleView",
            "description_width": ""
          }
        },
        "895a22ed894346d7a291901b12d2b72d": {
          "model_module": "@jupyter-widgets/base",
          "model_module_version": "1.2.0",
          "model_name": "LayoutModel",
          "state": {
            "_model_module": "@jupyter-widgets/base",
            "_model_module_version": "1.2.0",
            "_model_name": "LayoutModel",
            "_view_count": null,
            "_view_module": "@jupyter-widgets/base",
            "_view_module_version": "1.2.0",
            "_view_name": "LayoutView",
            "align_content": null,
            "align_items": null,
            "align_self": null,
            "border": null,
            "bottom": null,
            "display": null,
            "flex": null,
            "flex_flow": null,
            "grid_area": null,
            "grid_auto_columns": null,
            "grid_auto_flow": null,
            "grid_auto_rows": null,
            "grid_column": null,
            "grid_gap": null,
            "grid_row": null,
            "grid_template_areas": null,
            "grid_template_columns": null,
            "grid_template_rows": null,
            "height": null,
            "justify_content": null,
            "justify_items": null,
            "left": null,
            "margin": null,
            "max_height": null,
            "max_width": null,
            "min_height": null,
            "min_width": null,
            "object_fit": null,
            "object_position": null,
            "order": null,
            "overflow": null,
            "overflow_x": null,
            "overflow_y": null,
            "padding": null,
            "right": null,
            "top": null,
            "visibility": null,
            "width": null
          }
        },
        "8ab2fb1565bc4b1cb09bc28b18d7e71a": {
          "model_module": "@jupyter-widgets/base",
          "model_module_version": "1.2.0",
          "model_name": "LayoutModel",
          "state": {
            "_model_module": "@jupyter-widgets/base",
            "_model_module_version": "1.2.0",
            "_model_name": "LayoutModel",
            "_view_count": null,
            "_view_module": "@jupyter-widgets/base",
            "_view_module_version": "1.2.0",
            "_view_name": "LayoutView",
            "align_content": null,
            "align_items": null,
            "align_self": null,
            "border": null,
            "bottom": null,
            "display": null,
            "flex": null,
            "flex_flow": null,
            "grid_area": null,
            "grid_auto_columns": null,
            "grid_auto_flow": null,
            "grid_auto_rows": null,
            "grid_column": null,
            "grid_gap": null,
            "grid_row": null,
            "grid_template_areas": null,
            "grid_template_columns": null,
            "grid_template_rows": null,
            "height": null,
            "justify_content": null,
            "justify_items": null,
            "left": null,
            "margin": null,
            "max_height": null,
            "max_width": null,
            "min_height": null,
            "min_width": null,
            "object_fit": null,
            "object_position": null,
            "order": null,
            "overflow": null,
            "overflow_x": null,
            "overflow_y": null,
            "padding": null,
            "right": null,
            "top": null,
            "visibility": null,
            "width": null
          }
        },
        "8d4e262ca76e4112850e429928ccc5cb": {
          "model_module": "@jupyter-widgets/controls",
          "model_module_version": "1.5.0",
          "model_name": "FloatProgressModel",
          "state": {
            "_dom_classes": [],
            "_model_module": "@jupyter-widgets/controls",
            "_model_module_version": "1.5.0",
            "_model_name": "FloatProgressModel",
            "_view_count": null,
            "_view_module": "@jupyter-widgets/controls",
            "_view_module_version": "1.5.0",
            "_view_name": "ProgressView",
            "bar_style": "success",
            "description": "",
            "description_tooltip": null,
            "layout": "IPY_MODEL_ced448b7255c485da340aba113c7ee19",
            "max": 14,
            "min": 0,
            "orientation": "horizontal",
            "style": "IPY_MODEL_2f2331f12ae040ed97b4085b8a349aa8",
            "value": 14
          }
        },
        "9a1a48ba8c7c413c98202bcab35d2aa1": {
          "model_module": "@jupyter-widgets/base",
          "model_module_version": "1.2.0",
          "model_name": "LayoutModel",
          "state": {
            "_model_module": "@jupyter-widgets/base",
            "_model_module_version": "1.2.0",
            "_model_name": "LayoutModel",
            "_view_count": null,
            "_view_module": "@jupyter-widgets/base",
            "_view_module_version": "1.2.0",
            "_view_name": "LayoutView",
            "align_content": null,
            "align_items": null,
            "align_self": null,
            "border": null,
            "bottom": null,
            "display": null,
            "flex": null,
            "flex_flow": null,
            "grid_area": null,
            "grid_auto_columns": null,
            "grid_auto_flow": null,
            "grid_auto_rows": null,
            "grid_column": null,
            "grid_gap": null,
            "grid_row": null,
            "grid_template_areas": null,
            "grid_template_columns": null,
            "grid_template_rows": null,
            "height": null,
            "justify_content": null,
            "justify_items": null,
            "left": null,
            "margin": null,
            "max_height": null,
            "max_width": null,
            "min_height": null,
            "min_width": null,
            "object_fit": null,
            "object_position": null,
            "order": null,
            "overflow": null,
            "overflow_x": null,
            "overflow_y": null,
            "padding": null,
            "right": null,
            "top": null,
            "visibility": null,
            "width": null
          }
        },
        "9a498453d93a4d9d88c82010c36433ba": {
          "model_module": "@jupyter-widgets/controls",
          "model_module_version": "1.5.0",
          "model_name": "HTMLModel",
          "state": {
            "_dom_classes": [],
            "_model_module": "@jupyter-widgets/controls",
            "_model_module_version": "1.5.0",
            "_model_name": "HTMLModel",
            "_view_count": null,
            "_view_module": "@jupyter-widgets/controls",
            "_view_module_version": "1.5.0",
            "_view_name": "HTMLView",
            "description": "",
            "description_tooltip": null,
            "layout": "IPY_MODEL_b0c95c025ae640928692bab43c342864",
            "placeholder": "​",
            "style": "IPY_MODEL_8762e02c0f8343e5aa6724432fad0069",
            "value": "Retrieving data for stations: 100%"
          }
        },
        "9b2994a8fe9344028e6b969406e99865": {
          "model_module": "@jupyter-widgets/base",
          "model_module_version": "1.2.0",
          "model_name": "LayoutModel",
          "state": {
            "_model_module": "@jupyter-widgets/base",
            "_model_module_version": "1.2.0",
            "_model_name": "LayoutModel",
            "_view_count": null,
            "_view_module": "@jupyter-widgets/base",
            "_view_module_version": "1.2.0",
            "_view_name": "LayoutView",
            "align_content": null,
            "align_items": null,
            "align_self": null,
            "border": null,
            "bottom": null,
            "display": null,
            "flex": null,
            "flex_flow": null,
            "grid_area": null,
            "grid_auto_columns": null,
            "grid_auto_flow": null,
            "grid_auto_rows": null,
            "grid_column": null,
            "grid_gap": null,
            "grid_row": null,
            "grid_template_areas": null,
            "grid_template_columns": null,
            "grid_template_rows": null,
            "height": null,
            "justify_content": null,
            "justify_items": null,
            "left": null,
            "margin": null,
            "max_height": null,
            "max_width": null,
            "min_height": null,
            "min_width": null,
            "object_fit": null,
            "object_position": null,
            "order": null,
            "overflow": null,
            "overflow_x": null,
            "overflow_y": null,
            "padding": null,
            "right": null,
            "top": null,
            "visibility": null,
            "width": null
          }
        },
        "9d407636890f46f3a81946e97513bd77": {
          "model_module": "@jupyter-widgets/controls",
          "model_module_version": "1.5.0",
          "model_name": "HTMLModel",
          "state": {
            "_dom_classes": [],
            "_model_module": "@jupyter-widgets/controls",
            "_model_module_version": "1.5.0",
            "_model_name": "HTMLModel",
            "_view_count": null,
            "_view_module": "@jupyter-widgets/controls",
            "_view_module_version": "1.5.0",
            "_view_name": "HTMLView",
            "description": "",
            "description_tooltip": null,
            "layout": "IPY_MODEL_615bfe7969374c9aac8306d13e11ecb1",
            "placeholder": "​",
            "style": "IPY_MODEL_5c3da8a0bc8b4f3abc2cb246316035fe",
            "value": " 8/8 [02:06&lt;00:00, 10.53s/it]"
          }
        },
        "9e7fd1ffced34310be8a56cc9deb5eac": {
          "model_module": "@jupyter-widgets/controls",
          "model_module_version": "1.5.0",
          "model_name": "FloatProgressModel",
          "state": {
            "_dom_classes": [],
            "_model_module": "@jupyter-widgets/controls",
            "_model_module_version": "1.5.0",
            "_model_name": "FloatProgressModel",
            "_view_count": null,
            "_view_module": "@jupyter-widgets/controls",
            "_view_module_version": "1.5.0",
            "_view_name": "ProgressView",
            "bar_style": "success",
            "description": "",
            "description_tooltip": null,
            "layout": "IPY_MODEL_7c76474ac27f4345a41174c520fa12fb",
            "max": 8,
            "min": 0,
            "orientation": "horizontal",
            "style": "IPY_MODEL_7a0acccf979341fbabcbdd0da9232934",
            "value": 8
          }
        },
        "9eae13404ee64a6cbc38cca2fd2d3b4f": {
          "model_module": "@jupyter-widgets/controls",
          "model_module_version": "1.5.0",
          "model_name": "HBoxModel",
          "state": {
            "_dom_classes": [],
            "_model_module": "@jupyter-widgets/controls",
            "_model_module_version": "1.5.0",
            "_model_name": "HBoxModel",
            "_view_count": null,
            "_view_module": "@jupyter-widgets/controls",
            "_view_module_version": "1.5.0",
            "_view_name": "HBoxView",
            "box_style": "",
            "children": [
              "IPY_MODEL_05b20a7a0b2c42758f12c4fe5006aa72",
              "IPY_MODEL_aff0598e97664caca40977df2b81569a",
              "IPY_MODEL_9d407636890f46f3a81946e97513bd77"
            ],
            "layout": "IPY_MODEL_9b2994a8fe9344028e6b969406e99865"
          }
        },
        "a00ac2274af4479b8b03e47494dbd0a9": {
          "model_module": "@jupyter-widgets/controls",
          "model_module_version": "1.5.0",
          "model_name": "FloatProgressModel",
          "state": {
            "_dom_classes": [],
            "_model_module": "@jupyter-widgets/controls",
            "_model_module_version": "1.5.0",
            "_model_name": "FloatProgressModel",
            "_view_count": null,
            "_view_module": "@jupyter-widgets/controls",
            "_view_module_version": "1.5.0",
            "_view_name": "ProgressView",
            "bar_style": "success",
            "description": "",
            "description_tooltip": null,
            "layout": "IPY_MODEL_13bdf17440f649d0ace1b39bdb4f579c",
            "max": 8,
            "min": 0,
            "orientation": "horizontal",
            "style": "IPY_MODEL_d512a8039ffa438cb2b15390c25bef59",
            "value": 8
          }
        },
        "a0c47941c4354d8d9fb6ce993149017d": {
          "model_module": "@jupyter-widgets/controls",
          "model_module_version": "1.5.0",
          "model_name": "HTMLModel",
          "state": {
            "_dom_classes": [],
            "_model_module": "@jupyter-widgets/controls",
            "_model_module_version": "1.5.0",
            "_model_name": "HTMLModel",
            "_view_count": null,
            "_view_module": "@jupyter-widgets/controls",
            "_view_module_version": "1.5.0",
            "_view_name": "HTMLView",
            "description": "",
            "description_tooltip": null,
            "layout": "IPY_MODEL_7b832da88db640dd93154677e4c08b04",
            "placeholder": "​",
            "style": "IPY_MODEL_2cd040459e5d4dc691beaf0e9a5ce477",
            "value": " 8/8 [02:12&lt;00:00, 10.75s/it]"
          }
        },
        "a139609b275f403891c8ad2e24e8cf6b": {
          "model_module": "@jupyter-widgets/controls",
          "model_module_version": "1.5.0",
          "model_name": "HTMLModel",
          "state": {
            "_dom_classes": [],
            "_model_module": "@jupyter-widgets/controls",
            "_model_module_version": "1.5.0",
            "_model_name": "HTMLModel",
            "_view_count": null,
            "_view_module": "@jupyter-widgets/controls",
            "_view_module_version": "1.5.0",
            "_view_name": "HTMLView",
            "description": "",
            "description_tooltip": null,
            "layout": "IPY_MODEL_6054f702ecbe4cb1b1403ea4f6135cb6",
            "placeholder": "​",
            "style": "IPY_MODEL_1d26b9309bc9499cb0e71bed31a12ddb",
            "value": "Retrieving data for stations: 100%"
          }
        },
        "a5ffba50c3144b4182792a0f7e105d57": {
          "model_module": "@jupyter-widgets/base",
          "model_module_version": "1.2.0",
          "model_name": "LayoutModel",
          "state": {
            "_model_module": "@jupyter-widgets/base",
            "_model_module_version": "1.2.0",
            "_model_name": "LayoutModel",
            "_view_count": null,
            "_view_module": "@jupyter-widgets/base",
            "_view_module_version": "1.2.0",
            "_view_name": "LayoutView",
            "align_content": null,
            "align_items": null,
            "align_self": null,
            "border": null,
            "bottom": null,
            "display": null,
            "flex": null,
            "flex_flow": null,
            "grid_area": null,
            "grid_auto_columns": null,
            "grid_auto_flow": null,
            "grid_auto_rows": null,
            "grid_column": null,
            "grid_gap": null,
            "grid_row": null,
            "grid_template_areas": null,
            "grid_template_columns": null,
            "grid_template_rows": null,
            "height": null,
            "justify_content": null,
            "justify_items": null,
            "left": null,
            "margin": null,
            "max_height": null,
            "max_width": null,
            "min_height": null,
            "min_width": null,
            "object_fit": null,
            "object_position": null,
            "order": null,
            "overflow": null,
            "overflow_x": null,
            "overflow_y": null,
            "padding": null,
            "right": null,
            "top": null,
            "visibility": null,
            "width": null
          }
        },
        "a8b975ad40784889a3039e2fab6144a1": {
          "model_module": "@jupyter-widgets/controls",
          "model_module_version": "1.5.0",
          "model_name": "HBoxModel",
          "state": {
            "_dom_classes": [],
            "_model_module": "@jupyter-widgets/controls",
            "_model_module_version": "1.5.0",
            "_model_name": "HBoxModel",
            "_view_count": null,
            "_view_module": "@jupyter-widgets/controls",
            "_view_module_version": "1.5.0",
            "_view_name": "HBoxView",
            "box_style": "",
            "children": [
              "IPY_MODEL_9a498453d93a4d9d88c82010c36433ba",
              "IPY_MODEL_43661683552e4cbfaed71932aeadd9f3",
              "IPY_MODEL_c215abde2aae4c018f67e40033d7571f"
            ],
            "layout": "IPY_MODEL_8ab2fb1565bc4b1cb09bc28b18d7e71a"
          }
        },
        "aff0598e97664caca40977df2b81569a": {
          "model_module": "@jupyter-widgets/controls",
          "model_module_version": "1.5.0",
          "model_name": "FloatProgressModel",
          "state": {
            "_dom_classes": [],
            "_model_module": "@jupyter-widgets/controls",
            "_model_module_version": "1.5.0",
            "_model_name": "FloatProgressModel",
            "_view_count": null,
            "_view_module": "@jupyter-widgets/controls",
            "_view_module_version": "1.5.0",
            "_view_name": "ProgressView",
            "bar_style": "success",
            "description": "",
            "description_tooltip": null,
            "layout": "IPY_MODEL_c402b2ce4d474c1cb3922116dfb0bf68",
            "max": 8,
            "min": 0,
            "orientation": "horizontal",
            "style": "IPY_MODEL_fa23ef3e060d4faabad3ab37617644e8",
            "value": 8
          }
        },
        "b0c95c025ae640928692bab43c342864": {
          "model_module": "@jupyter-widgets/base",
          "model_module_version": "1.2.0",
          "model_name": "LayoutModel",
          "state": {
            "_model_module": "@jupyter-widgets/base",
            "_model_module_version": "1.2.0",
            "_model_name": "LayoutModel",
            "_view_count": null,
            "_view_module": "@jupyter-widgets/base",
            "_view_module_version": "1.2.0",
            "_view_name": "LayoutView",
            "align_content": null,
            "align_items": null,
            "align_self": null,
            "border": null,
            "bottom": null,
            "display": null,
            "flex": null,
            "flex_flow": null,
            "grid_area": null,
            "grid_auto_columns": null,
            "grid_auto_flow": null,
            "grid_auto_rows": null,
            "grid_column": null,
            "grid_gap": null,
            "grid_row": null,
            "grid_template_areas": null,
            "grid_template_columns": null,
            "grid_template_rows": null,
            "height": null,
            "justify_content": null,
            "justify_items": null,
            "left": null,
            "margin": null,
            "max_height": null,
            "max_width": null,
            "min_height": null,
            "min_width": null,
            "object_fit": null,
            "object_position": null,
            "order": null,
            "overflow": null,
            "overflow_x": null,
            "overflow_y": null,
            "padding": null,
            "right": null,
            "top": null,
            "visibility": null,
            "width": null
          }
        },
        "b0e98c25db34435f8dac9da45de58ef1": {
          "model_module": "@jupyter-widgets/controls",
          "model_module_version": "1.5.0",
          "model_name": "DescriptionStyleModel",
          "state": {
            "_model_module": "@jupyter-widgets/controls",
            "_model_module_version": "1.5.0",
            "_model_name": "DescriptionStyleModel",
            "_view_count": null,
            "_view_module": "@jupyter-widgets/base",
            "_view_module_version": "1.2.0",
            "_view_name": "StyleView",
            "description_width": ""
          }
        },
        "b9462c069c824f969466001ed9e98a71": {
          "model_module": "@jupyter-widgets/controls",
          "model_module_version": "1.5.0",
          "model_name": "ProgressStyleModel",
          "state": {
            "_model_module": "@jupyter-widgets/controls",
            "_model_module_version": "1.5.0",
            "_model_name": "ProgressStyleModel",
            "_view_count": null,
            "_view_module": "@jupyter-widgets/base",
            "_view_module_version": "1.2.0",
            "_view_name": "StyleView",
            "bar_color": null,
            "description_width": ""
          }
        },
        "bee0c23bfe784cce9818deb3d4a54791": {
          "model_module": "@jupyter-widgets/controls",
          "model_module_version": "1.5.0",
          "model_name": "HTMLModel",
          "state": {
            "_dom_classes": [],
            "_model_module": "@jupyter-widgets/controls",
            "_model_module_version": "1.5.0",
            "_model_name": "HTMLModel",
            "_view_count": null,
            "_view_module": "@jupyter-widgets/controls",
            "_view_module_version": "1.5.0",
            "_view_name": "HTMLView",
            "description": "",
            "description_tooltip": null,
            "layout": "IPY_MODEL_a5ffba50c3144b4182792a0f7e105d57",
            "placeholder": "​",
            "style": "IPY_MODEL_e2458c74f7df4707880cabf85ffecddb",
            "value": "Retrieving data for stations: 100%"
          }
        },
        "bf55822b72b04d75b207efa21cea98cc": {
          "model_module": "@jupyter-widgets/controls",
          "model_module_version": "1.5.0",
          "model_name": "HTMLModel",
          "state": {
            "_dom_classes": [],
            "_model_module": "@jupyter-widgets/controls",
            "_model_module_version": "1.5.0",
            "_model_name": "HTMLModel",
            "_view_count": null,
            "_view_module": "@jupyter-widgets/controls",
            "_view_module_version": "1.5.0",
            "_view_name": "HTMLView",
            "description": "",
            "description_tooltip": null,
            "layout": "IPY_MODEL_ff2a240b881b4dd68c234f4c8a943610",
            "placeholder": "​",
            "style": "IPY_MODEL_f2c2d5a351924e60881cb34acbde1bf9",
            "value": " 14/14 [04:06&lt;00:00, 21.28s/it]"
          }
        },
        "c215abde2aae4c018f67e40033d7571f": {
          "model_module": "@jupyter-widgets/controls",
          "model_module_version": "1.5.0",
          "model_name": "HTMLModel",
          "state": {
            "_dom_classes": [],
            "_model_module": "@jupyter-widgets/controls",
            "_model_module_version": "1.5.0",
            "_model_name": "HTMLModel",
            "_view_count": null,
            "_view_module": "@jupyter-widgets/controls",
            "_view_module_version": "1.5.0",
            "_view_name": "HTMLView",
            "description": "",
            "description_tooltip": null,
            "layout": "IPY_MODEL_147c54cd31564dcbafdbf830e90c87ff",
            "placeholder": "​",
            "style": "IPY_MODEL_f8c89d21b802475eb4adfc2fbd9641bb",
            "value": " 14/14 [01:26&lt;00:00,  5.23s/it]"
          }
        },
        "c30733f3c9b84823aacc4449aa215740": {
          "model_module": "@jupyter-widgets/controls",
          "model_module_version": "1.5.0",
          "model_name": "HTMLModel",
          "state": {
            "_dom_classes": [],
            "_model_module": "@jupyter-widgets/controls",
            "_model_module_version": "1.5.0",
            "_model_name": "HTMLModel",
            "_view_count": null,
            "_view_module": "@jupyter-widgets/controls",
            "_view_module_version": "1.5.0",
            "_view_name": "HTMLView",
            "description": "",
            "description_tooltip": null,
            "layout": "IPY_MODEL_895a22ed894346d7a291901b12d2b72d",
            "placeholder": "​",
            "style": "IPY_MODEL_b0e98c25db34435f8dac9da45de58ef1",
            "value": "Retrieving data for stations: 100%"
          }
        },
        "c402b2ce4d474c1cb3922116dfb0bf68": {
          "model_module": "@jupyter-widgets/base",
          "model_module_version": "1.2.0",
          "model_name": "LayoutModel",
          "state": {
            "_model_module": "@jupyter-widgets/base",
            "_model_module_version": "1.2.0",
            "_model_name": "LayoutModel",
            "_view_count": null,
            "_view_module": "@jupyter-widgets/base",
            "_view_module_version": "1.2.0",
            "_view_name": "LayoutView",
            "align_content": null,
            "align_items": null,
            "align_self": null,
            "border": null,
            "bottom": null,
            "display": null,
            "flex": null,
            "flex_flow": null,
            "grid_area": null,
            "grid_auto_columns": null,
            "grid_auto_flow": null,
            "grid_auto_rows": null,
            "grid_column": null,
            "grid_gap": null,
            "grid_row": null,
            "grid_template_areas": null,
            "grid_template_columns": null,
            "grid_template_rows": null,
            "height": null,
            "justify_content": null,
            "justify_items": null,
            "left": null,
            "margin": null,
            "max_height": null,
            "max_width": null,
            "min_height": null,
            "min_width": null,
            "object_fit": null,
            "object_position": null,
            "order": null,
            "overflow": null,
            "overflow_x": null,
            "overflow_y": null,
            "padding": null,
            "right": null,
            "top": null,
            "visibility": null,
            "width": null
          }
        },
        "c5579bdb26c648668d86d609aef0141f": {
          "model_module": "@jupyter-widgets/base",
          "model_module_version": "1.2.0",
          "model_name": "LayoutModel",
          "state": {
            "_model_module": "@jupyter-widgets/base",
            "_model_module_version": "1.2.0",
            "_model_name": "LayoutModel",
            "_view_count": null,
            "_view_module": "@jupyter-widgets/base",
            "_view_module_version": "1.2.0",
            "_view_name": "LayoutView",
            "align_content": null,
            "align_items": null,
            "align_self": null,
            "border": null,
            "bottom": null,
            "display": null,
            "flex": null,
            "flex_flow": null,
            "grid_area": null,
            "grid_auto_columns": null,
            "grid_auto_flow": null,
            "grid_auto_rows": null,
            "grid_column": null,
            "grid_gap": null,
            "grid_row": null,
            "grid_template_areas": null,
            "grid_template_columns": null,
            "grid_template_rows": null,
            "height": null,
            "justify_content": null,
            "justify_items": null,
            "left": null,
            "margin": null,
            "max_height": null,
            "max_width": null,
            "min_height": null,
            "min_width": null,
            "object_fit": null,
            "object_position": null,
            "order": null,
            "overflow": null,
            "overflow_x": null,
            "overflow_y": null,
            "padding": null,
            "right": null,
            "top": null,
            "visibility": null,
            "width": null
          }
        },
        "cc5bd8b516af459caef56c0ba3216efe": {
          "model_module": "@jupyter-widgets/controls",
          "model_module_version": "1.5.0",
          "model_name": "FloatProgressModel",
          "state": {
            "_dom_classes": [],
            "_model_module": "@jupyter-widgets/controls",
            "_model_module_version": "1.5.0",
            "_model_name": "FloatProgressModel",
            "_view_count": null,
            "_view_module": "@jupyter-widgets/controls",
            "_view_module_version": "1.5.0",
            "_view_name": "ProgressView",
            "bar_style": "success",
            "description": "",
            "description_tooltip": null,
            "layout": "IPY_MODEL_4088b66d4ea84b0494914c432647166d",
            "max": 14,
            "min": 0,
            "orientation": "horizontal",
            "style": "IPY_MODEL_efe280dc94834db9a77bf73aa816cf58",
            "value": 14
          }
        },
        "ced448b7255c485da340aba113c7ee19": {
          "model_module": "@jupyter-widgets/base",
          "model_module_version": "1.2.0",
          "model_name": "LayoutModel",
          "state": {
            "_model_module": "@jupyter-widgets/base",
            "_model_module_version": "1.2.0",
            "_model_name": "LayoutModel",
            "_view_count": null,
            "_view_module": "@jupyter-widgets/base",
            "_view_module_version": "1.2.0",
            "_view_name": "LayoutView",
            "align_content": null,
            "align_items": null,
            "align_self": null,
            "border": null,
            "bottom": null,
            "display": null,
            "flex": null,
            "flex_flow": null,
            "grid_area": null,
            "grid_auto_columns": null,
            "grid_auto_flow": null,
            "grid_auto_rows": null,
            "grid_column": null,
            "grid_gap": null,
            "grid_row": null,
            "grid_template_areas": null,
            "grid_template_columns": null,
            "grid_template_rows": null,
            "height": null,
            "justify_content": null,
            "justify_items": null,
            "left": null,
            "margin": null,
            "max_height": null,
            "max_width": null,
            "min_height": null,
            "min_width": null,
            "object_fit": null,
            "object_position": null,
            "order": null,
            "overflow": null,
            "overflow_x": null,
            "overflow_y": null,
            "padding": null,
            "right": null,
            "top": null,
            "visibility": null,
            "width": null
          }
        },
        "cf977f9a1cb7465e980f716f4dd8f23d": {
          "model_module": "@jupyter-widgets/controls",
          "model_module_version": "1.5.0",
          "model_name": "DescriptionStyleModel",
          "state": {
            "_model_module": "@jupyter-widgets/controls",
            "_model_module_version": "1.5.0",
            "_model_name": "DescriptionStyleModel",
            "_view_count": null,
            "_view_module": "@jupyter-widgets/base",
            "_view_module_version": "1.2.0",
            "_view_name": "StyleView",
            "description_width": ""
          }
        },
        "d0ab66a3b9cc44a59f5645f85faa2f3a": {
          "model_module": "@jupyter-widgets/controls",
          "model_module_version": "1.5.0",
          "model_name": "FloatProgressModel",
          "state": {
            "_dom_classes": [],
            "_model_module": "@jupyter-widgets/controls",
            "_model_module_version": "1.5.0",
            "_model_name": "FloatProgressModel",
            "_view_count": null,
            "_view_module": "@jupyter-widgets/controls",
            "_view_module_version": "1.5.0",
            "_view_name": "ProgressView",
            "bar_style": "success",
            "description": "",
            "description_tooltip": null,
            "layout": "IPY_MODEL_204a076a0b434968b87e9df2373a8466",
            "max": 14,
            "min": 0,
            "orientation": "horizontal",
            "style": "IPY_MODEL_5bcb5ba7738246d595e1c47d3f78ad51",
            "value": 14
          }
        },
        "d0d4334bdf5a4c389095a58b7869fc93": {
          "model_module": "@jupyter-widgets/controls",
          "model_module_version": "1.5.0",
          "model_name": "HTMLModel",
          "state": {
            "_dom_classes": [],
            "_model_module": "@jupyter-widgets/controls",
            "_model_module_version": "1.5.0",
            "_model_name": "HTMLModel",
            "_view_count": null,
            "_view_module": "@jupyter-widgets/controls",
            "_view_module_version": "1.5.0",
            "_view_name": "HTMLView",
            "description": "",
            "description_tooltip": null,
            "layout": "IPY_MODEL_746466fff64f4d828c97a001b76e2e9b",
            "placeholder": "​",
            "style": "IPY_MODEL_2f5f61b3bea64a7881398a7607ae0676",
            "value": "Retrieving data for stations: 100%"
          }
        },
        "d2de707f5a6543abb024d1e24683f7e2": {
          "model_module": "@jupyter-widgets/controls",
          "model_module_version": "1.5.0",
          "model_name": "HTMLModel",
          "state": {
            "_dom_classes": [],
            "_model_module": "@jupyter-widgets/controls",
            "_model_module_version": "1.5.0",
            "_model_name": "HTMLModel",
            "_view_count": null,
            "_view_module": "@jupyter-widgets/controls",
            "_view_module_version": "1.5.0",
            "_view_name": "HTMLView",
            "description": "",
            "description_tooltip": null,
            "layout": "IPY_MODEL_6f4f3c9e72194939bd80be305b89e8c7",
            "placeholder": "​",
            "style": "IPY_MODEL_001282ebd77e40919dc87815645631a8",
            "value": "Retrieving data for stations: 100%"
          }
        },
        "d3a8d7f00c6044c8bf337c17f46a2e6e": {
          "model_module": "@jupyter-widgets/controls",
          "model_module_version": "1.5.0",
          "model_name": "HTMLModel",
          "state": {
            "_dom_classes": [],
            "_model_module": "@jupyter-widgets/controls",
            "_model_module_version": "1.5.0",
            "_model_name": "HTMLModel",
            "_view_count": null,
            "_view_module": "@jupyter-widgets/controls",
            "_view_module_version": "1.5.0",
            "_view_name": "HTMLView",
            "description": "",
            "description_tooltip": null,
            "layout": "IPY_MODEL_86226da5c7374a6b96a6225cb2d7f59a",
            "placeholder": "​",
            "style": "IPY_MODEL_105a1454fe654089843ce8332d081112",
            "value": " 14/14 [04:06&lt;00:00, 13.76s/it]"
          }
        },
        "d3b4c22b508841f1b98acfca669d4c91": {
          "model_module": "@jupyter-widgets/controls",
          "model_module_version": "1.5.0",
          "model_name": "HBoxModel",
          "state": {
            "_dom_classes": [],
            "_model_module": "@jupyter-widgets/controls",
            "_model_module_version": "1.5.0",
            "_model_name": "HBoxModel",
            "_view_count": null,
            "_view_module": "@jupyter-widgets/controls",
            "_view_module_version": "1.5.0",
            "_view_name": "HBoxView",
            "box_style": "",
            "children": [
              "IPY_MODEL_c30733f3c9b84823aacc4449aa215740",
              "IPY_MODEL_1a3350f5336d4a768957a354a5b7d3e3",
              "IPY_MODEL_bf55822b72b04d75b207efa21cea98cc"
            ],
            "layout": "IPY_MODEL_3b7a4df7d6ea495eb0ffdd42c1ca4c43"
          }
        },
        "d512a8039ffa438cb2b15390c25bef59": {
          "model_module": "@jupyter-widgets/controls",
          "model_module_version": "1.5.0",
          "model_name": "ProgressStyleModel",
          "state": {
            "_model_module": "@jupyter-widgets/controls",
            "_model_module_version": "1.5.0",
            "_model_name": "ProgressStyleModel",
            "_view_count": null,
            "_view_module": "@jupyter-widgets/base",
            "_view_module_version": "1.2.0",
            "_view_name": "StyleView",
            "bar_color": null,
            "description_width": ""
          }
        },
        "d849878fa32645179a9eac80c059bbbc": {
          "model_module": "@jupyter-widgets/controls",
          "model_module_version": "1.5.0",
          "model_name": "HBoxModel",
          "state": {
            "_dom_classes": [],
            "_model_module": "@jupyter-widgets/controls",
            "_model_module_version": "1.5.0",
            "_model_name": "HBoxModel",
            "_view_count": null,
            "_view_module": "@jupyter-widgets/controls",
            "_view_module_version": "1.5.0",
            "_view_name": "HBoxView",
            "box_style": "",
            "children": [
              "IPY_MODEL_d2de707f5a6543abb024d1e24683f7e2",
              "IPY_MODEL_cc5bd8b516af459caef56c0ba3216efe",
              "IPY_MODEL_d3a8d7f00c6044c8bf337c17f46a2e6e"
            ],
            "layout": "IPY_MODEL_2caaa774a582420a938165f403662eda"
          }
        },
        "db2b2206b1534bf382c22f66e951d7c8": {
          "model_module": "@jupyter-widgets/controls",
          "model_module_version": "1.5.0",
          "model_name": "FloatProgressModel",
          "state": {
            "_dom_classes": [],
            "_model_module": "@jupyter-widgets/controls",
            "_model_module_version": "1.5.0",
            "_model_name": "FloatProgressModel",
            "_view_count": null,
            "_view_module": "@jupyter-widgets/controls",
            "_view_module_version": "1.5.0",
            "_view_name": "ProgressView",
            "bar_style": "success",
            "description": "",
            "description_tooltip": null,
            "layout": "IPY_MODEL_15563ba0f7334956bf144b02e3711f0f",
            "max": 14,
            "min": 0,
            "orientation": "horizontal",
            "style": "IPY_MODEL_77d2f198db0a44018d05420e4624198e",
            "value": 14
          }
        },
        "dd8aff51a8e640628c64a46dd34612f4": {
          "model_module": "@jupyter-widgets/controls",
          "model_module_version": "1.5.0",
          "model_name": "HTMLModel",
          "state": {
            "_dom_classes": [],
            "_model_module": "@jupyter-widgets/controls",
            "_model_module_version": "1.5.0",
            "_model_name": "HTMLModel",
            "_view_count": null,
            "_view_module": "@jupyter-widgets/controls",
            "_view_module_version": "1.5.0",
            "_view_name": "HTMLView",
            "description": "",
            "description_tooltip": null,
            "layout": "IPY_MODEL_4b160dce9fff485190a3ec62bb627681",
            "placeholder": "​",
            "style": "IPY_MODEL_48042f12407b444f902d0fcccd14d841",
            "value": " 14/14 [04:01&lt;00:00, 12.62s/it]"
          }
        },
        "e2458c74f7df4707880cabf85ffecddb": {
          "model_module": "@jupyter-widgets/controls",
          "model_module_version": "1.5.0",
          "model_name": "DescriptionStyleModel",
          "state": {
            "_model_module": "@jupyter-widgets/controls",
            "_model_module_version": "1.5.0",
            "_model_name": "DescriptionStyleModel",
            "_view_count": null,
            "_view_module": "@jupyter-widgets/base",
            "_view_module_version": "1.2.0",
            "_view_name": "StyleView",
            "description_width": ""
          }
        },
        "e2a4c76fe57a4e219f4deab69705094c": {
          "model_module": "@jupyter-widgets/controls",
          "model_module_version": "1.5.0",
          "model_name": "DescriptionStyleModel",
          "state": {
            "_model_module": "@jupyter-widgets/controls",
            "_model_module_version": "1.5.0",
            "_model_name": "DescriptionStyleModel",
            "_view_count": null,
            "_view_module": "@jupyter-widgets/base",
            "_view_module_version": "1.2.0",
            "_view_name": "StyleView",
            "description_width": ""
          }
        },
        "ea7348491bc243f49a70f0181f8c3f5d": {
          "model_module": "@jupyter-widgets/base",
          "model_module_version": "1.2.0",
          "model_name": "LayoutModel",
          "state": {
            "_model_module": "@jupyter-widgets/base",
            "_model_module_version": "1.2.0",
            "_model_name": "LayoutModel",
            "_view_count": null,
            "_view_module": "@jupyter-widgets/base",
            "_view_module_version": "1.2.0",
            "_view_name": "LayoutView",
            "align_content": null,
            "align_items": null,
            "align_self": null,
            "border": null,
            "bottom": null,
            "display": null,
            "flex": null,
            "flex_flow": null,
            "grid_area": null,
            "grid_auto_columns": null,
            "grid_auto_flow": null,
            "grid_auto_rows": null,
            "grid_column": null,
            "grid_gap": null,
            "grid_row": null,
            "grid_template_areas": null,
            "grid_template_columns": null,
            "grid_template_rows": null,
            "height": null,
            "justify_content": null,
            "justify_items": null,
            "left": null,
            "margin": null,
            "max_height": null,
            "max_width": null,
            "min_height": null,
            "min_width": null,
            "object_fit": null,
            "object_position": null,
            "order": null,
            "overflow": null,
            "overflow_x": null,
            "overflow_y": null,
            "padding": null,
            "right": null,
            "top": null,
            "visibility": null,
            "width": null
          }
        },
        "ec21eff1b73c424d858fe18ff6bcf2b3": {
          "model_module": "@jupyter-widgets/base",
          "model_module_version": "1.2.0",
          "model_name": "LayoutModel",
          "state": {
            "_model_module": "@jupyter-widgets/base",
            "_model_module_version": "1.2.0",
            "_model_name": "LayoutModel",
            "_view_count": null,
            "_view_module": "@jupyter-widgets/base",
            "_view_module_version": "1.2.0",
            "_view_name": "LayoutView",
            "align_content": null,
            "align_items": null,
            "align_self": null,
            "border": null,
            "bottom": null,
            "display": null,
            "flex": null,
            "flex_flow": null,
            "grid_area": null,
            "grid_auto_columns": null,
            "grid_auto_flow": null,
            "grid_auto_rows": null,
            "grid_column": null,
            "grid_gap": null,
            "grid_row": null,
            "grid_template_areas": null,
            "grid_template_columns": null,
            "grid_template_rows": null,
            "height": null,
            "justify_content": null,
            "justify_items": null,
            "left": null,
            "margin": null,
            "max_height": null,
            "max_width": null,
            "min_height": null,
            "min_width": null,
            "object_fit": null,
            "object_position": null,
            "order": null,
            "overflow": null,
            "overflow_x": null,
            "overflow_y": null,
            "padding": null,
            "right": null,
            "top": null,
            "visibility": null,
            "width": null
          }
        },
        "efe280dc94834db9a77bf73aa816cf58": {
          "model_module": "@jupyter-widgets/controls",
          "model_module_version": "1.5.0",
          "model_name": "ProgressStyleModel",
          "state": {
            "_model_module": "@jupyter-widgets/controls",
            "_model_module_version": "1.5.0",
            "_model_name": "ProgressStyleModel",
            "_view_count": null,
            "_view_module": "@jupyter-widgets/base",
            "_view_module_version": "1.2.0",
            "_view_name": "StyleView",
            "bar_color": null,
            "description_width": ""
          }
        },
        "f2c2d5a351924e60881cb34acbde1bf9": {
          "model_module": "@jupyter-widgets/controls",
          "model_module_version": "1.5.0",
          "model_name": "DescriptionStyleModel",
          "state": {
            "_model_module": "@jupyter-widgets/controls",
            "_model_module_version": "1.5.0",
            "_model_name": "DescriptionStyleModel",
            "_view_count": null,
            "_view_module": "@jupyter-widgets/base",
            "_view_module_version": "1.2.0",
            "_view_name": "StyleView",
            "description_width": ""
          }
        },
        "f8c89d21b802475eb4adfc2fbd9641bb": {
          "model_module": "@jupyter-widgets/controls",
          "model_module_version": "1.5.0",
          "model_name": "DescriptionStyleModel",
          "state": {
            "_model_module": "@jupyter-widgets/controls",
            "_model_module_version": "1.5.0",
            "_model_name": "DescriptionStyleModel",
            "_view_count": null,
            "_view_module": "@jupyter-widgets/base",
            "_view_module_version": "1.2.0",
            "_view_name": "StyleView",
            "description_width": ""
          }
        },
        "fa23ef3e060d4faabad3ab37617644e8": {
          "model_module": "@jupyter-widgets/controls",
          "model_module_version": "1.5.0",
          "model_name": "ProgressStyleModel",
          "state": {
            "_model_module": "@jupyter-widgets/controls",
            "_model_module_version": "1.5.0",
            "_model_name": "ProgressStyleModel",
            "_view_count": null,
            "_view_module": "@jupyter-widgets/base",
            "_view_module_version": "1.2.0",
            "_view_name": "StyleView",
            "bar_color": null,
            "description_width": ""
          }
        },
        "fb0a8e8983914942a51f71abc8e0bcad": {
          "model_module": "@jupyter-widgets/base",
          "model_module_version": "1.2.0",
          "model_name": "LayoutModel",
          "state": {
            "_model_module": "@jupyter-widgets/base",
            "_model_module_version": "1.2.0",
            "_model_name": "LayoutModel",
            "_view_count": null,
            "_view_module": "@jupyter-widgets/base",
            "_view_module_version": "1.2.0",
            "_view_name": "LayoutView",
            "align_content": null,
            "align_items": null,
            "align_self": null,
            "border": null,
            "bottom": null,
            "display": null,
            "flex": null,
            "flex_flow": null,
            "grid_area": null,
            "grid_auto_columns": null,
            "grid_auto_flow": null,
            "grid_auto_rows": null,
            "grid_column": null,
            "grid_gap": null,
            "grid_row": null,
            "grid_template_areas": null,
            "grid_template_columns": null,
            "grid_template_rows": null,
            "height": null,
            "justify_content": null,
            "justify_items": null,
            "left": null,
            "margin": null,
            "max_height": null,
            "max_width": null,
            "min_height": null,
            "min_width": null,
            "object_fit": null,
            "object_position": null,
            "order": null,
            "overflow": null,
            "overflow_x": null,
            "overflow_y": null,
            "padding": null,
            "right": null,
            "top": null,
            "visibility": null,
            "width": null
          }
        },
        "ff2a240b881b4dd68c234f4c8a943610": {
          "model_module": "@jupyter-widgets/base",
          "model_module_version": "1.2.0",
          "model_name": "LayoutModel",
          "state": {
            "_model_module": "@jupyter-widgets/base",
            "_model_module_version": "1.2.0",
            "_model_name": "LayoutModel",
            "_view_count": null,
            "_view_module": "@jupyter-widgets/base",
            "_view_module_version": "1.2.0",
            "_view_name": "LayoutView",
            "align_content": null,
            "align_items": null,
            "align_self": null,
            "border": null,
            "bottom": null,
            "display": null,
            "flex": null,
            "flex_flow": null,
            "grid_area": null,
            "grid_auto_columns": null,
            "grid_auto_flow": null,
            "grid_auto_rows": null,
            "grid_column": null,
            "grid_gap": null,
            "grid_row": null,
            "grid_template_areas": null,
            "grid_template_columns": null,
            "grid_template_rows": null,
            "height": null,
            "justify_content": null,
            "justify_items": null,
            "left": null,
            "margin": null,
            "max_height": null,
            "max_width": null,
            "min_height": null,
            "min_width": null,
            "object_fit": null,
            "object_position": null,
            "order": null,
            "overflow": null,
            "overflow_x": null,
            "overflow_y": null,
            "padding": null,
            "right": null,
            "top": null,
            "visibility": null,
            "width": null
          }
        },
        "ffd124125988440d95c8a3c9a8c7e43f": {
          "model_module": "@jupyter-widgets/controls",
          "model_module_version": "1.5.0",
          "model_name": "HTMLModel",
          "state": {
            "_dom_classes": [],
            "_model_module": "@jupyter-widgets/controls",
            "_model_module_version": "1.5.0",
            "_model_name": "HTMLModel",
            "_view_count": null,
            "_view_module": "@jupyter-widgets/controls",
            "_view_module_version": "1.5.0",
            "_view_name": "HTMLView",
            "description": "",
            "description_tooltip": null,
            "layout": "IPY_MODEL_362df685d50f4dcaba3de3a1d8e81d35",
            "placeholder": "​",
            "style": "IPY_MODEL_e2a4c76fe57a4e219f4deab69705094c",
            "value": " 8/8 [01:37&lt;00:00,  9.70s/it]"
          }
        }
      }
    }
  },
  "nbformat": 4,
  "nbformat_minor": 0
}
